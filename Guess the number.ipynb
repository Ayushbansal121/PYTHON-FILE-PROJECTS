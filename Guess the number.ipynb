{
 "cells": [
  {
   "cell_type": "code",
   "execution_count": 8,
   "id": "2a6ea4ba",
   "metadata": {},
   "outputs": [
    {
     "name": "stdout",
     "output_type": "stream",
     "text": [
      "enter the number 3\n",
      "enter the number 2\n",
      "well guessed! 2\n"
     ]
    }
   ],
   "source": [
    "import random\n",
    "guess=0\n",
    "random=random.randint(1,10)\n",
    "while guess!=random:\n",
    "    guess=int(input('enter the number '))\n",
    "print('well guessed!',random)"
   ]
  },
  {
   "cell_type": "code",
   "execution_count": 30,
   "id": "220283eb",
   "metadata": {},
   "outputs": [
    {
     "name": "stdout",
     "output_type": "stream",
     "text": [
      "Is 45 too high (H), too low (L), or correct (C)? h\n",
      "Is 31 too high (H), too low (L), or correct (C)? l\n",
      "Is 37 too high (H), too low (L), or correct (C)? l\n",
      "Is 44 too high (H), too low (L), or correct (C)? h\n",
      "Is 41 too high (H), too low (L), or correct (C)? h\n",
      "Is 39 too high (H), too low (L), or correct (C)? l\n",
      "Is 40 too high (H), too low (L), or correct (C)? c\n",
      "Yay, Congrats! Computer guessed the right number: 40\n"
     ]
    }
   ],
   "source": [
    "import random\n",
    "\n",
    "def guess(x):\n",
    "    random_n = random.randint(1, x)\n",
    "    user_guess = 0\n",
    "\n",
    "    while user_guess != random_n:\n",
    "        user_guess = int(input(f'Enter a number between 1 and {x}: '))\n",
    "        if user_guess < random_n:\n",
    "            print(f\" Sorry guess again. Too low! \")\n",
    "        elif user_guess < random_n:\n",
    "            print(f\" Sorry guess again. Too High! \")\n",
    "    \n",
    "    print(f\" Yay ,Congrats. You have guessed the right number__{random_n}\")\n",
    "def computer_guess(x):\n",
    "    low = 1\n",
    "    high = x\n",
    "    feedback = ''\n",
    "    \n",
    "    while feedback != 'c':\n",
    "        if low <= high:\n",
    "            guess = random.randint(low, high)\n",
    "        else:\n",
    "            guess = low  \n",
    "        \n",
    "        feedback = input(f\"Is {guess} too high (H), too low (L), or correct (C)? \").lower()\n",
    "        \n",
    "        if feedback == 'h':\n",
    "            high = guess - 1\n",
    "        elif feedback == 'l':\n",
    "            low = guess + 1\n",
    "    \n",
    "    print(f\"Yay, Congrats! Computer guessed the right number: {guess}\")\n",
    "\n",
    "computer_guess(100)\n"
   ]
  },
  {
   "cell_type": "code",
   "execution_count": null,
   "id": "6a179bf6",
   "metadata": {},
   "outputs": [],
   "source": []
  }
 ],
 "metadata": {
  "kernelspec": {
   "display_name": "Python 3 (ipykernel)",
   "language": "python",
   "name": "python3"
  },
  "language_info": {
   "codemirror_mode": {
    "name": "ipython",
    "version": 3
   },
   "file_extension": ".py",
   "mimetype": "text/x-python",
   "name": "python",
   "nbconvert_exporter": "python",
   "pygments_lexer": "ipython3",
   "version": "3.9.12"
  }
 },
 "nbformat": 4,
 "nbformat_minor": 5
}

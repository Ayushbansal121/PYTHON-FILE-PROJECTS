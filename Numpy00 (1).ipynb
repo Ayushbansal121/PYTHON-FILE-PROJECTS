{
 "cells": [
  {
   "cell_type": "code",
   "execution_count": 1,
   "id": "51c7f07a",
   "metadata": {},
   "outputs": [],
   "source": [
    "# Numpy is a library/package for mathematical computing and processing multi dimesiaonl array\n",
    "#Numpy = numeric python\n",
    "#It is written in C\n",
    "#It excutes element wise oprations and mathematicals calculations \n",
    "#the core data sturucture of numpy is : ndarray\n",
    "## Array is used to store the homogenous data\n",
    "## Numpy is a powerful tool to  handling large amounnt of data using ndarray  in terms of computing  speed  and memory\n",
    "## its executes eliment way to store and manupulating the data "
   ]
  },
  {
   "cell_type": "markdown",
   "id": "bf1f763a",
   "metadata": {},
   "source": []
  },
  {
   "cell_type": "code",
   "execution_count": 2,
   "id": "9939769e",
   "metadata": {},
   "outputs": [
    {
     "data": {
      "text/plain": [
       "[(400, 40), (300, 50), (200, 70), (100, 60)]"
      ]
     },
     "execution_count": 2,
     "metadata": {},
     "output_type": "execute_result"
    }
   ],
   "source": [
    "import numpy as np \n",
    "d1=np.array([400,300,200,100])\n",
    "spd1=np.array([40,50,70,60])\n",
    "l=list(zip(d1,spd1))\n",
    "l\n"
   ]
  },
  {
   "cell_type": "code",
   "execution_count": 3,
   "id": "79986be9",
   "metadata": {},
   "outputs": [
    {
     "data": {
      "text/plain": [
       "[[400, 40], [300, 50], [200, 70], [100, 60]]"
      ]
     },
     "execution_count": 3,
     "metadata": {},
     "output_type": "execute_result"
    }
   ],
   "source": [
    "l1=[]\n",
    "for i in l:\n",
    "    main=[]\n",
    "    for j in i:\n",
    "        main.append(j)\n",
    "    l1.append(main)\n",
    "l1"
   ]
  },
  {
   "cell_type": "code",
   "execution_count": 4,
   "id": "d8fc98db",
   "metadata": {},
   "outputs": [
    {
     "data": {
      "text/plain": [
       "[10.0, 6.0, 2.857142857142857, 1.6666666666666667]"
      ]
     },
     "execution_count": 4,
     "metadata": {},
     "output_type": "execute_result"
    }
   ],
   "source": [
    "time=[]\n",
    "for h in l1:\n",
    "    time.append(h[0]/h[1])\n",
    "time"
   ]
  },
  {
   "cell_type": "markdown",
   "id": "2469a108",
   "metadata": {},
   "source": [
    "# Array "
   ]
  },
  {
   "cell_type": "code",
   "execution_count": 5,
   "id": "46972d0c",
   "metadata": {},
   "outputs": [
    {
     "data": {
      "text/plain": [
       "array([10.        ,  6.        ,  2.85714286,  1.66666667])"
      ]
     },
     "execution_count": 5,
     "metadata": {},
     "output_type": "execute_result"
    }
   ],
   "source": [
    "d1=np.array([400,300,200,100])\n",
    "spd1=np.array([40,50,70,60])\n",
    "d1/spd1"
   ]
  },
  {
   "cell_type": "code",
   "execution_count": 6,
   "id": "90de014a",
   "metadata": {},
   "outputs": [
    {
     "data": {
      "text/plain": [
       "numpy.ndarray"
      ]
     },
     "execution_count": 6,
     "metadata": {},
     "output_type": "execute_result"
    }
   ],
   "source": [
    "a=np.array([1,2,3,5,6,7]) # array creation from list\n",
    "type(a)"
   ]
  },
  {
   "cell_type": "markdown",
   "id": "b76d1b48",
   "metadata": {},
   "source": [
    "### we create from list and tuple"
   ]
  },
  {
   "cell_type": "code",
   "execution_count": 7,
   "id": "f12083e2",
   "metadata": {},
   "outputs": [
    {
     "data": {
      "text/plain": [
       "dtype('int32')"
      ]
     },
     "execution_count": 7,
     "metadata": {},
     "output_type": "execute_result"
    }
   ],
   "source": [
    "a=np.array([1,2,3,5,6,7]) # array creation from list\n",
    "type(a)\n",
    "a.dtype"
   ]
  },
  {
   "cell_type": "code",
   "execution_count": 8,
   "id": "af6891a8",
   "metadata": {},
   "outputs": [
    {
     "data": {
      "text/plain": [
       "array([[ 20,  30,  70,  40],\n",
       "       [100, 200, 300, 700]])"
      ]
     },
     "execution_count": 8,
     "metadata": {},
     "output_type": "execute_result"
    }
   ],
   "source": [
    "a2=np.array([[20,30,70,40],[100,200,300,700]]) # creation of 2d array\n",
    "a2"
   ]
  },
  {
   "cell_type": "code",
   "execution_count": 9,
   "id": "b91a5215",
   "metadata": {},
   "outputs": [
    {
     "data": {
      "text/plain": [
       "array([[[ 20,  30,  40],\n",
       "        [ 50,  60,  70]],\n",
       "\n",
       "       [[ 80,  90, 100],\n",
       "        [ 70,  80,  90]]])"
      ]
     },
     "execution_count": 9,
     "metadata": {},
     "output_type": "execute_result"
    }
   ],
   "source": [
    "z=np.array([[[20,30,40],[50,60,70]],[[80,90,100],[70,80,90]]])\n",
    "z"
   ]
  },
  {
   "cell_type": "code",
   "execution_count": 10,
   "id": "a9fd61f5",
   "metadata": {},
   "outputs": [
    {
     "data": {
      "text/plain": [
       "array('Ayush', dtype='<U5')"
      ]
     },
     "execution_count": 10,
     "metadata": {},
     "output_type": "execute_result"
    }
   ],
   "source": [
    "z1=np.array('Ayush')\n",
    "z1"
   ]
  },
  {
   "cell_type": "code",
   "execution_count": 11,
   "id": "d96a6a01",
   "metadata": {},
   "outputs": [
    {
     "data": {
      "text/plain": [
       "array([[[ 20,  30,  70,  40],\n",
       "        [100, 200, 300, 700]],\n",
       "\n",
       "       [[ 10,  30,  40, 450],\n",
       "        [100, 200, 300, 700]]])"
      ]
     },
     "execution_count": 11,
     "metadata": {},
     "output_type": "execute_result"
    }
   ],
   "source": [
    "a3=np.array([[[20,30,70,40],[100,200,300,700]],[[10,30,40,450],[100,200,300,700]]])\n",
    "a3"
   ]
  },
  {
   "cell_type": "code",
   "execution_count": 12,
   "id": "f4134bde",
   "metadata": {},
   "outputs": [
    {
     "data": {
      "text/plain": [
       "array([20, 40, 50])"
      ]
     },
     "execution_count": 12,
     "metadata": {},
     "output_type": "execute_result"
    }
   ],
   "source": [
    "x=np.array((20,40,50)) #creation of array from tuple\n",
    "x"
   ]
  },
  {
   "cell_type": "markdown",
   "id": "7dbcd697",
   "metadata": {},
   "source": [
    "# ndim: no dimension"
   ]
  },
  {
   "cell_type": "code",
   "execution_count": 13,
   "id": "3311f1fb",
   "metadata": {},
   "outputs": [
    {
     "data": {
      "text/plain": [
       "3"
      ]
     },
     "execution_count": 13,
     "metadata": {},
     "output_type": "execute_result"
    }
   ],
   "source": [
    "x1=np.array([[[20,30,40],[40,50,60]],[[10,20,30],[90,20,40]]]) # 3d array\n",
    "x1.ndim"
   ]
  },
  {
   "cell_type": "code",
   "execution_count": 14,
   "id": "78a8d96f",
   "metadata": {},
   "outputs": [
    {
     "data": {
      "text/plain": [
       "4"
      ]
     },
     "execution_count": 14,
     "metadata": {},
     "output_type": "execute_result"
    }
   ],
   "source": [
    "x2=np.array([[[[20,30,50],[30,40,50],[20,40,50]]],[[[20,30,50],[30,40,50],[20,40,50]]]]) # 4d array\n",
    "x2.ndim"
   ]
  },
  {
   "cell_type": "code",
   "execution_count": 15,
   "id": "7a3d4213",
   "metadata": {},
   "outputs": [
    {
     "data": {
      "text/plain": [
       "2"
      ]
     },
     "execution_count": 15,
     "metadata": {},
     "output_type": "execute_result"
    }
   ],
   "source": [
    "a2=np.array([[20,30,70,40],[100,200,300,700]]) # creation of 2d array\n",
    "a2.ndim"
   ]
  },
  {
   "cell_type": "code",
   "execution_count": 16,
   "id": "a830205d",
   "metadata": {},
   "outputs": [
    {
     "data": {
      "text/plain": [
       "1"
      ]
     },
     "execution_count": 16,
     "metadata": {},
     "output_type": "execute_result"
    }
   ],
   "source": [
    "x=np.array([20,30,50])\n",
    "x.ndim"
   ]
  },
  {
   "cell_type": "code",
   "execution_count": 17,
   "id": "20ed7337",
   "metadata": {},
   "outputs": [
    {
     "data": {
      "text/plain": [
       "5"
      ]
     },
     "execution_count": 17,
     "metadata": {},
     "output_type": "execute_result"
    }
   ],
   "source": [
    "x=np.array([[[[[20,30,40]]]]]) # calculate the dimension by no square bracket open\n",
    "x.ndim"
   ]
  },
  {
   "cell_type": "code",
   "execution_count": 18,
   "id": "b98e7259",
   "metadata": {},
   "outputs": [
    {
     "name": "stdout",
     "output_type": "stream",
     "text": [
      "0\n",
      "0\n",
      "1\n",
      "2\n",
      "3\n",
      "4\n",
      "2\n",
      "5\n"
     ]
    }
   ],
   "source": [
    "a = np.array(42)\n",
    "b = np.array([1, 2, 3, 4, 5]) # in  single dimension we can not judge the rows and columns\n",
    "c = np.array([[1, 2, 3], [4, 5, 6]])\n",
    "d = np.array([[[1, 2, 3], [4, 5, 6]], [[1, 2, 3], [4, 5, 6]]])\n",
    "e=np.array([[[[1, 2, 3], [4, 5, 6]]]])\n",
    "f=np.array([[2,3,4,5]])\n",
    "g=np.array([[[[[20,30]]]]])\n",
    "print(a.ndim)\n",
    "print(np.ndim(a))\n",
    "print(b.ndim)\n",
    "print(c.ndim)\n",
    "print(d.ndim)\n",
    "print(e.ndim)\n",
    "print(f.ndim)\n",
    "print(g.ndim)"
   ]
  },
  {
   "cell_type": "markdown",
   "id": "c2bf63cd",
   "metadata": {},
   "source": [
    "# ndmin: for minimum dimension"
   ]
  },
  {
   "cell_type": "code",
   "execution_count": 19,
   "id": "94115fb5",
   "metadata": {},
   "outputs": [
    {
     "data": {
      "text/plain": [
       "array([[[[[[[20, 30, 40, 50]]]]]]])"
      ]
     },
     "execution_count": 19,
     "metadata": {},
     "output_type": "execute_result"
    }
   ],
   "source": [
    "x=np.array([20,30,40,50],ndmin=7) # it gives the minimum dimension\n",
    "x"
   ]
  },
  {
   "cell_type": "markdown",
   "id": "1151eed0",
   "metadata": {},
   "source": [
    "# shape\n",
    "#### The shape of an array defined  as the number of elements in each dimension"
   ]
  },
  {
   "cell_type": "code",
   "execution_count": 20,
   "id": "37ec75a9",
   "metadata": {},
   "outputs": [
    {
     "data": {
      "text/plain": [
       "(2, 2, 3)"
      ]
     },
     "execution_count": 20,
     "metadata": {},
     "output_type": "execute_result"
    }
   ],
   "source": [
    "d = np.array([[[1, 2, 3], [4, 5, 6]], [[1, 2, 3], [4, 5, 6]]])\n",
    "d.shape"
   ]
  },
  {
   "cell_type": "code",
   "execution_count": 21,
   "id": "46a8568c",
   "metadata": {},
   "outputs": [
    {
     "data": {
      "text/plain": [
       "(2, 4)"
      ]
     },
     "execution_count": 21,
     "metadata": {},
     "output_type": "execute_result"
    }
   ],
   "source": [
    "z=np.array([[2,3,4,5],[4,5,6,7]])\n",
    "z.shape"
   ]
  },
  {
   "cell_type": "code",
   "execution_count": 22,
   "id": "5550d306",
   "metadata": {},
   "outputs": [
    {
     "data": {
      "text/plain": [
       "(3, 4)"
      ]
     },
     "execution_count": 22,
     "metadata": {},
     "output_type": "execute_result"
    }
   ],
   "source": [
    "z=np.array([[2,3,4,5],[4,5,6,7],[9,4,3,2]])\n",
    "z.shape"
   ]
  },
  {
   "cell_type": "code",
   "execution_count": 23,
   "id": "f1e8c6aa",
   "metadata": {},
   "outputs": [
    {
     "data": {
      "text/plain": [
       "(1, 5)"
      ]
     },
     "execution_count": 23,
     "metadata": {},
     "output_type": "execute_result"
    }
   ],
   "source": [
    "z=np.array([[2,3,4,8,9]])\n",
    "z.shape\n"
   ]
  },
  {
   "cell_type": "code",
   "execution_count": 24,
   "id": "3dd7a9ee",
   "metadata": {},
   "outputs": [
    {
     "data": {
      "text/plain": [
       "(1, 2, 3)"
      ]
     },
     "execution_count": 24,
     "metadata": {},
     "output_type": "execute_result"
    }
   ],
   "source": [
    "k=np.array([[[1,3,3],[3,4,5]]])\n",
    "k.shape"
   ]
  },
  {
   "cell_type": "code",
   "execution_count": 25,
   "id": "ae80ef1f",
   "metadata": {},
   "outputs": [
    {
     "name": "stdout",
     "output_type": "stream",
     "text": [
      "(1, 1, 1, 1, 1, 3, 3)\n"
     ]
    }
   ],
   "source": [
    "k=np.array([[[[[[[2,3,4],[45,78,90],[50,90,89]]]]]]])\n",
    "print(k.shape)"
   ]
  },
  {
   "cell_type": "code",
   "execution_count": 26,
   "id": "ad78cea1",
   "metadata": {},
   "outputs": [
    {
     "data": {
      "text/plain": [
       "(1, 1, 1, 1, 1, 1, 1, 4)"
      ]
     },
     "execution_count": 26,
     "metadata": {},
     "output_type": "execute_result"
    }
   ],
   "source": [
    "a=np.array([[[[[[[[\"pizza\",\"sweet corn\",\"coffee\",\"lemonade\"]]]]]]]])\n",
    "a.shape"
   ]
  },
  {
   "cell_type": "code",
   "execution_count": 27,
   "id": "c933663f",
   "metadata": {},
   "outputs": [
    {
     "data": {
      "text/plain": [
       "(2, 4, 2)"
      ]
     },
     "execution_count": 27,
     "metadata": {},
     "output_type": "execute_result"
    }
   ],
   "source": [
    "a=np.array([[[2,3],[4,4],[5,6],[6,2]],[[3,4],[5,6],[3,4],[4,5]]])\n",
    "a.shape"
   ]
  },
  {
   "cell_type": "code",
   "execution_count": 28,
   "id": "4c627bc9",
   "metadata": {},
   "outputs": [
    {
     "data": {
      "text/plain": [
       "(9, 4, 2)"
      ]
     },
     "execution_count": 28,
     "metadata": {},
     "output_type": "execute_result"
    }
   ],
   "source": [
    "a=np.array([[[2,3],[4,4],[5,6],[6,2]],[[3,4],[5,6],[3,4],[4,5]],[[2,3],[4,4],[5,6],[6,2]],[[3,4],[5,6],[3,4],[4,5]],[[2,3],[4,4],[5,6],[6,2]],[[3,4],[5,6],[3,4],[4,5]],[[2,3],[4,4],[5,6],[6,2]],[[3,4],[5,6],[3,4],[4,5]],[[3,4],[5,6],[3,4],[4,5]]])\n",
    "a.shape"
   ]
  },
  {
   "cell_type": "code",
   "execution_count": 29,
   "id": "7fc37ec5",
   "metadata": {},
   "outputs": [
    {
     "data": {
      "text/plain": [
       "(1, 1, 3, 3, 3)"
      ]
     },
     "execution_count": 29,
     "metadata": {},
     "output_type": "execute_result"
    }
   ],
   "source": [
    "a=np.array([[[[[2,3,3],[5,4,4],[7,5,6]],[[2,3,3],[5,4,4],[7,5,6]],[[2,3,3],[5,4,4],[7,5,6]]]]])\n",
    "a.shape"
   ]
  },
  {
   "cell_type": "markdown",
   "id": "ecaa71fc",
   "metadata": {},
   "source": [
    "# Size\n",
    "#### Total no of element in the array"
   ]
  },
  {
   "cell_type": "code",
   "execution_count": 30,
   "id": "8af9c75b",
   "metadata": {},
   "outputs": [
    {
     "data": {
      "text/plain": [
       "4"
      ]
     },
     "execution_count": 30,
     "metadata": {},
     "output_type": "execute_result"
    }
   ],
   "source": [
    "a=np.array([2,3,4,5])\n",
    "np.size(a)\n",
    "np.size(a,axis=0)"
   ]
  },
  {
   "cell_type": "code",
   "execution_count": 31,
   "id": "962e6634",
   "metadata": {},
   "outputs": [
    {
     "data": {
      "text/plain": [
       "2"
      ]
     },
     "execution_count": 31,
     "metadata": {},
     "output_type": "execute_result"
    }
   ],
   "source": [
    "a=np.array([[[1,2,3,4],[5,6,7,8]],[[1,3,4,5],[5,6,7,7]]])\n",
    "np.size(a)\n",
    "np.size(a,axis=0)"
   ]
  },
  {
   "cell_type": "markdown",
   "id": "9f06c426",
   "metadata": {},
   "source": [
    "# Itemsize\n",
    "#### Memory occupied by each element in bytes"
   ]
  },
  {
   "cell_type": "code",
   "execution_count": 32,
   "id": "9e20f3d9",
   "metadata": {},
   "outputs": [
    {
     "name": "stdout",
     "output_type": "stream",
     "text": [
      "4\n",
      "4\n",
      "16\n",
      "int32\n"
     ]
    }
   ],
   "source": [
    "x=np.array([2,4,5,6])\n",
    "print(x.size)\n",
    "print(x.itemsize)\n",
    "print(x.size*x.itemsize)\n",
    "print(x.dtype) # dtype float by default"
   ]
  },
  {
   "cell_type": "markdown",
   "id": "f570e75c",
   "metadata": {},
   "source": [
    "# ones\n",
    "### Give float  by default "
   ]
  },
  {
   "cell_type": "code",
   "execution_count": 33,
   "id": "c0f190c7",
   "metadata": {},
   "outputs": [
    {
     "name": "stdout",
     "output_type": "stream",
     "text": [
      "[[1. 1. 1. 1.]\n",
      " [1. 1. 1. 1.]]\n"
     ]
    },
    {
     "data": {
      "text/plain": [
       "dtype('float64')"
      ]
     },
     "execution_count": 33,
     "metadata": {},
     "output_type": "execute_result"
    }
   ],
   "source": [
    "x=np.ones((2,4))\n",
    "print(x)\n",
    "x.dtype"
   ]
  },
  {
   "cell_type": "code",
   "execution_count": 34,
   "id": "ca3d2171",
   "metadata": {},
   "outputs": [
    {
     "name": "stdout",
     "output_type": "stream",
     "text": [
      "[[[1.]\n",
      "  [1.]\n",
      "  [1.]]\n",
      "\n",
      " [[1.]\n",
      "  [1.]\n",
      "  [1.]]]\n"
     ]
    },
    {
     "data": {
      "text/plain": [
       "dtype('float64')"
      ]
     },
     "execution_count": 34,
     "metadata": {},
     "output_type": "execute_result"
    }
   ],
   "source": [
    "x=np.ones((2,3,1))\n",
    "print(x)\n",
    "x.dtype"
   ]
  },
  {
   "cell_type": "markdown",
   "id": "918a9429",
   "metadata": {},
   "source": [
    "# Astype\n",
    "#### Convert the existing type to diff type"
   ]
  },
  {
   "cell_type": "code",
   "execution_count": 35,
   "id": "c51af8e7",
   "metadata": {},
   "outputs": [
    {
     "name": "stdout",
     "output_type": "stream",
     "text": [
      "[[[1. 1. 1. 1. 1. 1.]\n",
      "  [1. 1. 1. 1. 1. 1.]\n",
      "  [1. 1. 1. 1. 1. 1.]\n",
      "  [1. 1. 1. 1. 1. 1.]]\n",
      "\n",
      " [[1. 1. 1. 1. 1. 1.]\n",
      "  [1. 1. 1. 1. 1. 1.]\n",
      "  [1. 1. 1. 1. 1. 1.]\n",
      "  [1. 1. 1. 1. 1. 1.]]]\n",
      "[[[1 1 1 1 1 1]\n",
      "  [1 1 1 1 1 1]\n",
      "  [1 1 1 1 1 1]\n",
      "  [1 1 1 1 1 1]]\n",
      "\n",
      " [[1 1 1 1 1 1]\n",
      "  [1 1 1 1 1 1]\n",
      "  [1 1 1 1 1 1]\n",
      "  [1 1 1 1 1 1]]]\n"
     ]
    }
   ],
   "source": [
    "x=np.ones((2,4,6))\n",
    "print(x)\n",
    "print(x.astype('int'))   # float to int"
   ]
  },
  {
   "cell_type": "markdown",
   "id": "4c1dfb42",
   "metadata": {},
   "source": [
    "# List vs Array\n",
    "1.Array performs direct operations on array gives more comfort to handle operations | List is used to collect items that usually consist of elements of multiple data types\\\n",
    "2.Array are faster than list | List works slower than array\\\n",
    "3.Array  takes less resource memory | List consumes larger memory\\\n",
    "4.In Array data store in contigious memory than list thats why array are faster | List favors a shorter sequence of data"
   ]
  },
  {
   "cell_type": "code",
   "execution_count": 36,
   "id": "34684f50",
   "metadata": {},
   "outputs": [
    {
     "name": "stdout",
     "output_type": "stream",
     "text": [
      "856\n",
      "4\n",
      "list takes : 85600 bytes\n",
      "array takes :  400 bytes\n"
     ]
    }
   ],
   "source": [
    "import sys\n",
    "l=list(range(100))\n",
    "a=np.arange(100)\n",
    "print(sys.getsizeof(l))\n",
    "print(a.itemsize)\n",
    "print(\"list takes :\",sys.getsizeof(l)*len(l),\"bytes\")  ##ys.getsizeof(l) : size of each element in the list\n",
    "print(\"array takes : \",a.itemsize*a.size,\"bytes\" ) ## itemsize: size of each element in the array."
   ]
  },
  {
   "cell_type": "markdown",
   "id": "61e38b6b",
   "metadata": {},
   "source": [
    "# Indexing and slicing "
   ]
  },
  {
   "cell_type": "code",
   "execution_count": 37,
   "id": "6523e193",
   "metadata": {},
   "outputs": [
    {
     "name": "stdout",
     "output_type": "stream",
     "text": [
      "[4 5 6]\n",
      "[5]\n",
      "[6]\n",
      "[2 4 5]\n",
      "6\n",
      "[4]\n",
      "[6 4]\n",
      "[5]\n",
      "[4]\n",
      "[4 6]\n"
     ]
    }
   ],
   "source": [
    "x=np.array([2,4,5,6])\n",
    "print(x[1:])\n",
    "print(x[2:3])\n",
    "print(x[3:])\n",
    "print(x[:3])\n",
    "print(x[-1])\n",
    "print(x[1:3:2])\n",
    "print(x[::-2])\n",
    "print(x[2:-1])\n",
    "print(x[1:5:3])\n",
    "print(x[1:5:2])"
   ]
  },
  {
   "cell_type": "code",
   "execution_count": 38,
   "id": "c1132562",
   "metadata": {},
   "outputs": [
    {
     "name": "stdout",
     "output_type": "stream",
     "text": [
      "[2 3 4 5 6]\n",
      "[20 30 40 50 90]\n",
      "40\n",
      "[50 90]\n",
      "[[ 3  6]\n",
      " [ 8 90]\n",
      " [30 90]]\n",
      "[[ 2  5]\n",
      " [20 50]]\n",
      "[[ 2  3  4  5  6]\n",
      " [20 30 40 50 90]]\n"
     ]
    }
   ],
   "source": [
    "a=np.array([[2,3,4,5,6],[7,8,9,0,90],[20,30,40,50,90]])\n",
    "print(a[0])\n",
    "print(a[-1])\n",
    "print(a[-1][2])\n",
    "print(a[-1][3:])\n",
    "print(a[:,1:5:3])\n",
    "print(a[0:3:2,0:4:3])\n",
    "print(a[0:4:2])"
   ]
  },
  {
   "cell_type": "code",
   "execution_count": 39,
   "id": "b7061951",
   "metadata": {},
   "outputs": [
    {
     "name": "stdout",
     "output_type": "stream",
     "text": [
      "[[[[[[[['pizza' 'sweet corn' 'coffee' 'lemonade']]]]]]]]\n"
     ]
    }
   ],
   "source": [
    "a=np.array([[[[[[[[\"pizza\",\"sweet corn\",\"coffee\",\"lemonade\"]]]]]]]])\n",
    "a.shape\n",
    "print(a)"
   ]
  },
  {
   "cell_type": "code",
   "execution_count": 40,
   "id": "bf5a46a4",
   "metadata": {},
   "outputs": [
    {
     "name": "stdout",
     "output_type": "stream",
     "text": [
      "98\n"
     ]
    }
   ],
   "source": [
    "a=np.array([[[[[1,2,3,50,],[4,5,6,90],[7,8,9,99],[11,12,3,98]]]]]) \n",
    "print(a[0][0][0][-1][-1])"
   ]
  },
  {
   "cell_type": "code",
   "execution_count": 41,
   "id": "8b8f8901",
   "metadata": {},
   "outputs": [
    {
     "name": "stdout",
     "output_type": "stream",
     "text": [
      "6\n",
      "[[ 1  2  3 50]\n",
      " [ 4  5  6 90]\n",
      " [ 7  8  9  9]\n",
      " [11 12  3 98]]\n"
     ]
    }
   ],
   "source": [
    "a=np.array([[[[[1,2,3,50,],[4,5,6,90],[7,8,9,9],[11,12,3,98]]]]]) \n",
    "print(a[0][0][0][1][2])\n",
    "print(a[0][0][0])"
   ]
  },
  {
   "cell_type": "code",
   "execution_count": 42,
   "id": "9b098710",
   "metadata": {},
   "outputs": [
    {
     "name": "stdout",
     "output_type": "stream",
     "text": [
      "[13 15]\n"
     ]
    }
   ],
   "source": [
    "a = np.array([[[[1,2,3,4,5],[6,7,8,9,0],[11,12,13,14,15],[16,17,18,19,20]]]])\n",
    "print(a[0][0][2][2:5:2])"
   ]
  },
  {
   "cell_type": "code",
   "execution_count": 43,
   "id": "4d421d2c",
   "metadata": {},
   "outputs": [
    {
     "name": "stdout",
     "output_type": "stream",
     "text": [
      "[7 8 9]\n",
      "[5 6]\n",
      "[11 12]\n"
     ]
    }
   ],
   "source": [
    "a = np.array([[[1,2,3],[4,5,6]],[[7,8,9],[10,11,12]]])\n",
    "print(a[1][0])\n",
    "print(a[0][1][1:])\n",
    "print(a[1][1][1:])"
   ]
  },
  {
   "cell_type": "markdown",
   "id": "9b2013ed",
   "metadata": {},
   "source": [
    "### Indexing with Boolean : From EDA point of view"
   ]
  },
  {
   "cell_type": "code",
   "execution_count": 44,
   "id": "6cacb611",
   "metadata": {},
   "outputs": [
    {
     "data": {
      "text/plain": [
       "array([[ 20,  30,  60],\n",
       "       [ 40,  80,  90],\n",
       "       [ 70,  90, 100]])"
      ]
     },
     "execution_count": 44,
     "metadata": {},
     "output_type": "execute_result"
    }
   ],
   "source": [
    "import numpy as np\n",
    "a = np.array([[20,30,60],[40,80,90],[70,90,100]])\n",
    "a"
   ]
  },
  {
   "cell_type": "code",
   "execution_count": 45,
   "id": "f3b0f95c",
   "metadata": {},
   "outputs": [
    {
     "data": {
      "text/plain": [
       "array([20, 30])"
      ]
     },
     "execution_count": 45,
     "metadata": {},
     "output_type": "execute_result"
    }
   ],
   "source": [
    "a[a<40] # masking"
   ]
  },
  {
   "cell_type": "code",
   "execution_count": 46,
   "id": "ae8c4469",
   "metadata": {},
   "outputs": [
    {
     "data": {
      "text/plain": [
       "array([['90', '90', 'nan'],\n",
       "       ['nan', 'nan', 'nan'],\n",
       "       ['nan', 'nan', 'nan']], dtype='<U11')"
      ]
     },
     "execution_count": 46,
     "metadata": {},
     "output_type": "execute_result"
    }
   ],
   "source": [
    "np.where(a<40,90,'nan')"
   ]
  },
  {
   "cell_type": "code",
   "execution_count": 175,
   "id": "76eae1ac",
   "metadata": {},
   "outputs": [
    {
     "data": {
      "text/plain": [
       "array([], dtype=int32)"
      ]
     },
     "execution_count": 175,
     "metadata": {},
     "output_type": "execute_result"
    }
   ],
   "source": [
    "a[(a%2==0) & (a>40)]"
   ]
  },
  {
   "cell_type": "code",
   "execution_count": null,
   "id": "896a57b6",
   "metadata": {},
   "outputs": [],
   "source": [
    "l=[[20,30,40,50,70,80],[78,90,98,56,18]]\n",
    "l1=[]\n",
    "for i in l:\n",
    "    for k in i:\n",
    "        if k>40:\n",
    "            l1.append('true')\n",
    "        else:\n",
    "            l1.append('false')\n",
    "l1"
   ]
  },
  {
   "cell_type": "code",
   "execution_count": null,
   "id": "6582252f",
   "metadata": {},
   "outputs": [],
   "source": [
    "a=np.array([[[[2,3,4,5],[40,50,60,90]]]])\n",
    "a[0][:,0,1:4:2],a[0][:,1,1:4:2]\n"
   ]
  },
  {
   "cell_type": "code",
   "execution_count": null,
   "id": "f79bbd11",
   "metadata": {},
   "outputs": [],
   "source": [
    "a[0][0][:,1],a[0][0][:,3]"
   ]
  },
  {
   "cell_type": "code",
   "execution_count": null,
   "id": "13c57d01",
   "metadata": {},
   "outputs": [],
   "source": [
    "a[0][0][:,1:0]"
   ]
  },
  {
   "cell_type": "markdown",
   "id": "fba954a2",
   "metadata": {},
   "source": [
    "# Iterations"
   ]
  },
  {
   "cell_type": "code",
   "execution_count": null,
   "id": "76148668",
   "metadata": {},
   "outputs": [],
   "source": [
    "a=np.array([[1,2,3],[7,8,9]])\n",
    "for i in np.nditer(a):\n",
    "    print(i)      # nditer is used for traversing the array"
   ]
  },
  {
   "cell_type": "markdown",
   "id": "34499cdf",
   "metadata": {},
   "source": [
    "# copy and view\n",
    "The main difference btw a copy and view of an array is that the copy is a new array, and the view is just a view of the original array.\n"
   ]
  },
  {
   "cell_type": "code",
   "execution_count": null,
   "id": "5c1abb03",
   "metadata": {},
   "outputs": [],
   "source": [
    "#copy creates deep copy \n",
    "import numpy as np\n",
    "a=np.array([1,2,3,4,5])\n",
    "a1=a.copy()\n",
    "a1[3]=70\n",
    "print(a1)# creates deep copy     # changes are not reflected in original array\n",
    "print(a)"
   ]
  },
  {
   "cell_type": "code",
   "execution_count": null,
   "id": "adc1bb99",
   "metadata": {},
   "outputs": [],
   "source": [
    "import numpy as np\n",
    "a=np.array([1,2,3,4,5])\n",
    "a1=a.view()\n",
    "a1[3]=70 # creates shallow copy\n",
    "print(a1)# changes are reflected i original copy\n",
    "print(a)"
   ]
  },
  {
   "cell_type": "code",
   "execution_count": null,
   "id": "494be15c",
   "metadata": {},
   "outputs": [],
   "source": [
    "a2=a        # if we not written view explicitly it work default as view\n",
    "a2[2]='200'\n",
    "print(a2)\n",
    "print(a) "
   ]
  },
  {
   "cell_type": "markdown",
   "id": "33230bf7",
   "metadata": {},
   "source": [
    "# reshape and resize\n",
    "Shape manipulation : reshape and resize\\\n",
    "reshape makes deep copy and resize creates shallow copy\\\n",
    "shape can be manipulated in such a way that number of elements should be the same"
   ]
  },
  {
   "cell_type": "code",
   "execution_count": null,
   "id": "e8d64486",
   "metadata": {},
   "outputs": [],
   "source": [
    "a = np.array([[1,2,3,4,5,6],[7,8,9,10,11,12]])\n",
    "print(a.size)\n",
    "print(a.shape)\n",
    "print(a.ndim)"
   ]
  },
  {
   "cell_type": "code",
   "execution_count": null,
   "id": "c549f31e",
   "metadata": {},
   "outputs": [],
   "source": [
    "x1=a.reshape(1,12)\n",
    "print(x1)# does not change the original array\n",
    "print(a)"
   ]
  },
  {
   "cell_type": "code",
   "execution_count": null,
   "id": "1cd2c51d",
   "metadata": {},
   "outputs": [],
   "source": [
    "x1=a.resize(1,12)\n",
    "print(x1)# returns none and changes the original array\n",
    "print(a)"
   ]
  },
  {
   "cell_type": "code",
   "execution_count": null,
   "id": "60b98e4c",
   "metadata": {},
   "outputs": [],
   "source": [
    "arr = np.array([1, 2, 3, 4, 5, 6, 7, 8])\n",
    "\n",
    "print(arr)\n",
    "\n",
    "newarr = arr.reshape(2, 2, -1) # -1 is written becoz its automatically calculates next dimension \n",
    "newarr1= arr.reshape(2, -1, 2)\n",
    "newarr2 = arr.reshape(-1, 2, 2)\n",
    "print(newarr)\n",
    "print(newarr1)\n",
    "print(newarr2)"
   ]
  },
  {
   "cell_type": "markdown",
   "id": "04e4c7d4",
   "metadata": {},
   "source": [
    "# Flattening the arrays - converting multi dimensional into 1D array\n",
    "### nd array to 1d array:\n",
    "1. reshape(-1)\n",
    "2. flatten()\n",
    "3. ravel()"
   ]
  },
  {
   "cell_type": "code",
   "execution_count": null,
   "id": "87a9283b",
   "metadata": {},
   "outputs": [],
   "source": [
    "# Ravel\n",
    "import numpy as np\n",
    "arr = np.array([[1,2,3,4],[5,6,7,8]])\n",
    "arr1=arr.ravel() # changes not reflected on original array\n",
    "print(arr1)# shallow copy\n",
    "print(arr)"
   ]
  },
  {
   "cell_type": "code",
   "execution_count": null,
   "id": "5252e6b4",
   "metadata": {},
   "outputs": [],
   "source": [
    "arr1[3] = 700\n",
    "print(\"ravel shallow copy\",arr1)\n",
    "print(\"original\",arr)"
   ]
  },
  {
   "cell_type": "code",
   "execution_count": null,
   "id": "97f8b0fa",
   "metadata": {},
   "outputs": [],
   "source": [
    "# Flatten\n",
    "arr = np.array([[1,2,3,4],[5,6,7,8]])\n",
    "arr1=arr.flatten() # changes not reflected on original array\n",
    "print(arr1)# deep copy\n",
    "print(arr)"
   ]
  },
  {
   "cell_type": "code",
   "execution_count": null,
   "id": "09dc6f89",
   "metadata": {},
   "outputs": [],
   "source": [
    "arr1[3] = 700\n",
    "print(\"flatten shallow copy\",arr1)\n",
    "print(\"original\",arr) "
   ]
  },
  {
   "cell_type": "code",
   "execution_count": null,
   "id": "f68e4147",
   "metadata": {},
   "outputs": [],
   "source": [
    "# Reshape\n",
    "arr = np.array([[1,2,3,4],[5,6,7,8]])\n",
    "arr1=arr.reshape(-1) # changes not reflected on original array\n",
    "print(arr1)# deep copy\n",
    "print(arr)"
   ]
  },
  {
   "cell_type": "code",
   "execution_count": null,
   "id": "5fe1bd2a",
   "metadata": {},
   "outputs": [],
   "source": [
    "arr1[3] = 700\n",
    "print(\"flatten shallow copy\",arr1)\n",
    "print(\"original\",arr) # "
   ]
  },
  {
   "cell_type": "markdown",
   "id": "c18ece71",
   "metadata": {},
   "source": [
    "# Arange\n",
    "Arange is used to generate the seq of the array \\\n",
    "Range is used to generate the seq of the list"
   ]
  },
  {
   "cell_type": "code",
   "execution_count": null,
   "id": "889fb753",
   "metadata": {},
   "outputs": [],
   "source": [
    "import numpy  as np\n",
    "x=np.arange(1,10)\n",
    "print(x)\n",
    "x1=np.arange(1,20,2)\n",
    "print(x1)\n",
    "x2=np.arange(1.1,30.1,0.2)\n",
    "print(x2)"
   ]
  },
  {
   "cell_type": "markdown",
   "id": "e2fd0c5c",
   "metadata": {},
   "source": [
    "# Linspace\n",
    "Linspace evenly spaced numbers over a specified interval (strt,end,no of elements)"
   ]
  },
  {
   "cell_type": "code",
   "execution_count": null,
   "id": "e07dcd49",
   "metadata": {},
   "outputs": [],
   "source": [
    "x=np.arange(-30,30,10)\n",
    "x"
   ]
  },
  {
   "cell_type": "code",
   "execution_count": null,
   "id": "79f7aef1",
   "metadata": {},
   "outputs": [],
   "source": [
    "x=np.linspace(-30,30,10)\n",
    "x"
   ]
  },
  {
   "cell_type": "markdown",
   "id": "3e6dfd8d",
   "metadata": {},
   "source": [
    "# Logspace\n",
    "Logspace gives the logs value of the numbers (strt,end,no of elements)"
   ]
  },
  {
   "cell_type": "code",
   "execution_count": null,
   "id": "87865533",
   "metadata": {},
   "outputs": [],
   "source": [
    "x=np.logspace(-30,30,10)\n",
    "x"
   ]
  },
  {
   "cell_type": "code",
   "execution_count": null,
   "id": "b047b7df",
   "metadata": {},
   "outputs": [],
   "source": [
    "a=np.arange(3,30,2)\n",
    "a"
   ]
  },
  {
   "cell_type": "code",
   "execution_count": null,
   "id": "15f13e17",
   "metadata": {},
   "outputs": [],
   "source": [
    "x=[ 3,  5,  7,  9, 11, 13, 15, 17, 19, 21, 23, 25, 27, 29]\n",
    "print(x[5],x[6],x[9],x[-1])"
   ]
  },
  {
   "cell_type": "code",
   "execution_count": null,
   "id": "fa4a8d3f",
   "metadata": {},
   "outputs": [],
   "source": [
    "a[[5,6,9,13]] #fancy indexing and advance indexing "
   ]
  },
  {
   "cell_type": "markdown",
   "id": "ffed8cd6",
   "metadata": {},
   "source": [
    "# Some array is used for initillization purpose\n",
    "1.np.empty()\\\n",
    "2.np.zeros()\\\n",
    "3.np.ones()"
   ]
  },
  {
   "cell_type": "markdown",
   "id": "2c202e59",
   "metadata": {},
   "source": [
    "# Empty\n",
    "It is used to create an uninitialized array of specified shape and dtype (np.empty(shape,dtype,order))"
   ]
  },
  {
   "cell_type": "code",
   "execution_count": null,
   "id": "fa4230c2",
   "metadata": {},
   "outputs": [],
   "source": [
    "a=np.empty([2,3],dtype='int')\n",
    "a"
   ]
  },
  {
   "cell_type": "code",
   "execution_count": null,
   "id": "673704ba",
   "metadata": {},
   "outputs": [],
   "source": [
    "a=np.empty([2,3],dtype='int',order='F')\n",
    "a"
   ]
  },
  {
   "cell_type": "code",
   "execution_count": null,
   "id": "2bf8e421",
   "metadata": {},
   "outputs": [],
   "source": [
    "a=np.empty([1,3])\n",
    "a"
   ]
  },
  {
   "cell_type": "markdown",
   "id": "f26b1303",
   "metadata": {},
   "source": [
    "# Zeros"
   ]
  },
  {
   "cell_type": "code",
   "execution_count": null,
   "id": "4163ee77",
   "metadata": {},
   "outputs": [],
   "source": [
    "x=np.zeros([2,3])\n",
    "x"
   ]
  },
  {
   "cell_type": "code",
   "execution_count": null,
   "id": "172b057f",
   "metadata": {},
   "outputs": [],
   "source": [
    "x=np.zeros([2,3],dtype=int)\n",
    "x"
   ]
  },
  {
   "cell_type": "markdown",
   "id": "fa34621e",
   "metadata": {},
   "source": [
    "# Ones"
   ]
  },
  {
   "cell_type": "code",
   "execution_count": null,
   "id": "c8738462",
   "metadata": {},
   "outputs": [],
   "source": [
    "x=np.ones([2,3])\n",
    "x"
   ]
  },
  {
   "cell_type": "code",
   "execution_count": null,
   "id": "aedd3da8",
   "metadata": {},
   "outputs": [],
   "source": [
    "x=np.ones([2,3],dtype=int)\n",
    "x"
   ]
  },
  {
   "cell_type": "markdown",
   "id": "612b7e6c",
   "metadata": {},
   "source": [
    "# Taking the two array a1 and a2"
   ]
  },
  {
   "cell_type": "code",
   "execution_count": null,
   "id": "d0352675",
   "metadata": {},
   "outputs": [],
   "source": [
    "a1=np.array([[1,2,3,4],[3,4,5,6],[7,8,9,0]])\n",
    "a1"
   ]
  },
  {
   "cell_type": "code",
   "execution_count": null,
   "id": "852625c4",
   "metadata": {},
   "outputs": [],
   "source": [
    "a2=np.array([[3,20,5,4],[3,4,50,6],[7,8,7,0]])\n",
    "a2"
   ]
  },
  {
   "cell_type": "code",
   "execution_count": null,
   "id": "ce895d52",
   "metadata": {},
   "outputs": [],
   "source": [
    "a1-a2"
   ]
  },
  {
   "cell_type": "code",
   "execution_count": null,
   "id": "10f1dc80",
   "metadata": {},
   "outputs": [],
   "source": [
    "a1/a2"
   ]
  },
  {
   "cell_type": "code",
   "execution_count": null,
   "id": "e50b63be",
   "metadata": {},
   "outputs": [],
   "source": [
    "a1+a2"
   ]
  },
  {
   "cell_type": "code",
   "execution_count": null,
   "id": "1482dc14",
   "metadata": {},
   "outputs": [],
   "source": [
    "a1*a2"
   ]
  },
  {
   "cell_type": "code",
   "execution_count": null,
   "id": "49e7c8fd",
   "metadata": {},
   "outputs": [],
   "source": [
    "a1>a2"
   ]
  },
  {
   "cell_type": "code",
   "execution_count": null,
   "id": "fdeec76e",
   "metadata": {},
   "outputs": [],
   "source": [
    "a2>a1"
   ]
  },
  {
   "cell_type": "code",
   "execution_count": null,
   "id": "f07511dc",
   "metadata": {},
   "outputs": [],
   "source": [
    "a2>5"
   ]
  },
  {
   "cell_type": "code",
   "execution_count": null,
   "id": "319d4357",
   "metadata": {},
   "outputs": [],
   "source": [
    "a1>4"
   ]
  },
  {
   "cell_type": "markdown",
   "id": "bc5a5a25",
   "metadata": {},
   "source": [
    "# Universal function+operations : performs operation element wise"
   ]
  },
  {
   "cell_type": "code",
   "execution_count": null,
   "id": "46607d59",
   "metadata": {},
   "outputs": [],
   "source": [
    "np.sqrt(a1)"
   ]
  },
  {
   "cell_type": "code",
   "execution_count": null,
   "id": "88aec35a",
   "metadata": {},
   "outputs": [],
   "source": [
    "np.sin(a1)"
   ]
  },
  {
   "cell_type": "code",
   "execution_count": null,
   "id": "86945680",
   "metadata": {},
   "outputs": [],
   "source": [
    "np.sqrt(a1)"
   ]
  },
  {
   "cell_type": "code",
   "execution_count": null,
   "id": "bf3e23e0",
   "metadata": {},
   "outputs": [],
   "source": [
    "np.cos(a1)"
   ]
  },
  {
   "cell_type": "markdown",
   "id": "bc976c63",
   "metadata": {},
   "source": [
    "# Floor and Ceil"
   ]
  },
  {
   "cell_type": "code",
   "execution_count": 177,
   "id": "465ea5b9",
   "metadata": {},
   "outputs": [
    {
     "name": "stdout",
     "output_type": "stream",
     "text": [
      "4\n",
      "5\n"
     ]
    }
   ],
   "source": [
    "# Floor gives the values which is less than and equal to.(n=<=n)\n",
    "# ceil gives the values which is greater than equal to.(n=>=n)\n",
    "import math\n",
    "a=4.9\n",
    "print(math.floor(a))\n",
    "print(math.ceil(a))"
   ]
  },
  {
   "cell_type": "code",
   "execution_count": null,
   "id": "87672300",
   "metadata": {},
   "outputs": [],
   "source": [
    "np.round(a)"
   ]
  },
  {
   "cell_type": "code",
   "execution_count": null,
   "id": "6d8a09e5",
   "metadata": {},
   "outputs": [],
   "source": [
    "round(1.381491894,4)"
   ]
  },
  {
   "cell_type": "markdown",
   "id": "c1afb5fd",
   "metadata": {},
   "source": [
    "# Max and Min"
   ]
  },
  {
   "cell_type": "code",
   "execution_count": null,
   "id": "7380b588",
   "metadata": {},
   "outputs": [],
   "source": [
    "a1=np.array([[1,2,3,4],[3,4,5,6],[7,8,9,0]])\n",
    "a1"
   ]
  },
  {
   "cell_type": "code",
   "execution_count": null,
   "id": "c5cbdc68",
   "metadata": {},
   "outputs": [],
   "source": [
    "np.max(a1)"
   ]
  },
  {
   "cell_type": "code",
   "execution_count": null,
   "id": "f20dd3bc",
   "metadata": {},
   "outputs": [],
   "source": [
    "np.min(a1)"
   ]
  },
  {
   "cell_type": "code",
   "execution_count": null,
   "id": "5bf95678",
   "metadata": {},
   "outputs": [],
   "source": [
    "np.min(a1,axis=1)"
   ]
  },
  {
   "cell_type": "code",
   "execution_count": null,
   "id": "6fc78ccf",
   "metadata": {},
   "outputs": [],
   "source": [
    "np.max(a1,axis=1)"
   ]
  },
  {
   "cell_type": "code",
   "execution_count": null,
   "id": "d2f13c52",
   "metadata": {},
   "outputs": [],
   "source": [
    "np.argmax(a1) #ARG gives the index in which index value is greater"
   ]
  },
  {
   "cell_type": "code",
   "execution_count": null,
   "id": "e7553ea1",
   "metadata": {},
   "outputs": [],
   "source": [
    "np.argmin(a1)"
   ]
  },
  {
   "cell_type": "markdown",
   "id": "33434b92",
   "metadata": {},
   "source": [
    "# Sum"
   ]
  },
  {
   "cell_type": "code",
   "execution_count": null,
   "id": "be13f4a1",
   "metadata": {},
   "outputs": [],
   "source": [
    "np.sum(a1)"
   ]
  },
  {
   "cell_type": "code",
   "execution_count": null,
   "id": "bad1e8e1",
   "metadata": {},
   "outputs": [],
   "source": [
    "np.sum(a1,axis=0)"
   ]
  },
  {
   "cell_type": "markdown",
   "id": "2b32238e",
   "metadata": {},
   "source": [
    "# Sort"
   ]
  },
  {
   "cell_type": "code",
   "execution_count": null,
   "id": "c541c87d",
   "metadata": {},
   "outputs": [],
   "source": [
    "a1=np.array([[1,2,3,4],[3,4,5,6],[7,8,9,0]])\n",
    "np.sort(a1,axis=1) #-1 is default value of axis"
   ]
  },
  {
   "cell_type": "code",
   "execution_count": null,
   "id": "d4718bf3",
   "metadata": {},
   "outputs": [],
   "source": [
    "a1=np.array([[1,2,3,4],[3,4,5,6],[7,8,9,0]])\n",
    "np.sort(a1,axis=0) #-1 is default value of axis"
   ]
  },
  {
   "cell_type": "markdown",
   "id": "d1b82100",
   "metadata": {},
   "source": [
    "# Diff btw Array and Matrix\n",
    "Matrix is at most 2d while array can be n dimension\\\n",
    "Matrix is subclass of array\\\n",
    "In array we do multiplication as element wise but here multiplication done in different ways"
   ]
  },
  {
   "cell_type": "markdown",
   "id": "fece9958",
   "metadata": {},
   "source": [
    "### Matrix is most 2 dimension"
   ]
  },
  {
   "cell_type": "code",
   "execution_count": null,
   "id": "c7261449",
   "metadata": {},
   "outputs": [],
   "source": [
    "x=np.mat([[2,3],[3,4]])\n",
    "x"
   ]
  },
  {
   "cell_type": "code",
   "execution_count": null,
   "id": "922d780e",
   "metadata": {},
   "outputs": [],
   "source": [
    "x=np.array([[2,3],[4,5]])\n",
    "x"
   ]
  },
  {
   "cell_type": "code",
   "execution_count": null,
   "id": "c3417b76",
   "metadata": {},
   "outputs": [],
   "source": [
    "np.mat([[[2,3,4],[3,4,5],[2,3,4]]]) # ERROR IS SHOWN BECOZ MATRIX CANNOT BE GREATER THAN 2D"
   ]
  },
  {
   "cell_type": "code",
   "execution_count": null,
   "id": "848031e5",
   "metadata": {},
   "outputs": [],
   "source": [
    "x=np.array([[2,3],[4,3]])\n",
    "x1=np.array([[2,3],[4,6]])\n",
    "x*x1"
   ]
  },
  {
   "cell_type": "code",
   "execution_count": null,
   "id": "1d3308f2",
   "metadata": {},
   "outputs": [],
   "source": [
    "x+x1"
   ]
  },
  {
   "cell_type": "code",
   "execution_count": null,
   "id": "4d8a006e",
   "metadata": {},
   "outputs": [],
   "source": [
    "x=np.mat([[2,3],[12,5]])\n",
    "x1=np.mat([[2,3],[4,6]])\n",
    "x*x1"
   ]
  },
  {
   "cell_type": "markdown",
   "id": "0f716d8d",
   "metadata": {},
   "source": [
    "x.T(#Transpose rows to columns and columns to rows)"
   ]
  },
  {
   "cell_type": "code",
   "execution_count": null,
   "id": "9b5e21e3",
   "metadata": {},
   "outputs": [],
   "source": [
    "np.trace(x) # Some to diagonal element"
   ]
  },
  {
   "cell_type": "markdown",
   "id": "a5d78af2",
   "metadata": {},
   "source": [
    "# Inverse"
   ]
  },
  {
   "cell_type": "code",
   "execution_count": null,
   "id": "60f23fe6",
   "metadata": {},
   "outputs": [],
   "source": [
    "import numpy as np\n",
    "a=np.array([[1,2],[3,4]])  \n",
    "d=np.matrix([[1,2],[3,4]])\n",
    "print(a.shape)\n",
    "print(d.shape)\n",
    "np.linalg.inv(d)## inverse adjoint of matrix/determinant of i.e (adj a/  /a/)"
   ]
  },
  {
   "cell_type": "markdown",
   "id": "823796ff",
   "metadata": {},
   "source": [
    "# Broadcasting\n",
    "broadcasting : perform when shape is diff\n"
   ]
  },
  {
   "cell_type": "code",
   "execution_count": null,
   "id": "62b2fd2f",
   "metadata": {},
   "outputs": [],
   "source": [
    "#case 1: when same shape\n",
    "a1=np.arange(8).reshape(2,4)\n",
    "a2=np.arange(8,16).reshape(2,4)\n",
    "print(a1,'\\n\\n')\n",
    "print(a2)\n",
    "a1+a2"
   ]
  },
  {
   "cell_type": "code",
   "execution_count": null,
   "id": "1783ccce",
   "metadata": {},
   "outputs": [],
   "source": [
    "# case 2: when is diff\n",
    "np.arange(9).reshape(3,3)"
   ]
  },
  {
   "cell_type": "code",
   "execution_count": null,
   "id": "dc27c4a8",
   "metadata": {},
   "outputs": [],
   "source": [
    "# case (2)  b part\n",
    "# One of the dimension size is always 1\n",
    "a1=np.arange(9).reshape(3,3)\n",
    "a2=np.arange(6).reshape(1,6)\n",
    "print(a1,'\\n\\n')\n",
    "print(a2)"
   ]
  },
  {
   "cell_type": "code",
   "execution_count": 50,
   "id": "8fa9a45c",
   "metadata": {},
   "outputs": [
    {
     "data": {
      "text/plain": [
       "array([[[0., 0., 0.],\n",
       "        [0., 0., 0.]],\n",
       "\n",
       "       [[0., 0., 0.],\n",
       "        [0., 0., 0.]],\n",
       "\n",
       "       [[0., 0., 0.],\n",
       "        [0., 0., 0.]]])"
      ]
     },
     "execution_count": 50,
     "metadata": {},
     "output_type": "execute_result"
    }
   ],
   "source": [
    "#Create and array of shape(3,2,3)\n",
    "np.zeros([3,2,3])"
   ]
  },
  {
   "cell_type": "code",
   "execution_count": 52,
   "id": "2ba7a792",
   "metadata": {},
   "outputs": [
    {
     "data": {
      "text/plain": [
       "10"
      ]
     },
     "execution_count": 52,
     "metadata": {},
     "output_type": "execute_result"
    }
   ],
   "source": [
    "x=np.arange(10)\n",
    "x.size"
   ]
  },
  {
   "cell_type": "markdown",
   "id": "a47197d1",
   "metadata": {},
   "source": [
    "# Random\n",
    "By default it is float"
   ]
  },
  {
   "cell_type": "code",
   "execution_count": 65,
   "id": "dfa41287",
   "metadata": {},
   "outputs": [
    {
     "data": {
      "text/plain": [
       "0.5118180261949836"
      ]
     },
     "execution_count": 65,
     "metadata": {},
     "output_type": "execute_result"
    }
   ],
   "source": [
    "np.random.random() # get random number between 0 and 1"
   ]
  },
  {
   "cell_type": "code",
   "execution_count": 74,
   "id": "85799dab",
   "metadata": {},
   "outputs": [
    {
     "data": {
      "text/plain": [
       "0.43599490214200376"
      ]
     },
     "execution_count": 74,
     "metadata": {},
     "output_type": "execute_result"
    }
   ],
   "source": [
    "np.random.seed(2)\n",
    "np.random.random()  # fixes the random value"
   ]
  },
  {
   "cell_type": "code",
   "execution_count": 76,
   "id": "58bf735f",
   "metadata": {},
   "outputs": [
    {
     "data": {
      "text/plain": [
       "20.99324955757418"
      ]
     },
     "execution_count": 76,
     "metadata": {},
     "output_type": "execute_result"
    }
   ],
   "source": [
    "np.random.uniform(10,30)# gives random value in the speicified range"
   ]
  },
  {
   "cell_type": "code",
   "execution_count": 78,
   "id": "529d173b",
   "metadata": {},
   "outputs": [
    {
     "data": {
      "text/plain": [
       "array([20.27156243, 13.68879731, 25.70670296, 27.07950585, 19.88473675,\n",
       "       26.93122971, 11.59290954, 20.1049218 , 11.30573009, 18.56244655])"
      ]
     },
     "execution_count": 78,
     "metadata": {},
     "output_type": "execute_result"
    }
   ],
   "source": [
    "np.random.uniform(10,30,10) # Give the  nth no of random element "
   ]
  },
  {
   "cell_type": "code",
   "execution_count": 88,
   "id": "bc5a7aed",
   "metadata": {},
   "outputs": [
    {
     "data": {
      "text/plain": [
       "array([[76.58942304,  3.03369104],\n",
       "       [63.09752702, 74.38278049],\n",
       "       [49.85368721, 23.03007126],\n",
       "       [20.41016075, 75.5320098 ],\n",
       "       [17.57286198,  9.65730179]])"
      ]
     },
     "execution_count": 88,
     "metadata": {},
     "output_type": "execute_result"
    }
   ],
   "source": [
    "np.random.uniform(1,99,10).reshape(5,2) # we change the shape of random no by reshape"
   ]
  },
  {
   "cell_type": "code",
   "execution_count": 90,
   "id": "88ef558f",
   "metadata": {},
   "outputs": [
    {
     "data": {
      "text/plain": [
       "array([[76.58942304,  3.03369104],\n",
       "       [63.09752702, 74.38278049],\n",
       "       [49.85368721, 23.03007126],\n",
       "       [20.41016075, 75.5320098 ],\n",
       "       [17.57286198,  9.65730179]])"
      ]
     },
     "execution_count": 90,
     "metadata": {},
     "output_type": "execute_result"
    }
   ],
   "source": [
    "np.random.seed(10)\n",
    "np.random.uniform(1,99,10).reshape(5,2) # by seed value is fixed"
   ]
  },
  {
   "cell_type": "code",
   "execution_count": 96,
   "id": "a230b2c6",
   "metadata": {},
   "outputs": [
    {
     "data": {
      "text/plain": [
       "-4"
      ]
     },
     "execution_count": 96,
     "metadata": {},
     "output_type": "execute_result"
    }
   ],
   "source": [
    "np.random.randint(-10,-1)   # to get int values  start  -1     end - 10 "
   ]
  },
  {
   "cell_type": "code",
   "execution_count": 100,
   "id": "33ea126b",
   "metadata": {},
   "outputs": [
    {
     "data": {
      "text/plain": [
       "array([[-3, -2],\n",
       "       [-2, -8],\n",
       "       [-4, -8],\n",
       "       [-2, -2],\n",
       "       [-4, -4]])"
      ]
     },
     "execution_count": 100,
     "metadata": {},
     "output_type": "execute_result"
    }
   ],
   "source": [
    "np.random.randint(-10,-1,10).reshape([5,2])"
   ]
  },
  {
   "cell_type": "markdown",
   "id": "784b46cf",
   "metadata": {},
   "source": [
    "#### Generate the random values that form normal distribution"
   ]
  },
  {
   "cell_type": "code",
   "execution_count": 105,
   "id": "4e0592c0",
   "metadata": {},
   "outputs": [
    {
     "data": {
      "text/plain": [
       "array([  6.43769202,  -1.67352473,   7.25062566,  -5.64657072,\n",
       "       -10.13017042,   7.41719306,  11.15278568,   8.93934104,\n",
       "         7.01904736])"
      ]
     },
     "execution_count": 105,
     "metadata": {},
     "output_type": "execute_result"
    }
   ],
   "source": [
    "x1=np.random.normal(loc=5,scale=7,size=9) #LOC =MEAN # SCALE=STDV # SIZE=NO OF ELEMENT\n",
    "x1"
   ]
  },
  {
   "cell_type": "code",
   "execution_count": 107,
   "id": "b6c70c65",
   "metadata": {},
   "outputs": [
    {
     "name": "stdout",
     "output_type": "stream",
     "text": [
      "3.418490994008525 7.019047355895893\n"
     ]
    }
   ],
   "source": [
    "print(np.mean(x1),np.median(x1)) # numpy does not have mode function"
   ]
  },
  {
   "cell_type": "markdown",
   "id": "eae1fd91",
   "metadata": {},
   "source": [
    "### Numpy does not have mode function"
   ]
  },
  {
   "cell_type": "code",
   "execution_count": 109,
   "id": "d2175ad9",
   "metadata": {},
   "outputs": [
    {
     "data": {
      "text/plain": [
       "6.437692020474355"
      ]
     },
     "execution_count": 109,
     "metadata": {},
     "output_type": "execute_result"
    }
   ],
   "source": [
    "import statistics \n",
    "statistics.mode(x1)\n"
   ]
  },
  {
   "cell_type": "code",
   "execution_count": 111,
   "id": "19b18dcb",
   "metadata": {},
   "outputs": [
    {
     "name": "stderr",
     "output_type": "stream",
     "text": [
      "C:\\ProgramData\\Anaconda3\\lib\\site-packages\\seaborn\\distributions.py:2619: FutureWarning: `distplot` is a deprecated function and will be removed in a future version. Please adapt your code to use either `displot` (a figure-level function with similar flexibility) or `histplot` (an axes-level function for histograms).\n",
      "  warnings.warn(msg, FutureWarning)\n"
     ]
    },
    {
     "data": {
      "text/plain": [
       "<AxesSubplot:ylabel='Density'>"
      ]
     },
     "execution_count": 111,
     "metadata": {},
     "output_type": "execute_result"
    },
    {
     "data": {
      "image/png": "[encoded data removed]",
      "text/plain": [
       "<Figure size 432x288 with 1 Axes>"
      ]
     },
     "metadata": {
      "needs_background": "light"
     },
     "output_type": "display_data"
    }
   ],
   "source": [
    "import seaborn as sns\n",
    "sns.distplot(x1)"
   ]
  },
  {
   "cell_type": "code",
   "execution_count": 113,
   "id": "a33cf640",
   "metadata": {},
   "outputs": [
    {
     "data": {
      "text/plain": [
       "(array([1., 0., 1., 1., 0., 0., 0., 1., 4., 1.]),\n",
       " array([-10.13017042,  -8.00187481,  -5.8735792 ,  -3.74528359,\n",
       "         -1.61698798,   0.51130763,   2.63960324,   4.76789885,\n",
       "          6.89619446,   9.02449007,  11.15278568]),\n",
       " <BarContainer object of 10 artists>)"
      ]
     },
     "execution_count": 113,
     "metadata": {},
     "output_type": "execute_result"
    },
    {
     "data": {
      "image/png": "[encoded data removed]",
      "text/plain": [
       "<Figure size 432x288 with 1 Axes>"
      ]
     },
     "metadata": {
      "needs_background": "light"
     },
     "output_type": "display_data"
    }
   ],
   "source": [
    "import matplotlib.pyplot as plt\n",
    "plt.hist(x1)"
   ]
  },
  {
   "cell_type": "markdown",
   "id": "54360928",
   "metadata": {},
   "source": [
    "### Generate random values that forms normal standardization( when mean is approx eqaul to 0 and standard deviation apprx equal to 1)"
   ]
  },
  {
   "cell_type": "code",
   "execution_count": 114,
   "id": "d2850b88",
   "metadata": {},
   "outputs": [
    {
     "data": {
      "text/plain": [
       "array([-1.0064815 ,  0.05397842, -1.82672326, -0.09191484])"
      ]
     },
     "execution_count": 114,
     "metadata": {},
     "output_type": "execute_result"
    }
   ],
   "source": [
    "np.random.randn(4)"
   ]
  },
  {
   "cell_type": "code",
   "execution_count": 116,
   "id": "49d1660c",
   "metadata": {},
   "outputs": [
    {
     "data": {
      "text/plain": [
       "array([-2.53183164e-01,  1.38059377e+00, -6.83428827e-01, -3.16851151e-01,\n",
       "       -1.01727040e+00, -9.74123768e-01, -3.32389993e-02,  9.82883019e-01,\n",
       "       -4.68528953e-01, -8.95339436e-01, -7.59964120e-02, -4.15206818e-01,\n",
       "        9.04939074e-01, -9.02894569e-01,  2.47432394e-01,  1.75223653e+00,\n",
       "        3.48548485e-01, -2.29025399e-02, -9.61701686e-01,  7.92364966e-02,\n",
       "       -3.93272075e-01, -6.00994409e-01, -5.94841835e-01, -1.65773667e+00,\n",
       "       -5.07016654e-03,  7.93056537e-01, -8.89117760e-01, -9.97816804e-01,\n",
       "        6.69893970e-01,  6.48511637e-01,  2.57346185e-02,  5.86604985e-01,\n",
       "        2.84085163e-01, -1.33168955e+00,  1.27310627e+00,  4.09245039e-01,\n",
       "       -6.07473089e-01,  9.34009554e-01, -1.84373609e+00,  4.78052079e-01,\n",
       "        4.85260921e-01, -4.74997319e-01, -1.16586593e+00, -7.55629893e-01,\n",
       "        5.88103804e-01, -1.43924512e+00, -4.61221337e-01,  1.21267456e+00,\n",
       "        7.04661131e-01, -4.59612320e-01,  5.34820874e-01,  1.46925737e+00,\n",
       "       -1.10320787e+00,  9.80366828e-02,  7.22135348e-01, -5.57043781e-01,\n",
       "        2.27125901e-01, -7.40886058e-01, -1.28311581e+00,  3.64894767e-01,\n",
       "       -1.38025482e+00, -1.46514309e+00,  4.46281025e-01,  2.85346040e+00,\n",
       "       -1.03241443e+00,  1.61776103e-01,  2.25551548e-01, -1.12193240e+00,\n",
       "        1.20248351e+00,  1.51133379e+00, -1.87214559e+00, -6.49121644e-01,\n",
       "        1.39491644e+00,  1.04979671e+00, -3.89249473e-01, -6.46174329e-01,\n",
       "        5.01322441e-01,  5.51916923e-01,  1.46127126e+00, -1.45406485e-01,\n",
       "        7.30979740e-01, -6.17706267e-01,  1.68435892e+00, -8.79472475e-01,\n",
       "       -5.59925670e-01, -1.73290432e-01,  3.34553534e-01,  2.14682753e+00,\n",
       "       -1.02172033e+00, -8.04159407e-01, -2.04453685e+00,  1.02078534e+00,\n",
       "       -9.29479585e-02, -4.90845820e-01, -1.08894990e+00,  1.08746733e+00,\n",
       "       -9.37933014e-01, -8.48675027e-01, -1.27124735e+00, -1.30212366e+00,\n",
       "       -8.04067832e-01, -1.65157780e+00,  2.89645674e-01, -6.09660939e-01,\n",
       "       -2.94953291e-01, -3.41598079e-01,  1.22545095e+00,  1.00308374e+00,\n",
       "       -2.33897791e+00,  1.25085353e+00,  1.97019742e+00, -1.42818822e+00,\n",
       "       -1.00084459e+00, -4.70076721e-01, -1.00033576e-01,  1.06401267e+00,\n",
       "       -2.32304281e+00,  5.97270581e-01,  3.48248363e-01, -1.48239376e-01,\n",
       "       -1.19640778e+00,  1.41376421e-01, -4.84218586e-01, -1.31026558e+00,\n",
       "       -5.89470993e-01, -7.80259795e-01, -8.02527922e-01, -1.22772372e+00,\n",
       "        1.31766349e+00,  1.16669796e+00, -4.19310194e-01, -3.03839722e-01,\n",
       "        5.28632105e-01, -7.61141643e-01, -6.13220568e-01, -1.28747267e+00,\n",
       "       -2.15194335e+00,  6.67178034e-01,  8.77915574e-01,  1.14670561e+00,\n",
       "       -9.98586223e-01, -8.01160391e-01, -1.79610370e+00,  1.03600754e+00,\n",
       "       -2.28180334e-01,  1.75957502e-01, -9.36141872e-01, -6.90984444e-01,\n",
       "        1.64732586e-01, -2.79612414e-01, -1.90751551e+00,  1.50026765e+00,\n",
       "       -4.04818917e-01,  5.18342580e-01, -1.44813616e+00, -6.62006502e-01,\n",
       "       -1.09667181e+00,  1.49529854e-01, -2.86084787e-01, -9.11181635e-01,\n",
       "        2.67029409e-01, -8.28974210e-01,  4.37549696e-01,  1.31617073e-01,\n",
       "        1.86679427e-01, -1.10633896e+00,  2.61137314e-02,  5.77466169e-01,\n",
       "       -1.33645468e+00,  2.15273610e-01,  1.54782561e+00,  1.44843215e+00,\n",
       "       -1.12916934e+00, -1.73663411e+00, -1.13204593e+00,  4.80053498e-01,\n",
       "        1.75981063e+00,  4.03112184e-01,  1.84132241e+00, -1.80952525e+00,\n",
       "       -5.04991144e-01,  1.60266609e+00,  1.18937788e+00,  2.55294292e-01,\n",
       "        1.00358874e+00,  3.23510730e-01, -3.53513665e-01,  4.57176725e-01,\n",
       "       -9.66306634e-01, -6.43539164e-02, -1.31696421e+00, -1.61390513e-01,\n",
       "        1.83340615e+00,  4.29495748e-01, -6.68549172e-01,  5.97935961e-01,\n",
       "        8.34297707e-01, -1.18664122e+00,  8.63908327e-01,  7.51882930e-01,\n",
       "       -4.92733513e-01,  1.29491978e+00,  6.21694112e-02,  7.00542803e-01,\n",
       "        2.16967611e+00,  5.23635699e-01,  9.58865051e-01, -1.01568381e+00,\n",
       "        7.02665663e-01,  4.01078149e-01, -6.54259892e-01, -7.34967816e-01,\n",
       "       -4.12013030e-01, -1.25054409e+00,  1.12400785e+00, -9.34321795e-01,\n",
       "       -4.78193606e-01,  5.68936323e-02, -1.02768440e-01, -7.50020538e-02,\n",
       "        1.85655937e+00,  2.42894052e-02,  1.14593641e+00, -1.55626696e+00,\n",
       "        4.80787900e-01,  1.26632906e+00,  1.30585668e+00, -1.32474405e+00,\n",
       "        1.16359409e+00,  2.53107469e-01,  5.61701556e-01,  4.28340185e-01,\n",
       "        9.62557063e-02,  4.31906185e-01,  1.02251996e+00, -7.99711998e-01,\n",
       "       -1.23019907e+00, -8.44270553e-01, -9.84042087e-01, -2.20862064e-01,\n",
       "        4.83062914e-01, -1.95718567e+00,  1.00961906e+00,  7.02226595e-01,\n",
       "       -9.47509422e-01, -1.16620867e+00,  4.79956068e-01,  3.68105791e-01,\n",
       "        2.45414301e-01, -1.11799944e+00,  6.76079555e-01,  1.93256369e+00,\n",
       "       -1.72101795e+00,  7.22731814e-02, -9.94064013e-01,  1.44416081e+00,\n",
       "       -7.20427144e-01, -2.13130969e-01, -1.03768641e+00, -1.02291474e+00,\n",
       "       -1.73914542e+00,  2.06985129e-01, -9.33083951e-01, -3.10592806e-01,\n",
       "        2.53789769e+00, -1.29688183e-01, -9.11871258e-01, -8.13945273e-01,\n",
       "        1.02963734e+00,  1.16568694e+00, -2.72276295e-01,  3.76546460e-01,\n",
       "        3.02796914e-02, -8.44752549e-01,  6.96930722e-01,  4.71395305e-01,\n",
       "       -7.37080318e-01,  8.97418746e-01,  6.51943188e-01, -1.26146064e-01,\n",
       "        1.02512650e-01,  1.69969946e-01,  2.50513047e-01,  2.09073610e+00,\n",
       "        3.43483549e-01,  1.64200368e+00, -2.85931299e-01, -2.37592833e+00,\n",
       "       -7.45102787e-02,  3.11630954e-01,  9.46009178e-01,  8.97429035e-01,\n",
       "       -6.28653109e-01, -1.66649631e+00, -1.30452334e+00, -6.24110704e-01,\n",
       "       -1.72731511e+00,  7.26265624e-02, -1.23311980e+00,  5.68037718e-01,\n",
       "       -4.22504677e-01, -6.65492057e-01, -2.12454502e-01,  1.56920627e-01,\n",
       "       -3.43847492e-01,  4.39738107e-01, -7.40730330e-01,  4.38659054e-01,\n",
       "       -7.71037823e-01, -1.45236591e-01,  2.32748977e-01,  1.21305920e+00,\n",
       "        3.68117971e-01,  1.61040702e+00,  9.87488103e-01, -1.27533726e-01,\n",
       "       -7.24816274e-02,  6.42402242e-01,  3.53912728e-01,  1.89059339e-01,\n",
       "        3.91895342e-01, -2.57917792e-01,  2.70521415e-01,  2.07673583e-01,\n",
       "        3.20910831e-01, -5.79228171e-01,  5.79464238e-01,  4.29871326e-01,\n",
       "        1.08993755e-01,  1.47401228e+00,  4.61037556e-01,  7.50842933e-01,\n",
       "        1.18846317e+00, -9.80087846e-02,  9.79647846e-01,  2.20274597e+00,\n",
       "       -4.49428695e-01,  5.69149166e-01,  8.45983836e-01,  1.19391478e+00,\n",
       "        8.39176235e-01,  4.89821187e-01,  2.23344018e+00, -7.95026189e-01,\n",
       "       -3.57372600e-02, -1.15871152e+00, -1.07401556e+00, -1.01820897e+00,\n",
       "        7.33346234e-01,  1.26747065e+00, -3.57586815e-01, -1.30870538e+00,\n",
       "       -5.36361357e-02, -1.45387341e+00, -7.91577964e-01,  1.11851930e+00,\n",
       "        4.89073599e-01, -1.33949705e-02,  2.28339745e+00,  3.26057551e-01,\n",
       "       -7.51836003e-02, -5.12669348e-01,  2.43880815e-01, -3.20896470e-01,\n",
       "       -4.61427583e-01, -8.38549097e-01, -1.28954653e+00, -1.11759248e+00,\n",
       "       -2.48675932e+00, -1.63943536e+00,  1.73419371e+00, -1.63844335e+00,\n",
       "        1.17530321e+00, -2.44440570e-01,  8.01999624e-01, -1.04969450e+00,\n",
       "        1.60132837e+00, -4.44874640e-01,  8.04454264e-01, -1.39623081e+00,\n",
       "        5.21756713e-01,  4.40853184e-01, -6.10285101e-02, -1.43774698e-01,\n",
       "        2.99328132e-01, -4.98008923e-01, -2.73212577e-01,  1.20483445e+00,\n",
       "       -6.50808038e-01, -8.23809820e-01,  2.46069644e+00,  6.08817291e-01,\n",
       "       -9.04916538e-01, -5.05233726e-01, -8.47371380e-02, -4.14943238e-01,\n",
       "       -1.26046932e+00, -1.03227250e+00,  1.99214844e+00,  2.27539826e-01,\n",
       "       -4.02402701e-01,  3.46423613e-01, -9.75355640e-01, -1.24208311e+00,\n",
       "       -1.62727290e+00, -1.83005533e-01,  6.44295487e-01, -1.16038099e-01,\n",
       "       -1.42374479e+00, -1.05623652e-01, -1.41581372e+00,  1.03523417e+00,\n",
       "        9.12284308e-01,  5.31252214e-02, -8.61575149e-01, -7.94427522e-01,\n",
       "       -1.19482144e+00, -1.72210496e-01,  1.34807479e+00,  1.19353445e-01,\n",
       "        4.41507514e-01,  1.05806004e+00, -2.52395588e+00,  6.11875117e-01,\n",
       "       -2.38984502e-01,  4.84696028e-01, -2.16403969e-01,  1.14471190e+00,\n",
       "       -1.41666153e+00,  7.24613624e-01, -3.92772326e-01,  8.04811689e-02,\n",
       "        1.00231106e+00, -1.30310397e-01,  1.70556864e+00,  8.68169062e-01,\n",
       "       -1.24639268e+00, -7.01917019e-01,  7.62254112e-01,  3.78428713e-02,\n",
       "        1.35026013e+00, -1.77295384e+00,  4.26902269e-01,  6.42623125e-01,\n",
       "       -5.00857037e-01, -8.60124899e-01, -1.39007668e-01,  1.96569122e-01,\n",
       "        2.64742051e-01,  2.72117478e-01, -1.45713486e+00, -1.63324634e+00,\n",
       "        6.69729872e-01, -1.00869468e-01, -3.85582129e-01, -1.31414004e+00,\n",
       "       -7.76475073e-01,  1.53489434e+00,  6.86660423e-01,  4.10576003e-01,\n",
       "       -2.45054181e+00, -3.68357679e-01,  5.84251536e-01, -8.27531655e-01,\n",
       "        8.56671742e-01,  6.01803647e-01,  3.36581685e-01,  1.04797074e-01,\n",
       "        1.69086910e+00,  4.19107215e-01, -6.66534297e-01,  1.61526314e+00,\n",
       "        1.03619882e+00,  4.25977815e-02, -1.13774478e+00, -5.50696251e-01,\n",
       "        9.35383834e-01, -4.00565958e-01,  7.39753747e-01, -1.98108902e+00,\n",
       "       -9.40617031e-01,  4.54753458e-01, -3.37397516e-01, -1.10899037e+00,\n",
       "       -3.23836295e-01,  1.55686828e+00,  1.58970919e+00,  8.01642992e-01,\n",
       "        3.14608367e-02,  6.34904113e-01,  3.21965993e-01,  5.75965164e-03,\n",
       "        4.48084009e-01, -1.97538899e-02,  7.35037736e-01, -4.00294051e-01,\n",
       "       -4.79045315e-02,  3.91484879e-01, -6.97133557e-01, -9.78324190e-01,\n",
       "       -1.56981772e-01,  3.39577064e-01, -1.12479459e+00,  4.69230900e-02,\n",
       "        3.39852213e-01,  6.33685221e-02, -1.01185408e+00,  2.08273723e-01,\n",
       "       -3.95415640e-01,  3.47290840e-01, -5.45759445e-01, -2.67996896e+00,\n",
       "       -1.07883571e+00,  6.31757228e-01, -1.22895159e+00,  4.12529980e-01,\n",
       "       -1.33093376e+00, -6.46444974e-01, -7.22748930e-01, -9.27873365e-01,\n",
       "       -6.94033159e-02,  1.99355818e-01, -1.40567051e+00, -2.78320434e-01,\n",
       "       -4.08160837e-01, -5.09815102e-01,  1.24969871e+00,  1.18419477e+00,\n",
       "        7.07561144e-01, -5.48922241e-01,  6.18562827e-01,  5.30126075e-01,\n",
       "        3.56386288e-01, -2.53900137e-01, -1.88004004e+00,  2.62259928e-01,\n",
       "       -1.83550551e-01,  7.50775694e-02, -5.18855711e-01,  9.76342676e-01,\n",
       "        7.27337158e-01,  9.98217395e-01,  4.68998157e-01,  1.67285949e-01,\n",
       "        3.55986462e-01, -1.01590316e+00, -3.01990423e-01,  1.06365990e+00,\n",
       "       -1.08302535e-01, -1.09317224e+00,  1.36564076e+00,  7.20073241e-01,\n",
       "        5.63444962e-01, -9.42626649e-01, -1.47632026e+00,  1.88448665e-02,\n",
       "        3.75991962e-01,  6.55659626e-01, -2.67822225e+00, -8.57994126e-02,\n",
       "        3.96861358e-01,  7.57193276e-01, -1.29826075e+00, -8.47508422e-01,\n",
       "       -8.16365550e-02, -8.68198121e-02, -8.10580808e-01,  1.25743317e+00,\n",
       "       -1.70441441e-01, -4.85254008e-01, -6.93635915e-01,  1.75737231e-01,\n",
       "        5.84684706e-01,  5.86053445e-01,  1.68323843e+00,  1.28801813e+00,\n",
       "       -2.70631398e+00,  1.19537971e+00,  2.02306310e-01,  9.42568878e-01,\n",
       "        4.78161635e-01, -5.75721446e-01, -2.11610118e-01, -8.55269228e-01,\n",
       "       -9.41789846e-01, -5.29990351e-01,  1.12527972e+00,  1.01326965e+00,\n",
       "       -1.32928055e-02, -6.27651489e-01, -1.99264965e-01,  1.44493077e+00,\n",
       "        7.21963894e-01,  1.97289381e+00,  1.57916491e-01, -1.55343884e+00,\n",
       "        9.28038020e-01, -3.50160936e-01,  1.04810753e+00, -1.21119695e+00,\n",
       "        8.53082792e-01,  1.03147094e+00,  8.89458984e-01, -8.04291773e-01,\n",
       "        1.66948437e+00,  5.91534819e-01,  6.74538643e-01, -4.49798371e-01,\n",
       "        1.09334265e+00, -4.79209754e-01,  1.61149936e+00,  5.59929229e-04,\n",
       "       -2.35614947e-01,  1.19738439e-01, -1.20670269e+00,  6.94197587e-01,\n",
       "       -4.93373796e-01, -5.80188496e-01, -2.12515824e-02,  1.41159391e+00,\n",
       "       -2.05931951e-01, -5.57606257e-03, -1.60023533e+00,  1.12817984e+00,\n",
       "       -3.02465738e-01, -1.51773417e+00,  9.69669967e-01, -2.35113938e+00,\n",
       "       -1.03021953e-01,  5.13158568e-01,  7.94777927e-01,  8.30568417e-02,\n",
       "        1.44113669e+00,  1.02583732e-01,  2.96991027e-01, -3.93963659e-01,\n",
       "        9.46893585e-01,  7.77501593e-01, -1.81854823e-01,  7.25456666e-01,\n",
       "        1.07857242e+00, -6.45297492e-01,  1.41145052e+00, -1.17727291e+00,\n",
       "       -1.11701498e+00, -4.58149104e-01,  2.07761814e+00,  7.30998713e-01,\n",
       "       -1.61455067e-01, -5.14820220e-01, -7.66697899e-01,  1.13766297e+00,\n",
       "       -5.77793743e-01,  1.67321062e+00, -4.67861532e-01, -9.55100990e-01,\n",
       "       -5.52806938e-01, -5.46408541e-01, -4.64994015e-01,  1.27525969e+00,\n",
       "        2.79007367e-01,  1.50676351e+00, -3.93105102e-01, -3.95229700e-01,\n",
       "        1.68552814e+00,  9.03620132e-01,  1.37687015e+00, -8.49036096e-01,\n",
       "        2.38345099e+00,  1.77002500e+00,  4.39939311e-01, -9.98265019e-01,\n",
       "        1.72981134e+00, -1.26287886e+00, -2.77503963e+00,  8.22676502e-02,\n",
       "        3.54890559e-01, -2.37913576e-01,  4.96804569e-01, -4.47513761e-01,\n",
       "        2.98269844e-01, -1.44950359e-01,  3.09853753e-02,  2.21112845e-01,\n",
       "       -1.09024697e+00, -3.92672935e-01, -1.76945779e-01,  3.61444861e-01,\n",
       "        1.11048279e+00,  3.80799205e-01,  1.31079542e+00,  8.28738659e-01,\n",
       "       -8.98528220e-01,  7.78047698e-02,  2.08805086e-01, -4.24492493e-01,\n",
       "        1.18870786e-01, -1.31681231e+00, -9.14129101e-01, -1.88489455e+00,\n",
       "       -3.38910466e-01,  5.70055123e-01,  6.72704533e-01,  8.46321311e-01,\n",
       "        2.11761716e-01, -2.03219392e+00, -8.42879575e-01,  4.64254750e-01,\n",
       "       -1.86909503e-02,  1.30325836e+00, -1.84473968e+00,  1.70476388e+00,\n",
       "       -3.04583165e-01, -8.41018093e-01,  1.36093930e+00, -8.43981104e-01,\n",
       "        1.57199148e-01, -3.41096389e-01,  1.37458338e+00, -5.99719174e-01,\n",
       "        1.37243032e-01, -8.13997641e-01,  1.95015122e+00,  4.58668908e-01,\n",
       "        1.40671173e-01, -1.05747141e+00, -2.86284021e-01,  5.54255163e-01,\n",
       "       -1.60046340e+00,  9.36647084e-01,  1.50391015e-01,  1.57559692e+00,\n",
       "       -3.77396666e-02, -1.46842792e+00, -1.14636063e+00, -2.63435544e-01,\n",
       "       -2.43774405e+00, -5.16251337e-01,  4.53877974e-01,  3.48328894e-01,\n",
       "       -2.60387043e-01, -2.08212514e-01, -3.98143175e-01, -1.12656676e+00,\n",
       "        1.30153490e+00,  2.49432556e-01, -1.04366666e+00, -6.21193208e-01,\n",
       "        1.62705140e+00,  1.07988117e+00,  3.80122194e-01,  9.01730229e-01,\n",
       "       -3.26119509e-01,  1.59035781e+00, -1.23394664e+00,  6.59928667e-01,\n",
       "        3.75377694e-01,  3.03771047e-01, -7.12765747e-01, -3.60885833e-01,\n",
       "       -1.18557170e+00, -1.64441650e+00,  1.91538520e+00,  1.45517099e-01,\n",
       "       -3.49667969e-01,  1.19234609e+00,  3.02467104e-01, -1.23481731e+00,\n",
       "       -1.53318757e+00, -8.09116907e-01, -7.33345542e-02,  4.22213679e-01,\n",
       "        4.72154700e-01,  5.86859242e-01, -1.43139107e+00, -2.32054526e+00,\n",
       "       -2.59128977e-01, -1.40615754e-01, -2.79700536e-01, -2.04641883e-01,\n",
       "       -1.51366495e+00,  2.60146090e-01, -2.90249333e+00,  1.14954528e+00,\n",
       "       -5.01306459e-01,  1.12313331e+00, -1.06690986e-01, -5.58775073e-01,\n",
       "       -7.30436245e-01,  1.72135620e-01,  3.98953758e-01, -3.41902492e-01,\n",
       "       -7.07977190e-01,  1.19308034e+00, -9.76451228e-01,  8.06600631e-01,\n",
       "        9.25013916e-01, -2.33789368e-01,  1.19013883e+00,  1.36285198e+00,\n",
       "       -7.46607619e-01,  1.42460554e+00, -2.57489108e+00,  7.52659362e-01,\n",
       "       -9.27652767e-01, -5.54719494e-01, -1.24711991e+00,  1.47990207e+00,\n",
       "       -5.36608792e-01,  2.28597072e-01, -3.60077511e-01,  2.02916814e+00,\n",
       "       -1.81999207e+00, -1.43162033e+00, -1.19199799e+00, -7.53824568e-01,\n",
       "       -7.30580284e-01, -4.24030627e-01, -4.01447142e-01, -3.74188365e-01,\n",
       "        7.07758626e-01,  1.35713311e-01, -8.03938658e-01, -1.49803502e+00,\n",
       "        2.02953456e+00,  5.02691656e-01, -4.14840900e-01,  6.25812948e-01,\n",
       "       -2.19717146e-01, -1.57993391e-01, -1.36340598e+00,  1.01910361e+00,\n",
       "       -5.35378489e-01,  1.21130910e+00, -2.62261366e-02, -5.23142320e-01,\n",
       "        4.88632927e-01,  1.33121792e+00, -1.73624352e+00, -1.13573901e+00,\n",
       "        4.68966481e-01, -5.40540793e-01, -2.50286740e-01, -7.17681605e-01,\n",
       "        9.32847547e-01, -4.42638218e-01,  8.27139188e-01, -4.33214825e-01,\n",
       "        1.57536514e+00, -2.05947904e-03, -1.97233482e+00, -9.29712318e-01,\n",
       "        1.62414567e+00, -5.28811406e-01,  1.64617295e+00, -8.34170990e-01,\n",
       "        2.04694791e-01,  5.20398270e-01,  6.05618349e-01,  8.69895919e-03,\n",
       "        5.56006622e-01, -9.93571847e-02, -1.01732850e+00,  4.90562550e-01,\n",
       "        4.54205203e-01, -8.08496580e-02,  9.81091626e-01, -2.39059142e+00,\n",
       "       -1.65380288e-01,  2.53777343e-01, -1.72091416e+00,  1.05652102e+00,\n",
       "       -5.95614905e-01,  1.70975708e+00,  1.52407143e+00,  3.79664606e-01,\n",
       "       -1.98344344e+00,  3.41786859e-01,  5.67670230e-01, -1.71103422e+00,\n",
       "        1.46366559e+00, -3.16022450e-01, -2.30673157e+00, -9.89065509e-01,\n",
       "        2.14430970e-01, -1.09568114e+00, -5.08083624e-01, -3.74183856e-01,\n",
       "        9.28353847e-01,  1.56576769e+00,  1.27843176e-01,  6.16225375e-01,\n",
       "       -2.52710818e-01, -9.65819864e-01, -3.95414084e-01, -1.14553336e+00,\n",
       "       -1.95806449e-02,  2.91844258e-01, -8.47954053e-01, -1.40415366e+00,\n",
       "        1.01440480e-01,  4.57484068e-01,  5.20823371e-01,  1.92247961e-02,\n",
       "        3.68605392e-01, -4.61384827e-01,  7.15990350e-01, -3.52426645e-01,\n",
       "       -5.88991269e-01,  8.22699517e-01,  1.30465552e+00, -1.81866683e+00,\n",
       "        2.93714015e-01,  1.44446102e+00,  5.72080818e-01,  2.58014321e+00,\n",
       "       -5.93316204e-01, -1.10237438e+00, -1.50601934e-01,  5.31405442e-01,\n",
       "       -1.31169553e+00,  2.21439471e-01,  5.97357082e-01,  2.25039230e-01,\n",
       "       -1.86142569e-01,  5.63942295e-01,  1.06617308e+00,  6.71804434e-01,\n",
       "       -2.06974653e-01,  3.91312846e-01, -7.24998233e-01,  1.09389221e+00,\n",
       "       -7.56239144e-01,  1.85129492e+00, -3.33957726e-02,  2.47832856e-01,\n",
       "        1.86121843e+00, -6.45196506e-01,  3.67244329e-01, -4.33931947e-01,\n",
       "        3.99301120e-01,  3.78545237e-01,  1.45407115e-01, -1.80906157e+00,\n",
       "       -8.92788049e-01, -8.04299380e-01, -1.36230097e+00, -1.92646582e-01,\n",
       "        3.93699242e-01,  2.66497391e+00, -1.51499718e-01, -2.51294310e-01,\n",
       "       -6.81023402e-01,  6.53777017e-01, -5.81731946e-01, -2.18414007e-01,\n",
       "       -1.02503148e+00, -1.50624602e-01, -1.31294997e+00,  1.34848945e-01,\n",
       "        9.23269416e-02,  8.96730948e-01,  1.29471229e+00, -1.06870929e+00,\n",
       "        3.17306202e-01, -1.54826578e+00,  7.64202996e-01, -3.04675665e-01,\n",
       "        4.55177739e-01,  5.15052610e-01, -1.22825188e+00, -1.49148323e-01,\n",
       "       -1.52993973e+00, -7.41327562e-01,  1.32877365e+00,  1.33690969e+00,\n",
       "       -3.28356353e-03, -6.49700856e-01, -7.45622245e-01,  3.89119649e-01,\n",
       "       -1.70262560e+00, -2.05233720e-01,  4.66284619e-01,  4.40958530e-01,\n",
       "       -1.09712213e-01, -2.05241025e+00,  5.21880077e-01,  3.78969807e-02,\n",
       "       -1.51387045e+00,  1.63547368e+00,  8.53702591e-01,  6.27706381e-01,\n",
       "        1.74701089e-02,  5.32940101e-01, -2.04940322e+00,  5.60354368e-01,\n",
       "       -9.60255319e-01, -1.34269840e+00,  2.14725130e+00,  5.35099714e-01])"
      ]
     },
     "execution_count": 116,
     "metadata": {},
     "output_type": "execute_result"
    }
   ],
   "source": [
    "x2=np.random.randn(1000)\n",
    "x2"
   ]
  },
  {
   "cell_type": "code",
   "execution_count": 117,
   "id": "3200ced6",
   "metadata": {},
   "outputs": [
    {
     "data": {
      "text/plain": [
       "-0.02792881288491035"
      ]
     },
     "execution_count": 117,
     "metadata": {},
     "output_type": "execute_result"
    }
   ],
   "source": [
    "np.mean(x2)"
   ]
  },
  {
   "cell_type": "code",
   "execution_count": 118,
   "id": "01190327",
   "metadata": {},
   "outputs": [
    {
     "data": {
      "text/plain": [
       "0.9853171170251906"
      ]
     },
     "execution_count": 118,
     "metadata": {},
     "output_type": "execute_result"
    }
   ],
   "source": [
    "np.std(x2)"
   ]
  },
  {
   "cell_type": "code",
   "execution_count": 120,
   "id": "cd3fc636",
   "metadata": {},
   "outputs": [
    {
     "data": {
      "text/plain": [
       "-0.01966726740931591"
      ]
     },
     "execution_count": 120,
     "metadata": {},
     "output_type": "execute_result"
    }
   ],
   "source": [
    "np.median(x2)"
   ]
  },
  {
   "cell_type": "code",
   "execution_count": 123,
   "id": "94e1c808",
   "metadata": {},
   "outputs": [
    {
     "data": {
      "text/plain": [
       "array([[0.60618169, 0.26597419, 0.25532252, 0.04159232, 0.02830345],\n",
       "       [0.58081712, 0.39063162, 0.10952263, 0.09285033, 0.62098234],\n",
       "       [0.47825632, 0.74319343, 0.31291644, 0.91788469, 0.07174275],\n",
       "       [0.78474014, 0.97279334, 0.50470661, 0.04043627, 0.49515554]])"
      ]
     },
     "execution_count": 123,
     "metadata": {},
     "output_type": "execute_result"
    }
   ],
   "source": [
    "# to generate random smaple of size 4*7 between 0 and 1\n",
    "np.random.sample([4,5])"
   ]
  },
  {
   "cell_type": "markdown",
   "id": "8db5c29b",
   "metadata": {},
   "source": [
    "# Creating identity matrix\n",
    "#### When thier is diagnol element is 1 which are diagonal element"
   ]
  },
  {
   "cell_type": "markdown",
   "id": "bf68160a",
   "metadata": {},
   "source": [
    "# Eye"
   ]
  },
  {
   "cell_type": "code",
   "execution_count": 126,
   "id": "ae9b4e85",
   "metadata": {},
   "outputs": [
    {
     "data": {
      "text/plain": [
       "array([[1., 0., 0.],\n",
       "       [0., 1., 0.],\n",
       "       [0., 0., 1.]])"
      ]
     },
     "execution_count": 126,
     "metadata": {},
     "output_type": "execute_result"
    }
   ],
   "source": [
    "np.eye(3)"
   ]
  },
  {
   "cell_type": "code",
   "execution_count": 127,
   "id": "1c75c48c",
   "metadata": {},
   "outputs": [
    {
     "data": {
      "text/plain": [
       "array([[0., 1., 0., 0.],\n",
       "       [0., 0., 1., 0.],\n",
       "       [0., 0., 0., 1.],\n",
       "       [0., 0., 0., 0.]])"
      ]
     },
     "execution_count": 127,
     "metadata": {},
     "output_type": "execute_result"
    }
   ],
   "source": [
    "np.eye(4,k=1) # K parameter decide the position of the diagonal"
   ]
  },
  {
   "cell_type": "code",
   "execution_count": 133,
   "id": "4908cddd",
   "metadata": {},
   "outputs": [
    {
     "data": {
      "text/plain": [
       "array([[0., 0., 0., 0., 0.],\n",
       "       [1., 0., 0., 0., 0.],\n",
       "       [0., 1., 0., 0., 0.],\n",
       "       [0., 0., 1., 0., 0.],\n",
       "       [0., 0., 0., 1., 0.]])"
      ]
     },
     "execution_count": 133,
     "metadata": {},
     "output_type": "execute_result"
    }
   ],
   "source": [
    "np.eye(5,k=-1)"
   ]
  },
  {
   "cell_type": "markdown",
   "id": "5e43df58",
   "metadata": {},
   "source": [
    "# Diag"
   ]
  },
  {
   "cell_type": "code",
   "execution_count": 140,
   "id": "cf3e071c",
   "metadata": {},
   "outputs": [
    {
     "name": "stdout",
     "output_type": "stream",
     "text": [
      "[[1 2 3 4]\n",
      " [3 4 5 6]\n",
      " [7 8 9 0]]\n"
     ]
    },
    {
     "data": {
      "text/plain": [
       "array([1, 4, 9])"
      ]
     },
     "execution_count": 140,
     "metadata": {},
     "output_type": "execute_result"
    }
   ],
   "source": [
    "a1 = np.array([[1,2,3,4],[3,4,5,6],[7,8,9,0]])\n",
    "print(a1)\n",
    "np.diag(a1)"
   ]
  },
  {
   "cell_type": "code",
   "execution_count": 141,
   "id": "da5a4139",
   "metadata": {},
   "outputs": [
    {
     "name": "stdout",
     "output_type": "stream",
     "text": [
      "[[1 2 3 4]\n",
      " [3 4 5 6]\n",
      " [7 8 9 0]]\n"
     ]
    },
    {
     "data": {
      "text/plain": [
       "array([3, 8])"
      ]
     },
     "execution_count": 141,
     "metadata": {},
     "output_type": "execute_result"
    }
   ],
   "source": [
    "a1 = np.array([[1,2,3,4],[3,4,5,6],[7,8,9,0]])\n",
    "print(a1)\n",
    "np.diag(a1,k=-1) # it extract the diagnol element"
   ]
  },
  {
   "cell_type": "code",
   "execution_count": 142,
   "id": "0976eb3f",
   "metadata": {},
   "outputs": [
    {
     "name": "stdout",
     "output_type": "stream",
     "text": [
      "[[1 2 3 4]\n",
      " [3 4 5 6]\n",
      " [7 8 9 0]]\n",
      "[[1 2 3 4]\n",
      " [3 4 5 6]\n",
      " [7 8 9 0]]\n",
      "[1 4 9]\n",
      "[[1 0 0]\n",
      " [0 4 0]\n",
      " [0 0 9]]\n"
     ]
    }
   ],
   "source": [
    "a1 = np.array([[1,2,3,4],[3,4,5,6],[7,8,9,0]])\n",
    "print(a1)\n",
    "k1=np.diag(a1,k=0)\n",
    "print(a1)\n",
    "print(k1)\n",
    "print(np.diag(k1))"
   ]
  },
  {
   "cell_type": "markdown",
   "id": "c423b79a",
   "metadata": {},
   "source": [
    "# Diagflat"
   ]
  },
  {
   "cell_type": "code",
   "execution_count": 143,
   "id": "7d3e6122",
   "metadata": {},
   "outputs": [
    {
     "data": {
      "text/plain": [
       "array([[1, 0, 0, 0],\n",
       "       [0, 2, 0, 0],\n",
       "       [0, 0, 3, 0],\n",
       "       [0, 0, 0, 4]])"
      ]
     },
     "execution_count": 143,
     "metadata": {},
     "output_type": "execute_result"
    }
   ],
   "source": [
    "# diagflat : for creating diagonal array menas the elements are to be placed diagonally based on the value of k\n",
    "\n",
    "a = np.diagflat([1,2,3,4],k = 0)\n",
    "a"
   ]
  },
  {
   "cell_type": "code",
   "execution_count": 144,
   "id": "fbed8241",
   "metadata": {},
   "outputs": [
    {
     "data": {
      "text/plain": [
       "array([[0, 0, 0, 0, 0],\n",
       "       [1, 0, 0, 0, 0],\n",
       "       [0, 2, 0, 0, 0],\n",
       "       [0, 0, 3, 0, 0],\n",
       "       [0, 0, 0, 4, 0]])"
      ]
     },
     "execution_count": 144,
     "metadata": {},
     "output_type": "execute_result"
    }
   ],
   "source": [
    "a1 = np.diagflat([1,2,3,4],k = -1)\n",
    "a1"
   ]
  },
  {
   "cell_type": "markdown",
   "id": "b07ddeca",
   "metadata": {},
   "source": [
    "# Tril"
   ]
  },
  {
   "cell_type": "code",
   "execution_count": 156,
   "id": "587d232a",
   "metadata": {},
   "outputs": [
    {
     "name": "stdout",
     "output_type": "stream",
     "text": [
      "[[1 2 3 4]\n",
      " [3 4 5 6]\n",
      " [7 8 9 0]]\n",
      " \n",
      "[[1 0 0 0]\n",
      " [3 4 0 0]\n",
      " [7 8 9 0]]\n",
      " \n",
      "[[0 0 0 0]\n",
      " [3 0 0 0]\n",
      " [7 8 0 0]]\n",
      " \n"
     ]
    }
   ],
   "source": [
    "a1 = np.array([[1,2,3,4],[3,4,5,6],[7,8,9,0]])\n",
    "print(a1)\n",
    "print(' ')\n",
    "print(np.tril(a1))\n",
    "print(' ')\n",
    "print(np.tril(a1,k=-1))\n",
    "print(' ')\n"
   ]
  },
  {
   "cell_type": "markdown",
   "id": "8167772c",
   "metadata": {},
   "source": [
    "# Triu"
   ]
  },
  {
   "cell_type": "code",
   "execution_count": 159,
   "id": "4f69e3f5",
   "metadata": {},
   "outputs": [
    {
     "name": "stdout",
     "output_type": "stream",
     "text": [
      "[[1 2 3 4]\n",
      " [3 4 5 6]\n",
      " [7 8 9 0]]\n",
      " \n",
      "[[1 2 3 4]\n",
      " [0 4 5 6]\n",
      " [0 0 9 0]]\n",
      " \n",
      "[[1 2 3 4]\n",
      " [3 4 5 6]\n",
      " [0 8 9 0]]\n",
      " \n"
     ]
    }
   ],
   "source": [
    "a1 = np.array([[1,2,3,4],[3,4,5,6],[7,8,9,0]])\n",
    "print(a1)\n",
    "print(' ')\n",
    "print(np.triu(a1))\n",
    "print(' ')\n",
    "print(np.triu(a1,k=-1))\n",
    "print(' ')\n"
   ]
  },
  {
   "cell_type": "markdown",
   "id": "8df5015b",
   "metadata": {},
   "source": [
    "# fromfunction"
   ]
  },
  {
   "cell_type": "code",
   "execution_count": 162,
   "id": "3ced26f0",
   "metadata": {},
   "outputs": [
    {
     "data": {
      "text/plain": [
       "array([[0., 1., 2.],\n",
       "       [1., 2., 3.],\n",
       "       [2., 3., 4.]])"
      ]
     },
     "execution_count": 162,
     "metadata": {},
     "output_type": "execute_result"
    }
   ],
   "source": [
    "np.fromfunction(lambda i,j :i+j,(3,3))    # i and j are indices of the elements"
   ]
  },
  {
   "cell_type": "code",
   "execution_count": 163,
   "id": "c6a0a2db",
   "metadata": {},
   "outputs": [
    {
     "data": {
      "text/plain": [
       "array([[0., 0., 0., 0.],\n",
       "       [0., 1., 2., 3.],\n",
       "       [0., 2., 4., 6.],\n",
       "       [0., 3., 6., 9.]])"
      ]
     },
     "execution_count": 163,
     "metadata": {},
     "output_type": "execute_result"
    }
   ],
   "source": [
    "np.fromfunction(lambda i,j :i*j,(4,4))"
   ]
  },
  {
   "cell_type": "code",
   "execution_count": 164,
   "id": "e8e79255",
   "metadata": {},
   "outputs": [
    {
     "data": {
      "text/plain": [
       "array([[ 0., -1., -2.],\n",
       "       [ 1.,  0., -1.],\n",
       "       [ 2.,  1.,  0.]])"
      ]
     },
     "execution_count": 164,
     "metadata": {},
     "output_type": "execute_result"
    }
   ],
   "source": [
    "np.fromfunction(lambda i,j :i-j,(3,3))"
   ]
  },
  {
   "cell_type": "code",
   "execution_count": null,
   "id": "abc10a7e",
   "metadata": {},
   "outputs": [],
   "source": []
  }
 ],
 "metadata": {
  "kernelspec": {
   "display_name": "Python 3 (ipykernel)",
   "language": "python",
   "name": "python3"
  },
  "language_info": {
   "codemirror_mode": {
    "name": "ipython",
    "version": 3
   },
   "file_extension": ".py",
   "mimetype": "text/x-python",
   "name": "python",
   "nbconvert_exporter": "python",
   "pygments_lexer": "ipython3",
   "version": "3.9.12"
  }
 },
 "nbformat": 4,
 "nbformat_minor": 5
}

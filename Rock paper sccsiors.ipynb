{
 "cells": [
  {
   "cell_type": "code",
   "execution_count": 34,
   "id": "987e6462",
   "metadata": {},
   "outputs": [
    {
     "name": "stdout",
     "output_type": "stream",
     "text": [
      " enter the choice (r) or (s) or (p)s\n"
     ]
    },
    {
     "data": {
      "text/plain": [
       "\"Its' a Tie\""
      ]
     },
     "execution_count": 34,
     "metadata": {},
     "output_type": "execute_result"
    }
   ],
   "source": [
    "import random\n",
    "def play():\n",
    "    user=input(f\" enter the choice (r) or (s) or (p)\")\n",
    "    computer=random.choice(['r','s','p'])\n",
    "    if user==computer:\n",
    "        return \"Its\\' a Tie\"\n",
    "    if is_win(user,computer):\n",
    "        return \"You Won!\"\n",
    "    return \"You lost\"\n",
    "def is_win(player,opponent):\n",
    "    if (player=='s' and opponent=='p') or (player=='r' or opponent=='s')\\\n",
    "    or (player=='p' or opponent=='r'):\n",
    "        return True\n",
    "    return False\n",
    "play()"
   ]
  },
  {
   "cell_type": "code",
   "execution_count": 28,
   "id": "7f6db994",
   "metadata": {},
   "outputs": [
    {
     "name": "stdout",
     "output_type": "stream",
     "text": [
      "Enter your choice (r for rock, s for scissors, p for paper): r\n",
      "You won!\n"
     ]
    }
   ],
   "source": [
    "import random\n",
    "\n",
    "def play():\n",
    "    user = input(\"Enter your choice (r for rock, s for scissors, p for paper): \").lower()\n",
    "    computer = random.choice(['r', 's', 'p'])\n",
    "\n",
    "    if user == computer:\n",
    "        return \"It's a tie!\"\n",
    "    if is_win(user, computer):\n",
    "        return \"You won!\"\n",
    "    return \"You lost.\"\n",
    "\n",
    "def is_win(player, opponent):\n",
    "    if (player == 'r' and opponent == 's') or \\\n",
    "       (player == 's' and opponent == 'p') or \\\n",
    "       (player == 'p' and opponent == 'r'):\n",
    "        return True\n",
    "    return False\n",
    "\n",
    "result = play()\n",
    "print(result)\n"
   ]
  },
  {
   "cell_type": "code",
   "execution_count": null,
   "id": "7755bd40",
   "metadata": {},
   "outputs": [],
   "source": []
  }
 ],
 "metadata": {
  "kernelspec": {
   "display_name": "Python 3 (ipykernel)",
   "language": "python",
   "name": "python3"
  },
  "language_info": {
   "codemirror_mode": {
    "name": "ipython",
    "version": 3
   },
   "file_extension": ".py",
   "mimetype": "text/x-python",
   "name": "python",
   "nbconvert_exporter": "python",
   "pygments_lexer": "ipython3",
   "version": "3.9.12"
  }
 },
 "nbformat": 4,
 "nbformat_minor": 5
}

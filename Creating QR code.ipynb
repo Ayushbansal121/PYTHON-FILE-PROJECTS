{
 "cells": [
  {
   "cell_type": "code",
   "execution_count": 23,
   "id": "c404fe76",
   "metadata": {},
   "outputs": [
    {
     "name": "stdout",
     "output_type": "stream",
     "text": [
      "Defaulting to user installation because normal site-packages is not writeableNote: you may need to restart the kernel to use updated packages.\n",
      "\n",
      "Requirement already satisfied: qrcode in c:\\users\\ayush\\appdata\\roaming\\python\\python39\\site-packages (7.4.2)\n",
      "Requirement already satisfied: colorama in c:\\programdata\\anaconda3\\lib\\site-packages (from qrcode) (0.4.4)\n",
      "Requirement already satisfied: pypng in c:\\users\\ayush\\appdata\\roaming\\python\\python39\\site-packages (from qrcode) (0.20220715.0)\n",
      "Requirement already satisfied: typing-extensions in c:\\programdata\\anaconda3\\lib\\site-packages (from qrcode) (4.1.1)\n"
     ]
    }
   ],
   "source": [
    "#pip install qrcode"
   ]
  },
  {
   "cell_type": "code",
   "execution_count": 18,
   "id": "2e8a1fb1",
   "metadata": {},
   "outputs": [
    {
     "name": "stdout",
     "output_type": "stream",
     "text": [
      "Defaulting to user installation because normal site-packages is not writeable\n",
      "Requirement already satisfied: qrcode[pil] in c:\\users\\ayush\\appdata\\roaming\\python\\python39\\site-packages (7.4.2)\n",
      "Requirement already satisfied: typing-extensions in c:\\programdata\\anaconda3\\lib\\site-packages (from qrcode[pil]) (4.1.1)\n",
      "Requirement already satisfied: pypng in c:\\users\\ayush\\appdata\\roaming\\python\\python39\\site-packages (from qrcode[pil]) (0.20220715.0)\n",
      "Requirement already satisfied: colorama in c:\\programdata\\anaconda3\\lib\\site-packages (from qrcode[pil]) (0.4.4)\n",
      "Requirement already satisfied: pillow>=9.1.0 in c:\\users\\ayush\\appdata\\roaming\\python\\python39\\site-packages (from qrcode[pil]) (10.1.0)\n",
      "Note: you may need to restart the kernel to use updated packages.\n"
     ]
    }
   ],
   "source": [
    "#pip install qrcode[pil]"
   ]
  },
  {
   "cell_type": "code",
   "execution_count": 24,
   "id": "152179e6",
   "metadata": {},
   "outputs": [],
   "source": [
    "import qrcode as qr\n",
    "img=qr.make(\"https://www.youtube.com/watch?v=Dp6lbdoprZ0\")\n",
    "img.save(\"MRYNR_YOUTUBE.png\")"
   ]
  },
  {
   "cell_type": "code",
   "execution_count": 31,
   "id": "ff941642",
   "metadata": {},
   "outputs": [],
   "source": [
    "import qrcode\n",
    "from PIL import Image\n",
    "qr=qrcode.QRCode(version=1,\n",
    "                error_correction=qrcode.constants.ERROR_CORRECT_H,\n",
    "                box_size=10,border=4,)\n",
    "qr.add_data(\"https://www.youtube.com/watch?v=HHgVlMrkloQ\")\n",
    "qr.make(fit=True)\n",
    "img=qr.make_image(fill_color=\"red\",back_color=\"black\")\n",
    "img.save(\"EDAa.png\")"
   ]
  },
  {
   "cell_type": "code",
   "execution_count": 29,
   "id": "ea312fa4",
   "metadata": {},
   "outputs": [],
   "source": [
    "import qrcode as qr\n",
    "imgi=qr.make(\"https://www.youtube.com/watch?v=6ZwwapPikyQ\")\n",
    "imgi.save('MAPL.png')"
   ]
  },
  {
   "cell_type": "code",
   "execution_count": 34,
   "id": "0b6fcad3",
   "metadata": {},
   "outputs": [],
   "source": [
    "import qrcode\n",
    "from PIL import Image\n",
    "qrc=qrcode.QRCode(version=1,\n",
    "                 error_correction=qrcode.constants.ERROR_CORRECT_H,\n",
    "                 box_size=10,border=4,)\n",
    "qrc.add_data(\"https://www.youtube.com/watch?v=VbOgch_i3qg\")\n",
    "qrc.make(fit=True)\n",
    "img=qrc.make_image(fill_color=\"yellow\",back_color=\"black\")\n",
    "img.save(\"rdka.png\")"
   ]
  },
  {
   "cell_type": "code",
   "execution_count": null,
   "id": "da3f9149",
   "metadata": {},
   "outputs": [],
   "source": []
  }
 ],
 "metadata": {
  "kernelspec": {
   "display_name": "Python 3 (ipykernel)",
   "language": "python",
   "name": "python3"
  },
  "language_info": {
   "codemirror_mode": {
    "name": "ipython",
    "version": 3
   },
   "file_extension": ".py",
   "mimetype": "text/x-python",
   "name": "python",
   "nbconvert_exporter": "python",
   "pygments_lexer": "ipython3",
   "version": "3.9.12"
  }
 },
 "nbformat": 4,
 "nbformat_minor": 5
}

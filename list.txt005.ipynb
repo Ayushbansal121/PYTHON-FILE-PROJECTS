{
 "cells": [
  {
   "cell_type": "code",
   "execution_count": 1,
   "id": "450e3dee",
   "metadata": {},
   "outputs": [
    {
     "data": {
      "text/plain": [
       "[]"
      ]
     },
     "execution_count": 1,
     "metadata": {},
     "output_type": "execute_result"
    }
   ],
   "source": [
    "l=[]\n",
    "l"
   ]
  },
  {
   "cell_type": "code",
   "execution_count": 2,
   "id": "ce33b601",
   "metadata": {},
   "outputs": [
    {
     "data": {
      "text/plain": [
       "[1, 2, 4, 5, 5]"
      ]
     },
     "execution_count": 2,
     "metadata": {},
     "output_type": "execute_result"
    }
   ],
   "source": [
    "l=[1,2,4,5,5]\n",
    "l"
   ]
  },
  {
   "cell_type": "code",
   "execution_count": 3,
   "id": "4a6a8397",
   "metadata": {},
   "outputs": [
    {
     "data": {
      "text/plain": [
       "[1, 3, 4, 5, 6, 7, 'hello']"
      ]
     },
     "execution_count": 3,
     "metadata": {},
     "output_type": "execute_result"
    }
   ],
   "source": [
    "l=[1,3,4,5,6,7,'hello']\n",
    "l"
   ]
  },
  {
   "cell_type": "code",
   "execution_count": 12,
   "id": "8c3449d7",
   "metadata": {},
   "outputs": [
    {
     "data": {
      "text/plain": [
       "78"
      ]
     },
     "execution_count": 12,
     "metadata": {},
     "output_type": "execute_result"
    }
   ],
   "source": [
    "l=['aman',2,[34,56,78],'m']\n",
    "l[2]\n",
    "l[-2]\n",
    "l[3]\n",
    "l[0:3]\n",
    "l[2][1]\n",
    "l[2][2]"
   ]
  },
  {
   "cell_type": "code",
   "execution_count": 14,
   "id": "cc8f8cb2",
   "metadata": {},
   "outputs": [
    {
     "data": {
      "text/plain": [
       "6"
      ]
     },
     "execution_count": 14,
     "metadata": {},
     "output_type": "execute_result"
    }
   ],
   "source": [
    "l=[[1,2,3],[4,5,6]]\n",
    "l[1][2]"
   ]
  },
  {
   "cell_type": "code",
   "execution_count": 17,
   "id": "ff853cd6",
   "metadata": {},
   "outputs": [
    {
     "data": {
      "text/plain": [
       "200"
      ]
     },
     "execution_count": 17,
     "metadata": {},
     "output_type": "execute_result"
    }
   ],
   "source": [
    "l=[[[1,2],[40,50]],[[4,5],[100,200]]]\n",
    "l[0][1][1]\n",
    "l[1][1][1]"
   ]
  },
  {
   "cell_type": "code",
   "execution_count": 18,
   "id": "578c413a",
   "metadata": {},
   "outputs": [
    {
     "data": {
      "text/plain": [
       "[98, 87, 100]"
      ]
     },
     "execution_count": 18,
     "metadata": {},
     "output_type": "execute_result"
    }
   ],
   "source": [
    "l1=[1,2,3,'madrid','hello',[49,98,87,100,110]]\n",
    "l1[5][1:4]"
   ]
  },
  {
   "cell_type": "code",
   "execution_count": 19,
   "id": "dce1b5d9",
   "metadata": {},
   "outputs": [
    {
     "name": "stdout",
     "output_type": "stream",
     "text": [
      "['1', '2', '3']\n"
     ]
    }
   ],
   "source": [
    "l=list('123')\n",
    "print(l)"
   ]
  },
  {
   "cell_type": "code",
   "execution_count": 21,
   "id": "6f61d363",
   "metadata": {},
   "outputs": [
    {
     "name": "stdout",
     "output_type": "stream",
     "text": [
      "[1, 2, 100, 6]\n"
     ]
    }
   ],
   "source": [
    "l=[1,2,4,6]\n",
    "l[-2]=100\n",
    "print(l)"
   ]
  },
  {
   "cell_type": "code",
   "execution_count": 23,
   "id": "70011ac2",
   "metadata": {},
   "outputs": [
    {
     "name": "stdout",
     "output_type": "stream",
     "text": [
      "[68, 303, 2993, 2302]\n"
     ]
    }
   ],
   "source": [
    "l=[1,2,4,6]\n",
    "l[0:4]=68,303,2993,2302\n",
    "print(l)"
   ]
  },
  {
   "cell_type": "code",
   "execution_count": 24,
   "id": "5d273ec3",
   "metadata": {},
   "outputs": [
    {
     "name": "stdout",
     "output_type": "stream",
     "text": [
      "[1, 2, 4, 6, 'hello']\n"
     ]
    }
   ],
   "source": [
    "l=[1,2,4,6]\n",
    "l.append('hello')\n",
    "print(l) # we just add append at the last "
   ]
  },
  {
   "cell_type": "code",
   "execution_count": 29,
   "id": "2924d179",
   "metadata": {},
   "outputs": [
    {
     "name": "stdout",
     "output_type": "stream",
     "text": [
      "[1, 2, 4, 6, 'ayush', 'bansal']\n"
     ]
    }
   ],
   "source": [
    "l=[1,2,4,6]\n",
    "l1=['ayush','bansal']\n",
    "l.extend(l1)\n",
    "print(l)"
   ]
  },
  {
   "cell_type": "code",
   "execution_count": null,
   "id": "7ccc4bd9",
   "metadata": {},
   "outputs": [],
   "source": []
  },
  {
   "cell_type": "code",
   "execution_count": 35,
   "id": "4a5791ca",
   "metadata": {},
   "outputs": [
    {
     "name": "stdout",
     "output_type": "stream",
     "text": [
      "[1, 2, 100, 100, 100, 100, 100, 4, 6, 'ayush', 'bansal']\n"
     ]
    }
   ],
   "source": [
    "l1=[1,2,3,4]\n",
    "l.insert(2,100)\n",
    "print(l)"
   ]
  },
  {
   "cell_type": "code",
   "execution_count": 39,
   "id": "eb150167",
   "metadata": {},
   "outputs": [
    {
     "name": "stdout",
     "output_type": "stream",
     "text": [
      "[1, 23, 4, 4]\n"
     ]
    }
   ],
   "source": [
    "l=[1,23,4,4,4,]\n",
    "del l[3]\n",
    "print(l)\n"
   ]
  },
  {
   "cell_type": "code",
   "execution_count": 46,
   "id": "dc4225fb",
   "metadata": {},
   "outputs": [],
   "source": [
    "l1=[1,2,3,4]\n",
    "del l1\n",
    "\n",
    "\n"
   ]
  },
  {
   "cell_type": "code",
   "execution_count": 47,
   "id": "39c05795",
   "metadata": {},
   "outputs": [
    {
     "data": {
      "text/plain": [
       "7"
      ]
     },
     "execution_count": 47,
     "metadata": {},
     "output_type": "execute_result"
    }
   ],
   "source": [
    "l=[1,2,4,67,7]\n",
    "l.pop()"
   ]
  },
  {
   "cell_type": "code",
   "execution_count": 50,
   "id": "f8abce32",
   "metadata": {},
   "outputs": [
    {
     "name": "stdout",
     "output_type": "stream",
     "text": [
      "[1, 2, 4566, 7, 8]\n"
     ]
    }
   ],
   "source": [
    "l=[1,2,4566,7,8,88,]\n",
    "l.remove(88)\n",
    "print(l)"
   ]
  },
  {
   "cell_type": "code",
   "execution_count": 51,
   "id": "8de9e0b2",
   "metadata": {},
   "outputs": [
    {
     "name": "stdout",
     "output_type": "stream",
     "text": [
      "[]\n"
     ]
    }
   ],
   "source": [
    "l=[4,5,67,8,8,543]\n",
    "l.clear()\n",
    "print(l)"
   ]
  },
  {
   "cell_type": "code",
   "execution_count": 52,
   "id": "489b2165",
   "metadata": {},
   "outputs": [
    {
     "name": "stdout",
     "output_type": "stream",
     "text": [
      "[1, 2, 4566, 7, 8, 88, 4, 5, 67, 8, 8, 543]\n"
     ]
    }
   ],
   "source": [
    "l=[1,2,4566,7,8,88,]+[4,5,67,8,8,543]\n",
    "print(l)"
   ]
  },
  {
   "cell_type": "code",
   "execution_count": 53,
   "id": "674bac6b",
   "metadata": {},
   "outputs": [
    {
     "name": "stdout",
     "output_type": "stream",
     "text": [
      "[4, 5, 67, 8, 8, 543, 4, 5, 67, 8, 8, 543, 4, 5, 67, 8, 8, 543, 4, 5, 67, 8, 8, 543, 4, 5, 67, 8, 8, 543]\n"
     ]
    }
   ],
   "source": [
    "l=[4,5,67,8,8,543]*5\n",
    "print(l)"
   ]
  },
  {
   "cell_type": "code",
   "execution_count": 56,
   "id": "39d79457",
   "metadata": {},
   "outputs": [
    {
     "data": {
      "text/plain": [
       "True"
      ]
     },
     "execution_count": 56,
     "metadata": {},
     "output_type": "execute_result"
    }
   ],
   "source": [
    "l=[4,5,67,8,[8,543]]\n",
    "[8,543] in l"
   ]
  },
  {
   "cell_type": "code",
   "execution_count": 57,
   "id": "b6ef8521",
   "metadata": {},
   "outputs": [],
   "source": [
    "#wap a program to display all the even no of the list in a new list - hint append"
   ]
  },
  {
   "cell_type": "code",
   "execution_count": 1,
   "id": "7f66bfb6",
   "metadata": {},
   "outputs": [],
   "source": [
    "#wap program to display the list type of the corresponding element -hint type"
   ]
  },
  {
   "cell_type": "code",
   "execution_count": 17,
   "id": "cbab5c34",
   "metadata": {},
   "outputs": [
    {
     "name": "stdout",
     "output_type": "stream",
     "text": [
      "[3, 56, 7, 8, 9, 6, 6, 6, 2, 4, 6, 8, 10]\n"
     ]
    }
   ],
   "source": [
    "l=(1,2,3,4,5,6,7,8,9,10)\n",
    "h=[3,56,7,8,9,6,6,6]\n",
    "for i in l:\n",
    "    if i%2==0:\n",
    "        h.append(i)\n",
    "print(h)\n",
    "        "
   ]
  },
  {
   "cell_type": "code",
   "execution_count": 26,
   "id": "bad09724",
   "metadata": {},
   "outputs": [
    {
     "name": "stdout",
     "output_type": "stream",
     "text": [
      "<class 'list'>\n",
      "<class 'tuple'>\n",
      "<class 'str'>\n",
      "<class 'int'>\n",
      "<class 'float'>\n"
     ]
    }
   ],
   "source": [
    "l=[1,2,3,4,5,6,7,8,9,10]\n",
    "k=(1,2,3,4,5,6,7,8,9,10)\n",
    "j=('1,2,3,4,5,6,7,8,9,10')\n",
    "h=(1)\n",
    "y=(33090.99)\n",
    "print(type(l))\n",
    "print(type(k))\n",
    "print(type(j))\n",
    "print(type(h))\n",
    "print(type(y))\n"
   ]
  },
  {
   "cell_type": "code",
   "execution_count": 1,
   "id": "5789e50f",
   "metadata": {},
   "outputs": [
    {
     "data": {
      "text/plain": [
       "['__add__',\n",
       " '__class__',\n",
       " '__class_getitem__',\n",
       " '__contains__',\n",
       " '__delattr__',\n",
       " '__delitem__',\n",
       " '__dir__',\n",
       " '__doc__',\n",
       " '__eq__',\n",
       " '__format__',\n",
       " '__ge__',\n",
       " '__getattribute__',\n",
       " '__getitem__',\n",
       " '__gt__',\n",
       " '__hash__',\n",
       " '__iadd__',\n",
       " '__imul__',\n",
       " '__init__',\n",
       " '__init_subclass__',\n",
       " '__iter__',\n",
       " '__le__',\n",
       " '__len__',\n",
       " '__lt__',\n",
       " '__mul__',\n",
       " '__ne__',\n",
       " '__new__',\n",
       " '__reduce__',\n",
       " '__reduce_ex__',\n",
       " '__repr__',\n",
       " '__reversed__',\n",
       " '__rmul__',\n",
       " '__setattr__',\n",
       " '__setitem__',\n",
       " '__sizeof__',\n",
       " '__str__',\n",
       " '__subclasshook__',\n",
       " 'append',\n",
       " 'clear',\n",
       " 'copy',\n",
       " 'count',\n",
       " 'extend',\n",
       " 'index',\n",
       " 'insert',\n",
       " 'pop',\n",
       " 'remove',\n",
       " 'reverse',\n",
       " 'sort']"
      ]
     },
     "execution_count": 1,
     "metadata": {},
     "output_type": "execute_result"
    }
   ],
   "source": [
    "dir(list)"
   ]
  },
  {
   "cell_type": "code",
   "execution_count": 3,
   "id": "ebf1774d",
   "metadata": {},
   "outputs": [
    {
     "data": {
      "text/plain": [
       "3"
      ]
     },
     "execution_count": 3,
     "metadata": {},
     "output_type": "execute_result"
    }
   ],
   "source": [
    "l=[100,132,121]\n",
    "len(l)"
   ]
  },
  {
   "cell_type": "code",
   "execution_count": 4,
   "id": "9f9c875b",
   "metadata": {},
   "outputs": [
    {
     "data": {
      "text/plain": [
       "132"
      ]
     },
     "execution_count": 4,
     "metadata": {},
     "output_type": "execute_result"
    }
   ],
   "source": [
    "l=[100,132,121]\n",
    "max(l)"
   ]
  },
  {
   "cell_type": "code",
   "execution_count": 11,
   "id": "d31e3b20",
   "metadata": {},
   "outputs": [
    {
     "data": {
      "text/plain": [
       "['a', 'a', 'a', 'b', 'c', 'm', 't', 't', 't']"
      ]
     },
     "execution_count": 11,
     "metadata": {},
     "output_type": "execute_result"
    }
   ],
   "source": [
    "l='catbatmat'\n",
    "sorted(l)\n",
    "\n"
   ]
  },
  {
   "cell_type": "code",
   "execution_count": 14,
   "id": "815c259d",
   "metadata": {},
   "outputs": [
    {
     "data": {
      "text/plain": [
       "[132, 121, 100]"
      ]
     },
     "execution_count": 14,
     "metadata": {},
     "output_type": "execute_result"
    }
   ],
   "source": [
    "l=[100,132,121]\n",
    "sorted(l,reverse=True)\n"
   ]
  },
  {
   "cell_type": "code",
   "execution_count": 16,
   "id": "f6048fd7",
   "metadata": {},
   "outputs": [],
   "source": [
    "l.sort(reverse=True)"
   ]
  },
  {
   "cell_type": "code",
   "execution_count": 17,
   "id": "3132dd11",
   "metadata": {},
   "outputs": [
    {
     "data": {
      "text/plain": [
       "'ajjjdjadd'"
      ]
     },
     "execution_count": 17,
     "metadata": {},
     "output_type": "execute_result"
    }
   ],
   "source": [
    "l=['ajjjdjadd','jnndddqd','ndqdqqqd']\n",
    "min(l)"
   ]
  },
  {
   "cell_type": "code",
   "execution_count": 19,
   "id": "434ae02a",
   "metadata": {},
   "outputs": [
    {
     "name": "stdout",
     "output_type": "stream",
     "text": [
      "[198491, 9818, -1]\n"
     ]
    }
   ],
   "source": [
    "l=[-1,9818,198491]\n",
    "l.reverse()\n",
    "print(l)"
   ]
  },
  {
   "cell_type": "code",
   "execution_count": 21,
   "id": "120af60f",
   "metadata": {},
   "outputs": [
    {
     "name": "stdout",
     "output_type": "stream",
     "text": [
      "['here', 'herelearn', 'heon', 'we learn', 'we on', 'phython', 'pylearn', 'pyon', 'here', 'helearn', 'heon', 'were', 'welearn', 'weon']\n"
     ]
    }
   ],
   "source": [
    "l1=['he','we']\n",
    "l2=['re','learn','on']\n",
    "l=['here','herelearn','heon','we learn','we on','phython','pylearn','pyon']\n",
    "for i in l1:\n",
    "    for k in l2:\n",
    "        l.append(i+k)\n",
    "print(l)"
   ]
  },
  {
   "cell_type": "code",
   "execution_count": 22,
   "id": "262586a9",
   "metadata": {},
   "outputs": [],
   "source": [
    "#list compresion\n",
    "l1=['he','we']\n",
    "l2=['re','learn','on']\n",
    "l=['learn','we learn','phython']"
   ]
  },
  {
   "cell_type": "code",
   "execution_count": 23,
   "id": "f66ee33a",
   "metadata": {},
   "outputs": [
    {
     "data": {
      "text/plain": [
       "[(1, 'one'), (2, 'two'), (3, 'three'), (4, 'four'), (5, 'five')]"
      ]
     },
     "execution_count": 23,
     "metadata": {},
     "output_type": "execute_result"
    }
   ],
   "source": [
    "l=[1,2,3,4,5]\n",
    "l1=['one','two','three','four','five']\n",
    "list(zip(l,l1))"
   ]
  },
  {
   "cell_type": "code",
   "execution_count": 24,
   "id": "d2871893",
   "metadata": {},
   "outputs": [
    {
     "data": {
      "text/plain": [
       "[('he', 're', 'learn'), ('we', 'learn', 'we learn')]"
      ]
     },
     "execution_count": 24,
     "metadata": {},
     "output_type": "execute_result"
    }
   ],
   "source": [
    "l1=['he','we']\n",
    "l2=['re','learn','on']\n",
    "l=['learn','we learn','phytho']\n",
    "list(zip(l1,l2,l))"
   ]
  },
  {
   "cell_type": "code",
   "execution_count": 26,
   "id": "afccded8",
   "metadata": {},
   "outputs": [
    {
     "data": {
      "text/plain": [
       "'u'"
      ]
     },
     "execution_count": 26,
     "metadata": {},
     "output_type": "execute_result"
    }
   ],
   "source": [
    "l1='ayush'\n",
    "l='anuj'\n",
    "l2=list(zip(l,l1))\n",
    "l2[2][1]\n"
   ]
  },
  {
   "cell_type": "code",
   "execution_count": 32,
   "id": "ae1878e0",
   "metadata": {},
   "outputs": [
    {
     "name": "stdout",
     "output_type": "stream",
     "text": [
      "[1, 2, 3, 4, 5, 6, 7, 8, 9, 10]\n"
     ]
    }
   ],
   "source": [
    "l=[]\n",
    "for i in range(1,11):\n",
    "    l.append(i)\n",
    "print(l)\n",
    "    "
   ]
  },
  {
   "cell_type": "code",
   "execution_count": 34,
   "id": "daf19a4f",
   "metadata": {},
   "outputs": [
    {
     "data": {
      "text/plain": [
       "[1, 2, 3, 4, 5]"
      ]
     },
     "execution_count": 34,
     "metadata": {},
     "output_type": "execute_result"
    }
   ],
   "source": [
    "[i for i in range(1,6)]"
   ]
  },
  {
   "cell_type": "code",
   "execution_count": 40,
   "id": "d4c331d2",
   "metadata": {},
   "outputs": [
    {
     "data": {
      "text/plain": [
       "[2, 4, 6, 8]"
      ]
     },
     "execution_count": 40,
     "metadata": {},
     "output_type": "execute_result"
    }
   ],
   "source": [
    "[i for i in range(1,10) if i%2==0]"
   ]
  },
  {
   "cell_type": "code",
   "execution_count": 41,
   "id": "39cc1c80",
   "metadata": {},
   "outputs": [
    {
     "data": {
      "text/plain": [
       "['odd', 2, 'odd', 4, 'odd', 6, 'odd', 8, 'odd', 10]"
      ]
     },
     "execution_count": 41,
     "metadata": {},
     "output_type": "execute_result"
    }
   ],
   "source": [
    "[i if i%2==0  else 'odd' for i in range (1,11)]"
   ]
  },
  {
   "cell_type": "code",
   "execution_count": 43,
   "id": "36f490a9",
   "metadata": {},
   "outputs": [
    {
     "data": {
      "text/plain": [
       "[]"
      ]
     },
     "execution_count": 43,
     "metadata": {},
     "output_type": "execute_result"
    }
   ],
   "source": [
    "['yes it present' for i in l if i==[5,6,7]]"
   ]
  },
  {
   "cell_type": "code",
   "execution_count": null,
   "id": "ec426d42",
   "metadata": {},
   "outputs": [],
   "source": []
  },
  {
   "cell_type": "code",
   "execution_count": null,
   "id": "c9d5ef94",
   "metadata": {},
   "outputs": [],
   "source": [
    "# write a program to display the smallest element in the list"
   ]
  },
  {
   "cell_type": "code",
   "execution_count": 14,
   "id": "174308bf",
   "metadata": {},
   "outputs": [
    {
     "name": "stdout",
     "output_type": "stream",
     "text": [
      "enter no:3,5,6,6\n",
      "3\n"
     ]
    }
   ],
   "source": [
    "l=input('enter no:').split(',')\n",
    "sum=l[0]\n",
    "for i in l:\n",
    "    if i<sum:\n",
    "        sum=i\n",
    "print(sum)\n",
    "        \n",
    "    \n",
    "    "
   ]
  },
  {
   "cell_type": "code",
   "execution_count": 4,
   "id": "764a34ed",
   "metadata": {},
   "outputs": [
    {
     "name": "stdout",
     "output_type": "stream",
     "text": [
      "[1, 3, 4, 6]\n"
     ]
    }
   ],
   "source": [
    "l=[1,3,4,6,3,6,1]\n",
    "unique_list=[]\n",
    "for i in  l:\n",
    "    if i not in unique_list:\n",
    "        unique_list.append(i)\n",
    "print(unique_list)"
   ]
  },
  {
   "cell_type": "code",
   "execution_count": null,
   "id": "e2ac52b2",
   "metadata": {},
   "outputs": [],
   "source": [
    "wap to remove reapeat element"
   ]
  },
  {
   "cell_type": "code",
   "execution_count": 62,
   "id": "bf853cde",
   "metadata": {},
   "outputs": [
    {
     "name": "stdout",
     "output_type": "stream",
     "text": [
      "[1, 4, 5, 6, 7]\n"
     ]
    }
   ],
   "source": [
    "l=[1,4,5,6,6,6,7]\n",
    "for i in l:\n",
    "    if i==6:\n",
    "        l.remove(i)\n",
    "print(l)"
   ]
  },
  {
   "cell_type": "code",
   "execution_count": 8,
   "id": "782f449f",
   "metadata": {},
   "outputs": [
    {
     "name": "stdout",
     "output_type": "stream",
     "text": [
      "Total 24\n"
     ]
    }
   ],
   "source": [
    "# Write a Python program to sum all the items in a list\n",
    "l=[1,3,4,6,3,6,1]\n",
    "x=0\n",
    "for i in l:\n",
    "    x=x+i\n",
    "print('Total',x)"
   ]
  },
  {
   "cell_type": "code",
   "execution_count": 15,
   "id": "ba55046b",
   "metadata": {},
   "outputs": [
    {
     "name": "stdout",
     "output_type": "stream",
     "text": [
      "enter no3,5,6,7\n",
      "3 is smallest\n"
     ]
    }
   ],
   "source": [
    "# Write a Python program to get the smallest number from a list\n",
    "l=input('enter no').split(',')\n",
    "x=l[0]\n",
    "for i in l:\n",
    "    if i<x:\n",
    "        x=i\n",
    "print(x,'is smallest')\n",
    "    \n",
    "    "
   ]
  },
  {
   "cell_type": "code",
   "execution_count": 16,
   "id": "1a030ef4",
   "metadata": {},
   "outputs": [
    {
     "name": "stdout",
     "output_type": "stream",
     "text": [
      "enter the stringmy name is ayush\n",
      "['m', 'y', ' ', 'n', 'a', 'e', 'i', 's', 'u', 'h']\n"
     ]
    }
   ],
   "source": [
    "#Write a program to find unique elements of string specified by user and display unique elements in list\n",
    "l=input('enter the string')\n",
    "x=[]\n",
    "for i in l:\n",
    "    if i not in x:\n",
    "        x.append(i)\n",
    "print(x)"
   ]
  },
  {
   "cell_type": "code",
   "execution_count": 49,
   "id": "08179b8a",
   "metadata": {},
   "outputs": [
    {
     "name": "stdout",
     "output_type": "stream",
     "text": [
      "['Green', 'White', 'Black']\n"
     ]
    }
   ],
   "source": [
    "#Write a Python program to print a specified list after removing the 0th, 4th and 5th elements.\n",
    " ##['Red', 'Green', 'White', 'Black', 'Pink', 'Yellow']\n",
    "##['Green', 'White', 'Black']\n",
    "l= ['Red', 'Green', 'White', 'Black', 'Pink', 'Yellow']\n",
    "x=[]\n",
    "for  i in l[1],l[2],l[3]:\n",
    "    if i not in x:\n",
    "        x.append(i)\n",
    "print(x)\n",
    "    "
   ]
  },
  {
   "cell_type": "code",
   "execution_count": 4,
   "id": "2bfe853c",
   "metadata": {},
   "outputs": [
    {
     "name": "stdout",
     "output_type": "stream",
     "text": [
      "enter stringayush\n",
      "auh\n"
     ]
    }
   ],
   "source": [
    "# Write a program to display all the elements of odd position.\n",
    "x=input('enter string')\n",
    "l=x[::2]\n",
    "print(l)"
   ]
  },
  {
   "cell_type": "code",
   "execution_count": 5,
   "id": "27a7b90f",
   "metadata": {},
   "outputs": [
    {
     "name": "stdout",
     "output_type": "stream",
     "text": [
      "enter stringayush\n",
      "['a', 'y', 'u', 's', 'h']\n"
     ]
    }
   ],
   "source": [
    "#Write a Python program to convert a string to a list.\n",
    "x=input('enter string')\n",
    "l=list(x)\n",
    "print(l)"
   ]
  },
  {
   "cell_type": "code",
   "execution_count": 9,
   "id": "d6cada77",
   "metadata": {},
   "outputs": [
    {
     "name": "stdout",
     "output_type": "stream",
     "text": [
      "[1, 1, 15, 2, 3, 4, 4, 5, 1]\n"
     ]
    }
   ],
   "source": [
    "#Write a Python program to insert an element at a specified position into a given list.\n",
    "#Original list:\n",
    "#[1, 1, 2, 3, 4, 4, 5, 1]\n",
    "#After inserting an element at kth position in the said list:\n",
    "#[1, 1, 12, 2, 3, 4, 4, 5, 1]\n",
    "\n",
    "z=[1, 1, 2, 3, 4, 4, 5, 1]\n",
    "z.insert(2,15)\n",
    "print(z)\n"
   ]
  },
  {
   "cell_type": "code",
   "execution_count": 11,
   "id": "e5ef0b9d",
   "metadata": {},
   "outputs": [
    {
     "name": "stdout",
     "output_type": "stream",
     "text": [
      "[1, 5, 4, 4, 3, 2, 1, 1]\n"
     ]
    }
   ],
   "source": [
    "#How to reverse the List using slice\n",
    "z=[1, 1, 2, 3, 4, 4, 5, 1]\n",
    "l=z[::-1]\n",
    "print(l)"
   ]
  },
  {
   "cell_type": "code",
   "execution_count": 12,
   "id": "307ab1e1",
   "metadata": {},
   "outputs": [
    {
     "name": "stdout",
     "output_type": "stream",
     "text": [
      "enter the stringayush\n",
      "hsuya\n"
     ]
    }
   ],
   "source": [
    "x=input('enter the string')\n",
    "z=x[::-1]\n",
    "print(z)"
   ]
  },
  {
   "cell_type": "code",
   "execution_count": 21,
   "id": "0d0f2062",
   "metadata": {},
   "outputs": [
    {
     "name": "stdout",
     "output_type": "stream",
     "text": [
      "ayush\n"
     ]
    }
   ],
   "source": [
    "#Program to convert a list into string\n",
    "x=['a', 'y', 'u', 's', 'h']\n",
    "z=''.join(x)\n",
    "print(z)"
   ]
  },
  {
   "cell_type": "code",
   "execution_count": 23,
   "id": "8ea3440b",
   "metadata": {},
   "outputs": [
    {
     "name": "stdout",
     "output_type": "stream",
     "text": [
      "[25, 16, 16, 9, 4, 49]\n"
     ]
    }
   ],
   "source": [
    "# How to get the square of each list element \n",
    "x=[5, 4, 4, 3, 2, 7, 9]\n",
    "z=[]\n",
    "for i in x:\n",
    "    if i not in z:\n",
    "        z.append(i**2)\n",
    "print(z)"
   ]
  },
  {
   "cell_type": "code",
   "execution_count": 24,
   "id": "1ec2bc83",
   "metadata": {},
   "outputs": [
    {
     "data": {
      "text/plain": [
       "[2, 4, 12, 48]"
      ]
     },
     "execution_count": 24,
     "metadata": {},
     "output_type": "execute_result"
    }
   ],
   "source": [
    "#How to Filter even values from a list using list comprehension\n",
    "x=[2,4,7,12,5,48,31]\n",
    "[i for i in x if i%2==0]"
   ]
  },
  {
   "cell_type": "code",
   "execution_count": 38,
   "id": "02b1fc60",
   "metadata": {},
   "outputs": [
    {
     "name": "stdout",
     "output_type": "stream",
     "text": [
      "[2, 4, 7, 12, 48, 31]\n"
     ]
    }
   ],
   "source": [
    "#How to remove elements in a list before a specific index\n",
    "k=[2,4,7,12,5,48,31]\n",
    "k.pop(4)\n",
    "print(k)\n",
    "    "
   ]
  },
  {
   "cell_type": "code",
   "execution_count": 42,
   "id": "9cbf8f16",
   "metadata": {},
   "outputs": [
    {
     "name": "stdout",
     "output_type": "stream",
     "text": [
      "total 4999680\n"
     ]
    }
   ],
   "source": [
    "#Write a Python program to multiply all the items in a list.\n",
    "k=[2,4,7,12,5,48,31]\n",
    "x=1\n",
    "for i in k:\n",
    "    x=x*i\n",
    "print('total',x)\n",
    "    "
   ]
  },
  {
   "cell_type": "code",
   "execution_count": 46,
   "id": "e74d913e",
   "metadata": {},
   "outputs": [
    {
     "name": "stdout",
     "output_type": "stream",
     "text": [
      "2\n"
     ]
    }
   ],
   "source": [
    "#Write a Python program to count the number of strings where the string length is 2 or more and the first and last character are same from a given list of strings.\n",
    "#Sample List : ['abc', 'xyz', 'aba', '1221']\n",
    "l=['abc', 'xyz', 'aba', '1221']\n",
    "x=0\n",
    "for i in l:\n",
    "    if len(i)>1 and i[0]==i[-1]:\n",
    "        x=x+1\n",
    "print(x)\n",
    "        "
   ]
  },
  {
   "cell_type": "code",
   "execution_count": 61,
   "id": "1f90d870",
   "metadata": {},
   "outputs": [
    {
     "name": "stdout",
     "output_type": "stream",
     "text": [
      "[2, 4, 7, 12, 5, 48, 31]\n",
      "[2, 4, 7, 12, 5, 48, 31]\n"
     ]
    }
   ],
   "source": [
    "#Write a Python program to clone or copy a list\n",
    "k=[2,4,7,12,5,48,31]\n",
    "x=k\n",
    "print(x)\n",
    "print(k)"
   ]
  },
  {
   "cell_type": "code",
   "execution_count": 70,
   "id": "72bcc0c0",
   "metadata": {},
   "outputs": [
    {
     "name": "stdout",
     "output_type": "stream",
     "text": [
      "enter length:3\n",
      "here\n",
      "herelearn\n",
      "heon\n",
      "welearn\n",
      "weon\n",
      "phython\n",
      "pylearn\n",
      "pyon\n"
     ]
    }
   ],
   "source": [
    "#Write a Python program to find the list of words that are longer than n from a given list of words. \n",
    "x=int(input('enter length:'))\n",
    "l=['here','herelearn','heon','welearn','weon','phython','pylearn','pyon']\n",
    "for i in l:\n",
    "    if len(i)>x:\n",
    "        print(i)\n",
    "\n"
   ]
  },
  {
   "cell_type": "code",
   "execution_count": 93,
   "id": "238311fb",
   "metadata": {},
   "outputs": [
    {
     "name": "stdout",
     "output_type": "stream",
     "text": [
      "True here True heon "
     ]
    }
   ],
   "source": [
    "#Write a Python function that takes two lists and returns True if they have at least one common member\n",
    "l=['here','herelearn','heon','welearn','weon','phython','pylearn','pyon']\n",
    "x=['here','herlearn','heon','weearn','won','phyhon','pylean','pon']\n",
    "k=[]\n",
    "for i in l:\n",
    "    for z in x:\n",
    "        if i==z:\n",
    "            y=i==z\n",
    "            print(y,i,end=' ')\n",
    "    \n",
    "            \n",
    "            "
   ]
  },
  {
   "cell_type": "code",
   "execution_count": 100,
   "id": "2591fb73",
   "metadata": {},
   "outputs": [
    {
     "name": "stdout",
     "output_type": "stream",
     "text": [
      "[7, 5, 31]\n"
     ]
    }
   ],
   "source": [
    "#Write a Python program to print the numbers of a specified list after removing even numbers from it.\n",
    "k=[2,4,7,12,5,48,31]\n",
    "x=[]\n",
    "for i in k:\n",
    "    if i%2!=0:\n",
    "        x.append(i)\n",
    "print(x)\n",
    "\n"
   ]
  },
  {
   "cell_type": "code",
   "execution_count": 125,
   "id": "579bbb36",
   "metadata": {},
   "outputs": [
    {
     "name": "stdout",
     "output_type": "stream",
     "text": [
      "enter index:1\n"
     ]
    },
    {
     "data": {
      "text/plain": [
       "'herelearn'"
      ]
     },
     "execution_count": 125,
     "metadata": {},
     "output_type": "execute_result"
    }
   ],
   "source": [
    "#indexing by input\n",
    "x=int(input('enter index:'))\n",
    "l=['here','herelearn','heon','welearn','weon','phython','pylearn','pyon']\n",
    "x=l[x]\n",
    "x"
   ]
  },
  {
   "cell_type": "code",
   "execution_count": 127,
   "id": "c18ece58",
   "metadata": {},
   "outputs": [
    {
     "name": "stdout",
     "output_type": "stream",
     "text": [
      "[[10, 20], [40], [30, 56, 25], [33]]\n"
     ]
    }
   ],
   "source": [
    "#Write a Python program to remove duplicates from a list of lists\n",
    "x=[[10, 20], [40], [30, 56, 25], [10, 20], [33], [40]]\n",
    "z=[]\n",
    "for i in x:\n",
    "    if i not in z:\n",
    "        z.append(i)\n",
    "print(z)"
   ]
  },
  {
   "cell_type": "code",
   "execution_count": null,
   "id": "7370f91a",
   "metadata": {},
   "outputs": [],
   "source": []
  },
  {
   "cell_type": "code",
   "execution_count": null,
   "id": "bfb52172",
   "metadata": {},
   "outputs": [],
   "source": []
  },
  {
   "cell_type": "code",
   "execution_count": null,
   "id": "e07ebbdf",
   "metadata": {},
   "outputs": [],
   "source": []
  }
 ],
 "metadata": {
  "kernelspec": {
   "display_name": "Python 3 (ipykernel)",
   "language": "python",
   "name": "python3"
  },
  "language_info": {
   "codemirror_mode": {
    "name": "ipython",
    "version": 3
   },
   "file_extension": ".py",
   "mimetype": "text/x-python",
   "name": "python",
   "nbconvert_exporter": "python",
   "pygments_lexer": "ipython3",
   "version": "3.9.12"
  }
 },
 "nbformat": 4,
 "nbformat_minor": 5
}

{
 "cells": [
  {
   "cell_type": "code",
   "execution_count": 6,
   "id": "6c449788",
   "metadata": {},
   "outputs": [
    {
     "name": "stdout",
     "output_type": "stream",
     "text": [
      "enter no-12\n",
      "-12 is -ve\n"
     ]
    }
   ],
   "source": [
    "n=int(input('enter no'))\n",
    "if n>0:\n",
    "    print(n,'is +ve')\n",
    "elif n<0:\n",
    "    print(n,'is -ve')\n",
    "else:\n",
    "    print(n,'zero')"
   ]
  },
  {
   "cell_type": "code",
   "execution_count": 32,
   "id": "3e914106",
   "metadata": {},
   "outputs": [
    {
     "name": "stdout",
     "output_type": "stream",
     "text": [
      "enter usernamepramod123\n",
      "enter password123456789\n",
      "welcome to the website\n"
     ]
    }
   ],
   "source": [
    "username=input('enter username')\n",
    "password=input('enter password')\n",
    "if username=='pramod123' and password=='123456789':\n",
    "    print('welcome to the website')\n",
    "else:\n",
    "    print('invalid username and password')\n",
    "    "
   ]
  },
  {
   "cell_type": "code",
   "execution_count": 2,
   "id": "a5e483d9",
   "metadata": {},
   "outputs": [
    {
     "name": "stdout",
     "output_type": "stream",
     "text": [
      "enter n89\n",
      "89 no is  two digit no\n"
     ]
    }
   ],
   "source": [
    "n=int(input('enter n'))\n",
    "if n>0 and n<10:\n",
    "    print(n,'is one digit no')\n",
    "elif n>10 and n<100:\n",
    "    print(n,'no is  two digit no')\n",
    "elif n>100 and n<1000:\n",
    "    print(n,'no is three digit no')\n",
    "else:\n",
    "    print(n,'more than three digit no')\n",
    "    \n",
    "    "
   ]
  },
  {
   "cell_type": "code",
   "execution_count": 34,
   "id": "5a4b5989",
   "metadata": {},
   "outputs": [
    {
     "name": "stdout",
     "output_type": "stream",
     "text": [
      "enter n3445\n",
      "enter k9999\n",
      "enter l4444\n",
      "enter h4567\n",
      "True n is smallest four digit no\n"
     ]
    }
   ],
   "source": [
    "n=int(input('enter n'))\n",
    "k=int(input('enter k'))\n",
    "l=int(input('enter l'))\n",
    "h=int(input('enter h'))\n",
    "if n<k or n<l or n<h:\n",
    "    print(n<10000,'n is smallest four digit no')\n",
    "elif k<n or k<l or k<h:\n",
    "    print(k<10000,'k is smallest four digit no')\n",
    "elif l<n or l<k or l<h:\n",
    "    print(l<10000,'l is smallest four digit no')\n",
    "else:\n",
    "    print(h<10000,'h is smallest four digit no')\n",
    "    \n",
    "    "
   ]
  },
  {
   "cell_type": "code",
   "execution_count": 47,
   "id": "1f45bd8d",
   "metadata": {},
   "outputs": [
    {
     "name": "stdout",
     "output_type": "stream",
     "text": [
      "enter n1000\n",
      "1000 is smallest four digit no\n"
     ]
    }
   ],
   "source": [
    "n=int(input('enter n'))\n",
    "if n==1000 and n<=1000:\n",
    "    print(n,'is smallest four digit no')\n",
    "else:\n",
    "    print(n,'is not smallest four digit no')\n",
    "    \n",
    "    "
   ]
  },
  {
   "cell_type": "code",
   "execution_count": 53,
   "id": "f5fb298b",
   "metadata": {},
   "outputs": [
    {
     "name": "stdout",
     "output_type": "stream",
     "text": [
      "enter n1000\n",
      "enter k1000\n",
      "enter l1000\n",
      "all are equal\n"
     ]
    }
   ],
   "source": [
    "n=int(input('enter n'))\n",
    "k=int(input('enter k'))\n",
    "l=int(input('enter l'))\n",
    "if n>k and n>l:\n",
    "    print('n is largest no')\n",
    "elif k>n and k>l:\n",
    "    print('k is largest no')\n",
    "elif l>n and l>k:\n",
    "    print('l is largest no')      \n",
    "else: \n",
    "    print('all are equal')\n"
   ]
  },
  {
   "cell_type": "code",
   "execution_count": 4,
   "id": "4756409a",
   "metadata": {},
   "outputs": [
    {
     "name": "stdout",
     "output_type": "stream",
     "text": [
      "enter n11\n",
      "enter k11\n",
      "enter l32\n",
      "is not an triangle \n"
     ]
    }
   ],
   "source": [
    "n=int(input('enter n'))\n",
    "k=int(input('enter k'))\n",
    "l=int(input('enter l'))\n",
    "if  ((n+k)<=l) or ((k+l)<=n) or ((l+n)<=k):\n",
    "    print('is not an triangle ')\n",
    "else:\n",
    "    print('is triangle')"
   ]
  },
  {
   "cell_type": "code",
   "execution_count": 63,
   "id": "05906e64",
   "metadata": {},
   "outputs": [
    {
     "name": "stdout",
     "output_type": "stream",
     "text": [
      "enter a40\n",
      "enter b75\n",
      "enter c65\n",
      "is acute angle traingle\n"
     ]
    }
   ],
   "source": [
    "a=int(input('enter a'))\n",
    "b=int(input('enter b'))\n",
    "c=int(input('enter c'))\n",
    "square_a=a**2\n",
    "square_b=b**2\n",
    "square_c=c**2\n",
    "if square_a==square_b+square_c or square_b==square_a+square_c or square_c==square_a+square_b:\n",
    "    print('is right angle triangle')\n",
    "elif (square_a+square_b)<=square_c or (square_a+square_c)<=square_b or (square_b+square_c)<=square_a:\n",
    "    print('is obtuse angle triangle')\n",
    "else:\n",
    "    print('is acute angle traingle')\n",
    "    "
   ]
  },
  {
   "cell_type": "code",
   "execution_count": 83,
   "id": "570132e4",
   "metadata": {},
   "outputs": [
    {
     "name": "stdout",
     "output_type": "stream",
     "text": [
      "enter a90\n",
      "enter b120\n",
      "enter c120\n",
      "is isoceles traingle\n"
     ]
    }
   ],
   "source": [
    "a=int(input('enter a'))\n",
    "b=int(input('enter b'))\n",
    "c=int(input('enter c'))\n",
    "if a==b==c:\n",
    "    print('is Equilateral triangle')\n",
    "elif a==c or b==c or c==a:\n",
    "    print('is isoceles traingle')\n",
    "else:\n",
    "    print('is scalne traingle')\n",
    "    "
   ]
  },
  {
   "cell_type": "code",
   "execution_count": 23,
   "id": "d4ef6ecf",
   "metadata": {},
   "outputs": [
    {
     "name": "stdout",
     "output_type": "stream",
     "text": [
      "Battery_Based_Toys1\n",
      "Key-based_Toys2\n",
      "Electrical_Charging_Based_Toys2\n",
      "enter toy4\n",
      "enter the amount3000\n",
      "discount 200.0\n",
      "coustmer has to pay 2800.0\n"
     ]
    }
   ],
   "source": [
    "print('Battery_Based_Toys1')\n",
    "print('Key-based_Toys2')\n",
    "print('Electrical_Charging_Based_Toys2')\n",
    "option=int(input('enter toy'))\n",
    "amt=int(input('enter the amount'))\n",
    "if option==1:\n",
    "    if amt>1000:\n",
    "        dis=amt*(10/100)\n",
    "elif option==2:\n",
    "    if amt>100:\n",
    "        dis=amt*(5/100)\n",
    "elif option==3:\n",
    "    if amt>500:\n",
    "        dis=amt*(10/100)\n",
    "else:\n",
    "    print('invalid code')\n",
    "    \n",
    "print('discount',dis)\n",
    "total=amt-dis\n",
    "print(\"coustmer has to pay\",total)\n",
    "        \n",
    "\n"
   ]
  },
  {
   "cell_type": "code",
   "execution_count": 11,
   "id": "407a6e1c",
   "metadata": {},
   "outputs": [
    {
     "data": {
      "text/plain": [
       "['False',\n",
       " 'None',\n",
       " 'True',\n",
       " '__peg_parser__',\n",
       " 'and',\n",
       " 'as',\n",
       " 'assert',\n",
       " 'async',\n",
       " 'await',\n",
       " 'break',\n",
       " 'class',\n",
       " 'continue',\n",
       " 'def',\n",
       " 'del',\n",
       " 'elif',\n",
       " 'else',\n",
       " 'except',\n",
       " 'finally',\n",
       " 'for',\n",
       " 'from',\n",
       " 'global',\n",
       " 'if',\n",
       " 'import',\n",
       " 'in',\n",
       " 'is',\n",
       " 'lambda',\n",
       " 'nonlocal',\n",
       " 'not',\n",
       " 'or',\n",
       " 'pass',\n",
       " 'raise',\n",
       " 'return',\n",
       " 'try',\n",
       " 'while',\n",
       " 'with',\n",
       " 'yield']"
      ]
     },
     "execution_count": 11,
     "metadata": {},
     "output_type": "execute_result"
    }
   ],
   "source": [
    "import keyword\n",
    "keyword.kwlist"
   ]
  },
  {
   "cell_type": "code",
   "execution_count": 133,
   "id": "468faf02",
   "metadata": {},
   "outputs": [
    {
     "name": "stdout",
     "output_type": "stream",
     "text": [
      "enter a3\n",
      "enter b4\n",
      "enter c6\n",
      "enter d7\n",
      "enter x8\n",
      "enter k9\n",
      "-1321\n"
     ]
    }
   ],
   "source": [
    "a=int(input('enter a'))\n",
    "b=int(input('enter b'))\n",
    "c=int(input('enter c'))\n",
    "d=int(input('enter d'))\n",
    "x=int(input('enter x'))\n",
    "k=int(input('enter k'))\n",
    "if x>k:\n",
    "    fx=a*(x**3)-b(x**2)-c*x-d\n",
    "elif x==k:\n",
    "    fx=0\n",
    "elif x<k:\n",
    "    fx=-a*(x**3)+b*(x**2)-c*x+d\n",
    "print(fx)\n",
    "            \n",
    "    "
   ]
  },
  {
   "cell_type": "code",
   "execution_count": 1,
   "id": "3c9116e5",
   "metadata": {},
   "outputs": [
    {
     "name": "stdout",
     "output_type": "stream",
     "text": [
      "Enter past meter reading:200\n",
      "Enter current meter reading:300\n",
      "My used_reading:  100\n",
      "The bill amount is: 50.0\n"
     ]
    }
   ],
   "source": [
    "old_reading = int(input(\"Enter past meter reading:\"))\n",
    "new_reading = int(input(\"Enter current meter reading:\"))\n",
    "used_reading = new_reading - old_reading\n",
    "print('My used_reading: ',used_reading)\n",
    "if used_reading>0 and used_reading<=100:\n",
    "    bill_amt = used_reading * 0.50\n",
    "elif used_reading>100 and used_reading<=200:\n",
    "    bill_amt = 50 + (used_reading) * 1\n",
    "elif used_reading>200 and used_reading<=300:\n",
    "    bill_amt = 150 + (used_reading) * 1.50\n",
    "else:\n",
    "    bill_amt = 300 + (used_reading) * 2\n",
    "print(\"The bill amount is:\",bill_amt)"
   ]
  },
  {
   "cell_type": "code",
   "execution_count": 4,
   "id": "9c5ebea6",
   "metadata": {},
   "outputs": [
    {
     "name": "stdout",
     "output_type": "stream",
     "text": [
      "enter no:3.5.6\n",
      "6 is greater\n"
     ]
    }
   ],
   "source": [
    "x,y,z=input('enter no:').split('.')\n",
    "x=int(x)\n",
    "y=int(y)\n",
    "z=int(z)\n",
    "if x>y and x>z:\n",
    "    print(x,'is greater')\n",
    "elif y>z and y>x:\n",
    "    print(y,'is greater')\n",
    "elif z>x and z>y:\n",
    "    print(z,'is greater')\n",
    "elif x==0 and y>z:\n",
    "    print(y,'is greater')\n",
    "elif x==0 and z>y:\n",
    "    print(z,'is greater')\n",
    "elif y==0 and x>z:\n",
    "    print(x,'is greater')\n",
    "elif y==0 and z>x:\n",
    "    print(z,'is greater')\n",
    "elif z==0 and y>x:\n",
    "    print(y,'is greater')\n",
    "elif z==0 and x>y:\n",
    "    print(x,'is greater')\n",
    "else:\n",
    "    print('all are same')\n",
    "    "
   ]
  },
  {
   "cell_type": "code",
   "execution_count": 2,
   "id": "c11d8b33",
   "metadata": {},
   "outputs": [
    {
     "name": "stdout",
     "output_type": "stream",
     "text": [
      "Enter any number:3\n",
      "3 No is odd\n"
     ]
    }
   ],
   "source": [
    "n = int(input(\"Enter any number:\"))\n",
    "if n % 2!=0:\n",
    "    print(n,\"No is odd\")\n",
    "else:\n",
    "    print(n,\"No is even\")"
   ]
  },
  {
   "cell_type": "code",
   "execution_count": null,
   "id": "9a00c324",
   "metadata": {},
   "outputs": [],
   "source": []
  }
 ],
 "metadata": {
  "kernelspec": {
   "display_name": "Python 3 (ipykernel)",
   "language": "python",
   "name": "python3"
  },
  "language_info": {
   "codemirror_mode": {
    "name": "ipython",
    "version": 3
   },
   "file_extension": ".py",
   "mimetype": "text/x-python",
   "name": "python",
   "nbconvert_exporter": "python",
   "pygments_lexer": "ipython3",
   "version": "3.9.12"
  }
 },
 "nbformat": 4,
 "nbformat_minor": 5
}

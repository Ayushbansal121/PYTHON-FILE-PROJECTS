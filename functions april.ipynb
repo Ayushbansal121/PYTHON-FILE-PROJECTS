{
 "cells": [
  {
   "cell_type": "code",
   "execution_count": 7,
   "id": "d4fabb64",
   "metadata": {},
   "outputs": [
    {
     "name": "stdout",
     "output_type": "stream",
     "text": [
      "hello\n",
      "before function calling\n",
      "enter the numbers5,6\n",
      "11\n",
      "after function calling\n"
     ]
    }
   ],
   "source": [
    "#case 1: no arguments no return\n",
    "\n",
    "print('hello')\n",
    "def add( ):\n",
    "    num1,num2=input('enter the numbers').split(',')\n",
    "    num1=int(num1)\n",
    "    num2=int(num2)\n",
    "    result=num1+num2\n",
    "    print(result)\n",
    "print('before function calling')\n",
    "add()\n",
    "print('after function calling')"
   ]
  },
  {
   "cell_type": "code",
   "execution_count": 9,
   "id": "297bf49d",
   "metadata": {},
   "outputs": [
    {
     "name": "stdout",
     "output_type": "stream",
     "text": [
      "enter the no3,7\n",
      "before function calling\n",
      "10\n",
      "inside function calling\n",
      "after function calling\n"
     ]
    }
   ],
   "source": [
    "# case 2 = with arguments and no return\n",
    "def add(num1,num2):\n",
    "    result=num1+num2\n",
    "    print(result)\n",
    "    print('inside function calling')\n",
    "n1,n2=input('enter the no').split(',')\n",
    "print('before function calling')\n",
    "n1=int(n1)\n",
    "n2=int(n2)\n",
    "add(n1,n2)\n",
    "print('after function calling')"
   ]
  },
  {
   "cell_type": "code",
   "execution_count": 19,
   "id": "a3aed90d",
   "metadata": {},
   "outputs": [
    {
     "name": "stdout",
     "output_type": "stream",
     "text": [
      "hello\n",
      "before function calling\n",
      "enter the numbers3,4\n",
      "after function calling\n"
     ]
    },
    {
     "data": {
      "text/plain": [
       "7"
      ]
     },
     "execution_count": 19,
     "metadata": {},
     "output_type": "execute_result"
    }
   ],
   "source": [
    "# case 3: without arguments  with return type\n",
    "print('hello')\n",
    "def add():\n",
    "    num1,num2=input('enter the numbers').split(',')\n",
    "    num1=int(num1)\n",
    "    num2=int(num2)\n",
    "    result=num1+num2\n",
    "    return result\n",
    "print('before function calling')\n",
    "a=add()\n",
    "print('after function calling')\n",
    "a"
   ]
  },
  {
   "cell_type": "code",
   "execution_count": 22,
   "id": "6c04e890",
   "metadata": {},
   "outputs": [
    {
     "name": "stdout",
     "output_type": "stream",
     "text": [
      "hello\n",
      "enter the numbers3,4\n",
      "before function calling\n",
      "after function calling\n"
     ]
    },
    {
     "data": {
      "text/plain": [
       "(7, 'hello')"
      ]
     },
     "execution_count": 22,
     "metadata": {},
     "output_type": "execute_result"
    }
   ],
   "source": [
    "# case 3: with arguments  with return type\n",
    "print('hello')\n",
    "def add(a,b):\n",
    "    \n",
    "    result=num1+num2\n",
    "    return result,'hello'\n",
    "    print('inside the function')\n",
    "    \n",
    "num1,num2=input('enter the numbers').split(',')\n",
    "num1=int(num1)\n",
    "num2=int(num2)\n",
    "print('before function calling')\n",
    "a,b=add(num1,num2)\n",
    "print('after function calling')\n",
    "a,b"
   ]
  },
  {
   "cell_type": "code",
   "execution_count": 23,
   "id": "7e674b9d",
   "metadata": {},
   "outputs": [
    {
     "name": "stdout",
     "output_type": "stream",
     "text": [
      "hello\n",
      "enter the numbers3,4\n",
      "before function calling\n",
      "after function calling\n"
     ]
    },
    {
     "data": {
      "text/plain": [
       "(7, [1, 2, 3, 4])"
      ]
     },
     "execution_count": 23,
     "metadata": {},
     "output_type": "execute_result"
    }
   ],
   "source": [
    "print('hello')\n",
    "def add(a,b):\n",
    "    l=[1,2,3,4]\n",
    "    result=num1+num2\n",
    "    return result,l\n",
    "    print('inside the function')\n",
    "    \n",
    "num1,num2=input('enter the numbers').split(',')\n",
    "num1=int(num1)\n",
    "num2=int(num2)\n",
    "print('before function calling')\n",
    "a,b=add(num1,num2)\n",
    "print('after function calling')\n",
    "a,b"
   ]
  },
  {
   "cell_type": "code",
   "execution_count": 24,
   "id": "d2ed5888",
   "metadata": {},
   "outputs": [
    {
     "name": "stdout",
     "output_type": "stream",
     "text": [
      "enter the no3\n",
      "odd\n"
     ]
    }
   ],
   "source": [
    "# write a function wheather the function is odd or even using all four cases\n",
    "#case 1: no arguments no return\n",
    "def check():\n",
    "    n=int(input('enter the no'))\n",
    "    if n%2==0:\n",
    "        print('even')\n",
    "    else:\n",
    "        print('odd')\n",
    "check()\n",
    "    "
   ]
  },
  {
   "cell_type": "code",
   "execution_count": 27,
   "id": "039c102c",
   "metadata": {},
   "outputs": [
    {
     "name": "stdout",
     "output_type": "stream",
     "text": [
      "enter the no3\n",
      "odd\n"
     ]
    }
   ],
   "source": [
    "# case 2 = with arguments and no return\n",
    "def check(a):\n",
    "    if n%2==0:\n",
    "        print('even')\n",
    "    else:\n",
    "        print('odd')\n",
    "n=int(input('enter the no'))\n",
    "check(a)\n"
   ]
  },
  {
   "cell_type": "code",
   "execution_count": 29,
   "id": "963ab180",
   "metadata": {},
   "outputs": [
    {
     "name": "stdout",
     "output_type": "stream",
     "text": [
      "enter the no4\n",
      "even\n"
     ]
    },
    {
     "data": {
      "text/plain": [
       "4"
      ]
     },
     "execution_count": 29,
     "metadata": {},
     "output_type": "execute_result"
    }
   ],
   "source": [
    "# case 3: without arguments  with return type\n",
    "def check():\n",
    "    f=n\n",
    "    if n%2==0:\n",
    "        print('even')\n",
    "    else:\n",
    "        print('odd')\n",
    "    return f\n",
    "n=int(input('enter the no'))\n",
    "f=check()\n",
    "f\n",
    "        "
   ]
  },
  {
   "cell_type": "code",
   "execution_count": 30,
   "id": "30cb1fa9",
   "metadata": {},
   "outputs": [
    {
     "name": "stdout",
     "output_type": "stream",
     "text": [
      "enter the no4\n",
      "even\n"
     ]
    },
    {
     "data": {
      "text/plain": [
       "4"
      ]
     },
     "execution_count": 30,
     "metadata": {},
     "output_type": "execute_result"
    }
   ],
   "source": [
    "# case 3: with arguments  with return type\n",
    "def check(a):\n",
    "    f=n\n",
    "    if n%2==0:\n",
    "        print('even')\n",
    "    else:\n",
    "        print('odd')\n",
    "    return f\n",
    "n=int(input('enter the no'))\n",
    "f=check(a)\n",
    "f"
   ]
  },
  {
   "cell_type": "code",
   "execution_count": 44,
   "id": "eb3c5484",
   "metadata": {},
   "outputs": [
    {
     "name": "stdout",
     "output_type": "stream",
     "text": [
      "hi\n",
      "hi\n",
      "hello\n"
     ]
    }
   ],
   "source": [
    "def madrid():\n",
    "    print('hi')\n",
    "    return 'hello'\n",
    "print('hi')\n",
    "a=madrid()\n",
    "print(a)"
   ]
  },
  {
   "cell_type": "code",
   "execution_count": 45,
   "id": "ae911a9c",
   "metadata": {},
   "outputs": [
    {
     "data": {
      "text/plain": [
       "65"
      ]
     },
     "execution_count": 45,
     "metadata": {},
     "output_type": "execute_result"
    }
   ],
   "source": [
    "ord('A') # ESKAI VALUE"
   ]
  },
  {
   "cell_type": "code",
   "execution_count": 47,
   "id": "50bc026e",
   "metadata": {},
   "outputs": [
    {
     "data": {
      "text/plain": [
       "4"
      ]
     },
     "execution_count": 47,
     "metadata": {},
     "output_type": "execute_result"
    }
   ],
   "source": [
    "pow(2,2) # power"
   ]
  },
  {
   "cell_type": "code",
   "execution_count": 48,
   "id": "93dee6f1",
   "metadata": {},
   "outputs": [
    {
     "data": {
      "text/plain": [
       "'A'"
      ]
     },
     "execution_count": 48,
     "metadata": {},
     "output_type": "execute_result"
    }
   ],
   "source": [
    " chr(65)"
   ]
  },
  {
   "cell_type": "code",
   "execution_count": 51,
   "id": "faae6cc0",
   "metadata": {},
   "outputs": [
    {
     "name": "stdout",
     "output_type": "stream",
     "text": [
      "x 10\n",
      "y 20\n"
     ]
    }
   ],
   "source": [
    "# positional arguments \n",
    "def myfun(x,y):\n",
    "    print('x',x)\n",
    "    print('y',y)\n",
    "myfun(10,20)"
   ]
  },
  {
   "cell_type": "code",
   "execution_count": 53,
   "id": "9fd470f2",
   "metadata": {},
   "outputs": [
    {
     "name": "stdout",
     "output_type": "stream",
     "text": [
      "x 10\n",
      "y 1\n"
     ]
    }
   ],
   "source": [
    "# default arguments:\n",
    "def myfun(x,y=50):\n",
    "    print('x',x)\n",
    "    print('y',y)\n",
    "myfun(10,1)"
   ]
  },
  {
   "cell_type": "code",
   "execution_count": 54,
   "id": "820ca0fc",
   "metadata": {},
   "outputs": [
    {
     "name": "stdout",
     "output_type": "stream",
     "text": [
      "madrid solutions\n",
      "madrid solutions\n"
     ]
    }
   ],
   "source": [
    "# keyword arguments:\n",
    "def student (firstname,lastname):\n",
    "    print(firstname,lastname)\n",
    "student(firstname='madrid',lastname='solutions')\n",
    "student(lastname='solutions',firstname='madrid')"
   ]
  },
  {
   "cell_type": "code",
   "execution_count": 59,
   "id": "846ed237",
   "metadata": {},
   "outputs": [
    {
     "name": "stdout",
     "output_type": "stream",
     "text": [
      "(2, 3)\n",
      "<class 'int'>\n",
      "5\n",
      "(3, 4, 7)\n",
      "<class 'int'>\n",
      "14\n"
     ]
    }
   ],
   "source": [
    "# variable arguments\n",
    "def add(*args):\n",
    "    type(args)\n",
    "    print(args)\n",
    "    sum=0\n",
    "    for arg in args:\n",
    "        sum=sum+arg\n",
    "    print(type(arg))\n",
    "    print(sum)\n",
    "    \n",
    "add(2,3)\n",
    "add(3,4,7)"
   ]
  },
  {
   "cell_type": "code",
   "execution_count": 60,
   "id": "f27a57de",
   "metadata": {},
   "outputs": [],
   "source": [
    "# varibable scope and lifetime\n"
   ]
  },
  {
   "cell_type": "code",
   "execution_count": 62,
   "id": "41ba6f87",
   "metadata": {},
   "outputs": [
    {
     "name": "stdout",
     "output_type": "stream",
     "text": [
      "300\n"
     ]
    }
   ],
   "source": [
    "# local\n",
    "def myfunc():\n",
    "    x=300\n",
    "    print(x)\n",
    "myfunc()"
   ]
  },
  {
   "cell_type": "code",
   "execution_count": 4,
   "id": "07630843",
   "metadata": {},
   "outputs": [
    {
     "data": {
      "text/plain": [
       "300"
      ]
     },
     "execution_count": 4,
     "metadata": {},
     "output_type": "execute_result"
    }
   ],
   "source": [
    "def myfunc():\n",
    "    x=300\n",
    "    return x\n",
    "myfunc() # since x is local so we cannot define it here"
   ]
  },
  {
   "cell_type": "code",
   "execution_count": 65,
   "id": "68b22fed",
   "metadata": {},
   "outputs": [
    {
     "name": "stdout",
     "output_type": "stream",
     "text": [
      "300\n"
     ]
    }
   ],
   "source": [
    "# nested function\n",
    "def myfunc():\n",
    "    x=300\n",
    "    def myinnerfunc():\n",
    "        print(x)\n",
    "    myinnerfunc()\n",
    "myfunc()"
   ]
  },
  {
   "cell_type": "code",
   "execution_count": 67,
   "id": "cf1d7b80",
   "metadata": {},
   "outputs": [
    {
     "name": "stdout",
     "output_type": "stream",
     "text": [
      "300\n",
      "300\n"
     ]
    }
   ],
   "source": [
    "# global\n",
    "x=300\n",
    "def myfunc():\n",
    "    print(x)\n",
    "myfunc()\n",
    "print(x)"
   ]
  },
  {
   "cell_type": "code",
   "execution_count": 70,
   "id": "a0af0dd7",
   "metadata": {},
   "outputs": [
    {
     "name": "stdout",
     "output_type": "stream",
     "text": [
      "200\n",
      "300\n"
     ]
    }
   ],
   "source": [
    "# global\n",
    "x=300\n",
    "def myfunc():\n",
    "    #print(x)\n",
    "    x=200\n",
    "    print(x)\n",
    "myfunc()\n",
    "print(x)"
   ]
  },
  {
   "cell_type": "code",
   "execution_count": 72,
   "id": "15520963",
   "metadata": {},
   "outputs": [
    {
     "name": "stdout",
     "output_type": "stream",
     "text": [
      "300\n",
      "300\n",
      "200\n",
      "200\n"
     ]
    }
   ],
   "source": [
    "# global x\n",
    "x=300\n",
    "def myfunc():\n",
    "    global x\n",
    "    print(x)\n",
    "    x=200\n",
    "    print(x)\n",
    "print(x)\n",
    "myfunc()\n",
    "print(x)"
   ]
  },
  {
   "cell_type": "code",
   "execution_count": 79,
   "id": "df026c3d",
   "metadata": {},
   "outputs": [
    {
     "name": "stdout",
     "output_type": "stream",
     "text": [
      "enter th string----1234abcd\n",
      "dcba4321\n"
     ]
    }
   ],
   "source": [
    "#Q.1 Write a function to reverse a string. \n",
    "# Sample String : \"1234abcd\"\n",
    "# Expected Output : \"dcba4321\"\n",
    "\n",
    "def rev():\n",
    "    x=input('enter th string----')\n",
    "    z=x[::-1]\n",
    "    print(z)\n",
    "rev()"
   ]
  },
  {
   "cell_type": "code",
   "execution_count": 82,
   "id": "1f482e00",
   "metadata": {},
   "outputs": [
    {
     "name": "stdout",
     "output_type": "stream",
     "text": [
      "2 4 6 8 "
     ]
    }
   ],
   "source": [
    "#Write a function to print the even numbers from a given list. \n",
    "#Sample List : [1, 2, 3, 4, 5, 6, 7, 8, 9]\n",
    "#expected Result : [2, 4, 6, 8]\n",
    "def  even():\n",
    "    l=[1,2,3,4,5,6,7,8,9]\n",
    "    for i in l:\n",
    "        if i%2==0:\n",
    "            print(i,end=' ')\n",
    "even()\n"
   ]
  },
  {
   "cell_type": "code",
   "execution_count": 105,
   "id": "75532540",
   "metadata": {},
   "outputs": [
    {
     "name": "stdout",
     "output_type": "stream",
     "text": [
      "enter the vowelsayush\n",
      "vowels 2\n",
      "consonants 3\n"
     ]
    }
   ],
   "source": [
    "# Write a function to display count and display vowels and consonants in the string entered by user.\n",
    "def vowels():\n",
    "    k=0\n",
    "    m=0\n",
    "    n=input('enter the vowels')\n",
    "    for i in n:\n",
    "        if i=='a' or i=='i' or i=='o'or i=='e'or i=='u'or i=='A' or i=='I' or i=='O'or i=='E'or i=='U':\n",
    "            k=k+1\n",
    "        else:\n",
    "             m=m+1\n",
    "    print('vowels',k)\n",
    "    print('consonants',m)\n",
    "vowels()\n"
   ]
  },
  {
   "cell_type": "code",
   "execution_count": 110,
   "id": "fa738359",
   "metadata": {},
   "outputs": [
    {
     "name": "stdout",
     "output_type": "stream",
     "text": [
      "enter the no2\n",
      "enter the no4\n",
      "power value 16\n"
     ]
    }
   ],
   "source": [
    "#Write a function to find the power of a number using function.\n",
    "def power(x,y):\n",
    "    if y==0:\n",
    "        return 1\n",
    "    else:\n",
    "        return x*power(x,y-1)\n",
    "x=int(input('enter the no'))\n",
    "y=int(input('enter the no'))\n",
    "print('power value',power(x,y))"
   ]
  },
  {
   "cell_type": "code",
   "execution_count": 129,
   "id": "752228df",
   "metadata": {},
   "outputs": [
    {
     "name": "stdout",
     "output_type": "stream",
     "text": [
      "enter the no3\n",
      "enter the no4\n"
     ]
    },
    {
     "data": {
      "text/plain": [
       "((7, 'addition'), (-1, 'subtraction'))"
      ]
     },
     "execution_count": 129,
     "metadata": {},
     "output_type": "execute_result"
    }
   ],
   "source": [
    "# Write a function name calculation which accepts two variables and calculate addition and subtraction. Also it returns both addition and subtraction result in a single return call.\n",
    "\n",
    "def calc(x,y):\n",
    "    z=0\n",
    "    if x>0:\n",
    "        z=x+y\n",
    "    m=0\n",
    "    if x>0:\n",
    "        m=x-y\n",
    "        return (z, 'addition' ),(m ,'subtraction')\n",
    "x=int(input('enter the no'))\n",
    "y=int(input('enter the no'))\n",
    "k=calc(x,y)\n",
    "k\n",
    "\n",
    "\n",
    "\n",
    "    "
   ]
  },
  {
   "cell_type": "code",
   "execution_count": 132,
   "id": "69f810e9",
   "metadata": {},
   "outputs": [
    {
     "name": "stdout",
     "output_type": "stream",
     "text": [
      "enter the no90\n",
      "enter the no14\n",
      "enter the no13\n"
     ]
    },
    {
     "data": {
      "text/plain": [
       "(90, 'greater')"
      ]
     },
     "execution_count": 132,
     "metadata": {},
     "output_type": "execute_result"
    }
   ],
   "source": [
    "#Write a function which computes maximum of three numbers \n",
    "def maxim(x,y,z):\n",
    "    if x>y or x>z:\n",
    "        return x,'greater'\n",
    "    elif z>y or z>x:\n",
    "        return z,'greater'\n",
    "    else:\n",
    "        return y,'greater'\n",
    "x=int(input('enter the no'))\n",
    "y=int(input('enter the no'))\n",
    "z=int(input('enter the no'))\n",
    "k=maxim(x,y,z)\n",
    "k\n",
    "    \n",
    "        "
   ]
  },
  {
   "cell_type": "code",
   "execution_count": 144,
   "id": "39cfe05b",
   "metadata": {},
   "outputs": [
    {
     "name": "stdout",
     "output_type": "stream",
     "text": [
      "enter the no2\n",
      "enter the no2\n",
      "9\n",
      "enter the no2\n",
      "enter the no2\n",
      "4\n"
     ]
    }
   ],
   "source": [
    "# Create an outer function that will accept two parameters, a and b .Create an inner function inside an outer function that will calculate the addition of a and b .At last, an outer function will add 5 into addition and return it\n",
    "x=int(input('enter the no'))\n",
    "y=int(input('enter the no'))\n",
    "k1=x+y\n",
    "print(k1+5)\n",
    "def mix(x,y):\n",
    "    x1=x+y\n",
    "    return x1\n",
    "x=int(input('enter the no'))\n",
    "y=int(input('enter the no'))\n",
    "p=mix(x,y)\n",
    "print(p)\n",
    "\n",
    "\n",
    "\n",
    "    "
   ]
  },
  {
   "cell_type": "code",
   "execution_count": 150,
   "id": "f425f518",
   "metadata": {},
   "outputs": [
    {
     "name": "stdout",
     "output_type": "stream",
     "text": [
      "enter the no3\n",
      "enter the no4\n",
      "inner func 7\n",
      "outer 12\n"
     ]
    }
   ],
   "source": [
    "def outer(x,y):\n",
    "    return 5+(x+y)\n",
    "def inner():\n",
    "    x1=x+y\n",
    "x=int(input('enter the no'))\n",
    "y=int(input('enter the no'))\n",
    "print('inner func',x1)\n",
    "o1=outer(x,y)\n",
    "print('outer',o1)\n"
   ]
  },
  {
   "cell_type": "code",
   "execution_count": 189,
   "id": "94516646",
   "metadata": {},
   "outputs": [
    {
     "name": "stdout",
     "output_type": "stream",
     "text": [
      "enter the no4\n",
      "enter the no1\n",
      "enter the no2\n",
      "enter the no3\n",
      "enter the no4\n",
      "2 even\n",
      "2 odd\n"
     ]
    }
   ],
   "source": [
    "# Write a function which counts the even digits  and odd digits in the number entered by user.\n",
    "def count(h,n):\n",
    "    count=0\n",
    "    count1=0\n",
    "    for i in range(n):\n",
    "        if (h[i]%2==0):\n",
    "            count=count+1\n",
    "        else:\n",
    "            count1=count1+1\n",
    "    return count,count1\n",
    "n=int(input('enter the no'))\n",
    "h=[]\n",
    "for i in range(n):\n",
    "    val=int(input('enter the no'))\n",
    "    h.append(val)\n",
    "h,n=count(h,n) \n",
    "print(h,'even')\n",
    "print(n,'odd')\n",
    "    "
   ]
  },
  {
   "cell_type": "code",
   "execution_count": 199,
   "id": "55c2f3d3",
   "metadata": {},
   "outputs": [
    {
     "name": "stdout",
     "output_type": "stream",
     "text": [
      "enter the no5\n",
      "enter the no1\n",
      "1 odd\n",
      "enter the no2\n",
      "2 even\n",
      "enter the no4\n",
      "4 even\n",
      "enter the no6\n",
      "6 even\n",
      "enter the no7\n",
      "7 odd\n"
     ]
    },
    {
     "data": {
      "text/plain": [
       "(3, 'even', 2, 'odd')"
      ]
     },
     "execution_count": 199,
     "metadata": {},
     "output_type": "execute_result"
    }
   ],
   "source": [
    "def count():\n",
    "    count=0\n",
    "    count1=0\n",
    "    n=int(input('enter the no'))\n",
    "    for i in range(1,n+1):\n",
    "        i=int(input('enter the no'))\n",
    "        if (i%2==0):\n",
    "            count=count+1\n",
    "            print(i,'even')\n",
    "        else:\n",
    "            count1=count1+1\n",
    "            print(i,'odd')\n",
    "    return count,'even',count1,'odd'\n",
    "k=count()\n",
    "k"
   ]
  },
  {
   "cell_type": "code",
   "execution_count": 205,
   "id": "006c5844",
   "metadata": {},
   "outputs": [
    {
     "name": "stdout",
     "output_type": "stream",
     "text": [
      "enter your nameayush\n",
      "enter the no20\n",
      "enter the no40\n",
      "enter the no60\n",
      "total marks of student 120\n",
      "total percentage 40.0\n"
     ]
    }
   ],
   "source": [
    "## Write a function which takes the students details as name,marks of 3 subjects and display total marks and his percentage.\n",
    "def marks():\n",
    "    total=m+e+h\n",
    "    percentage=(total/300)*100\n",
    "    print(\"total marks of student\",total)\n",
    "    return percentage\n",
    "name=input('enter your name')\n",
    "m=int(input('enter the no'))\n",
    "e=int(input('enter the no'))\n",
    "h=int(input('enter the no'))\n",
    "k=marks()\n",
    "print('total percentage',k)\n"
   ]
  },
  {
   "cell_type": "code",
   "execution_count": 217,
   "id": "c4e26bbb",
   "metadata": {},
   "outputs": [
    {
     "name": "stdout",
     "output_type": "stream",
     "text": [
      "enter your age21\n",
      "he/she is able to vote\n"
     ]
    }
   ],
   "source": [
    "#Write a function to tell user if he/she is able to vote or not.\n",
    "def vote():\n",
    "    if  age>=18:\n",
    "        print('he/she is able to vote')\n",
    "    else:\n",
    "        print('not eligible')\n",
    "age=int(input('enter your age'))\n",
    "vote()"
   ]
  },
  {
   "cell_type": "code",
   "execution_count": 230,
   "id": "40beb4a0",
   "metadata": {},
   "outputs": [
    {
     "name": "stdout",
     "output_type": "stream",
     "text": [
      "enter the no32\n",
      "enter the no34\n",
      "area 1088\n",
      "perimeter 132\n"
     ]
    }
   ],
   "source": [
    "# Write a function to calculate area and perimeter of a rectangle.\n",
    "def area():\n",
    "    area=l*b\n",
    "    return area\n",
    "def perimeter():\n",
    "    perimeter=2*(l+b)\n",
    "    return perimeter\n",
    "l=int(input('enter the no'))\n",
    "b=int(input('enter the no'))\n",
    "k=area()\n",
    "print(\"area\",k)\n",
    "h=perimeter()\n",
    "print('perimeter',h)"
   ]
  },
  {
   "cell_type": "code",
   "execution_count": 232,
   "id": "8801fa5e",
   "metadata": {},
   "outputs": [
    {
     "name": "stdout",
     "output_type": "stream",
     "text": [
      "enter the no56\n",
      "area 9847.04\n",
      "perimeter 351.68\n"
     ]
    }
   ],
   "source": [
    "# Write a function to calculate area and circumference of a circle.\n",
    "def area():\n",
    "    return 3.14*r**2\n",
    "def circumference():\n",
    "    return 2*3.14*r\n",
    "r=int(input('enter the no'))\n",
    "area=area()\n",
    "print(\"area\",area)\n",
    "circumference=circumference()\n",
    "print('perimeter',circumference)\n"
   ]
  },
  {
   "cell_type": "code",
   "execution_count": 239,
   "id": "ba09fc96",
   "metadata": {},
   "outputs": [
    {
     "name": "stdout",
     "output_type": "stream",
     "text": [
      "enter the no3,4\n",
      "12\n"
     ]
    }
   ],
   "source": [
    "## Write a function to calculate the multiplication of all the elements in the list\n",
    "mylist=input('enter the no').split(',')\n",
    "def multiply():\n",
    "    count=1\n",
    "    for x in mylist:\n",
    "        x=int(x)\n",
    "        count=count*x\n",
    "    print(count)\n",
    "k=multiply()\n",
    "\n",
    "    "
   ]
  },
  {
   "cell_type": "code",
   "execution_count": 270,
   "id": "1fd28d74",
   "metadata": {},
   "outputs": [
    {
     "name": "stdout",
     "output_type": "stream",
     "text": [
      "hi\n",
      "hello\n"
     ]
    }
   ],
   "source": [
    "# nested\n",
    "def  outer():\n",
    "    def inner():\n",
    "        print('hi')\n",
    "    inner()\n",
    "    print('hello')\n",
    "outer()\n"
   ]
  },
  {
   "cell_type": "code",
   "execution_count": 268,
   "id": "4a33aa41",
   "metadata": {},
   "outputs": [
    {
     "name": "stdout",
     "output_type": "stream",
     "text": [
      "hi\n",
      "hello\n"
     ]
    }
   ],
   "source": [
    "outer()"
   ]
  },
  {
   "cell_type": "code",
   "execution_count": 299,
   "id": "5d21e350",
   "metadata": {},
   "outputs": [
    {
     "name": "stdout",
     "output_type": "stream",
     "text": [
      "enter no4\n",
      "enter the no1\n",
      "enter the no2\n",
      "enter the no3\n",
      "enter the no4\n",
      "the list is [1, 2, 3, 4]\n",
      "even 2\n",
      "even 4\n",
      "total even 2\n"
     ]
    }
   ],
   "source": [
    "# write a function to checck even no in the list\n",
    "l=[]\n",
    "n=int(input('enter no'))\n",
    "for i in range(1,n+1):\n",
    "    i=int(input('enter the no'))\n",
    "    l.append(i)\n",
    "print('the list is',l)\n",
    "def even():\n",
    "    y=0\n",
    "    for k in l:\n",
    "        if k%2==0:\n",
    "            y=y+1\n",
    "            print('even',k)\n",
    "    print('total even',y)\n",
    "even()"
   ]
  },
  {
   "cell_type": "code",
   "execution_count": 305,
   "id": "c51ffac6",
   "metadata": {},
   "outputs": [
    {
     "name": "stdout",
     "output_type": "stream",
     "text": [
      "enter the nameayush\n",
      "list of name ['ayush']\n",
      "gu mrng\n"
     ]
    }
   ],
   "source": [
    "# write a function to great people gud mrng whose name name is having 'a ' in it,\n",
    "# and if the name is not  having  a in it u  need to greet him with hello\n",
    "n=input('enter the name').split(\",\")\n",
    "print('list of name',n)\n",
    "def name():\n",
    "    for i in n:\n",
    "        if 'a' in i:\n",
    "            print('gu mrng')\n",
    "        else: \n",
    "            print('hello')\n",
    "name()"
   ]
  },
  {
   "cell_type": "code",
   "execution_count": 3,
   "id": "47e53c77",
   "metadata": {},
   "outputs": [
    {
     "name": "stdout",
     "output_type": "stream",
     "text": [
      "enter the no9,7,3\n",
      "a is greater\n"
     ]
    }
   ],
   "source": [
    "# Write a Python function to find the maximum of three numbers. \n",
    "def maxi(a,b,c):\n",
    "    if a>b and a>c:\n",
    "        print('a is greater')\n",
    "    elif b>c and b>a:\n",
    "        print('b is greater')\n",
    "    else:\n",
    "        print('c is greater')\n",
    "a,b,c=input('enter the no').split(',')\n",
    "maxi(a,b,c)"
   ]
  },
  {
   "cell_type": "code",
   "execution_count": 24,
   "id": "728b161e",
   "metadata": {},
   "outputs": [
    {
     "data": {
      "text/plain": [
       "22"
      ]
     },
     "execution_count": 24,
     "metadata": {},
     "output_type": "execute_result"
    }
   ],
   "source": [
    "# Write a Python function to sum all the numbers in a list. Go to the editor\n",
    "#Sample List : (8, 2, 3, 0, 7)\n",
    "#Expected Output : 20\n",
    "def total(l):\n",
    "    k=0\n",
    "    for i in l:\n",
    "        k=k+i\n",
    "    return k\n",
    "total((2,4,9,7))\n",
    "        "
   ]
  },
  {
   "cell_type": "code",
   "execution_count": 29,
   "id": "a5ecb602",
   "metadata": {},
   "outputs": [
    {
     "data": {
      "text/plain": [
       "-336"
      ]
     },
     "execution_count": 29,
     "metadata": {},
     "output_type": "execute_result"
    }
   ],
   "source": [
    "#Write a Python function to multiply all the numbers in a list\n",
    "def total(l):\n",
    "    k=1\n",
    "    for i in l:\n",
    "        k=k*i\n",
    "    return k\n",
    "total((8,2,3,-1,7))\n",
    "        "
   ]
  },
  {
   "cell_type": "code",
   "execution_count": 43,
   "id": "40d6221f",
   "metadata": {},
   "outputs": [
    {
     "name": "stdout",
     "output_type": "stream",
     "text": [
      "enter the stringayuhs\n"
     ]
    },
    {
     "data": {
      "text/plain": [
       "'shuya'"
      ]
     },
     "execution_count": 43,
     "metadata": {},
     "output_type": "execute_result"
    }
   ],
   "source": [
    "#Write a Python program to reverse a string.\n",
    "def rev():\n",
    "    x=''\n",
    "    for i in string:\n",
    "        x=i+x\n",
    "    return x\n",
    "string=input('enter the string')\n",
    "rev()\n",
    "    "
   ]
  },
  {
   "cell_type": "code",
   "execution_count": 46,
   "id": "6bde2854",
   "metadata": {},
   "outputs": [
    {
     "name": "stdout",
     "output_type": "stream",
     "text": [
      "enter the no4\n"
     ]
    },
    {
     "data": {
      "text/plain": [
       "24"
      ]
     },
     "execution_count": 46,
     "metadata": {},
     "output_type": "execute_result"
    }
   ],
   "source": [
    "#Write a Python function to calculate the factorial of a number (a non-negative integer). The function accepts the number asan argument.\n",
    "\n",
    "def fact():\n",
    "    fact=1\n",
    "    if num==1 or num==0:\n",
    "        print('factorial of ',num,'is',1)\n",
    "    elif num<0:\n",
    "        print('negative fatorial doesnt exist')\n",
    "    else:\n",
    "        for i in range(1,num+1):\n",
    "            fact=fact*i\n",
    "        return fact\n",
    "num=int(input('enter the no'))\n",
    "fact()"
   ]
  },
  {
   "cell_type": "code",
   "execution_count": 49,
   "id": "7a60531a",
   "metadata": {},
   "outputs": [
    {
     "name": "stdout",
     "output_type": "stream",
     "text": [
      "enter the no4\n",
      "is in range 4\n"
     ]
    }
   ],
   "source": [
    "#Write a Python function to check whether a number falls within a given range.\n",
    "def rang():\n",
    "    if  n in range(2,5):\n",
    "        print('is in range',n)\n",
    "    else:\n",
    "        print('not in range')\n",
    "n=int(input('enter the no'))\n",
    "rang()"
   ]
  },
  {
   "cell_type": "code",
   "execution_count": 93,
   "id": "e5c2b90b",
   "metadata": {},
   "outputs": [
    {
     "name": "stdout",
     "output_type": "stream",
     "text": [
      "enter the string\n",
      "  @media print {\n",
      "    .ms-editor-squiggles-container {\n",
      "      display:none !important;\n",
      "    }\n",
      "  }\n",
      "  .ms-editor-squiggles-container {\n",
      "    all: initial;\n",
      "  }AyushB\n",
      "2\n",
      "4\n"
     ]
    }
   ],
   "source": [
    "#Write a Python function that accepts a string and counts the number of upper and lower case letters.\n",
    "def case():\n",
    "    n=input('enter the string')\n",
    "    count=0\n",
    "    count1=0\n",
    "    for i in n:\n",
    "        if i.isupper():\n",
    "            count1=count1+1\n",
    "        if i.islower():\n",
    "            count=count+1\n",
    "        else:\n",
    "            pass\n",
    "    print(count1)\n",
    "    print(count)\n",
    "case()"
   ]
  },
  {
   "cell_type": "code",
   "execution_count": 100,
   "id": "349f8242",
   "metadata": {},
   "outputs": [
    {
     "data": {
      "text/plain": [
       "[1, 2, 3, 4, 5]"
      ]
     },
     "execution_count": 100,
     "metadata": {},
     "output_type": "execute_result"
    }
   ],
   "source": [
    "#Write a Python function that takes a list and returns a new list with distinct elements from the first list.\n",
    "def unique():\n",
    "    x=[]\n",
    "    for i in l:\n",
    "        if i not in x:\n",
    "            x.append(i)\n",
    "    return x\n",
    "l= [1,2,3,3,3,3,4,5]\n",
    "unique()"
   ]
  },
  {
   "cell_type": "markdown",
   "id": "8a4c9525",
   "metadata": {},
   "source": [
    "# "
   ]
  },
  {
   "cell_type": "code",
   "execution_count": 101,
   "id": "84cf9925",
   "metadata": {},
   "outputs": [
    {
     "name": "stdout",
     "output_type": "stream",
     "text": [
      "1\n",
      "hi\n",
      "p\n",
      "1\n"
     ]
    }
   ],
   "source": [
    "k1=1\n",
    "def a():\n",
    "    s='hi'\n",
    "    print(s)\n",
    "    return s\n",
    "    k1=2\n",
    "print(k1)\n",
    "k=a()\n",
    "print('p')\n",
    "print(k1)\n"
   ]
  },
  {
   "cell_type": "code",
   "execution_count": 18,
   "id": "83a0b7fe",
   "metadata": {},
   "outputs": [
    {
     "name": "stdout",
     "output_type": "stream",
     "text": [
      "enter the no-------7\n",
      "7 6 5 4 3 2 1 "
     ]
    }
   ],
   "source": [
    "# wap to print the upper limit\n",
    "def upper():\n",
    "    n=int(input('enter the no-------'))\n",
    "    \n",
    "    for i in range(n,0,-1):\n",
    "        print(i,end=' ')\n",
    "        i=i-1\n",
    "upper()"
   ]
  },
  {
   "cell_type": "code",
   "execution_count": 47,
   "id": "5ff63449",
   "metadata": {},
   "outputs": [
    {
     "name": "stdout",
     "output_type": "stream",
     "text": [
      "enter1134\n",
      "4311"
     ]
    }
   ],
   "source": [
    "# wap to reverse the no\n",
    "n=int(input('enter'))\n",
    "def rev(n):\n",
    "    r=n%10\n",
    "    n=n//10\n",
    "    print(r,end='')\n",
    "    if n>0:\n",
    "        rev(n)\n",
    "rev(n)\n",
    "    \n",
    "    "
   ]
  },
  {
   "cell_type": "code",
   "execution_count": null,
   "id": "9bc08157",
   "metadata": {},
   "outputs": [],
   "source": []
  }
 ],
 "metadata": {
  "kernelspec": {
   "display_name": "Python 3 (ipykernel)",
   "language": "python",
   "name": "python3"
  },
  "language_info": {
   "codemirror_mode": {
    "name": "ipython",
    "version": 3
   },
   "file_extension": ".py",
   "mimetype": "text/x-python",
   "name": "python",
   "nbconvert_exporter": "python",
   "pygments_lexer": "ipython3",
   "version": "3.9.12"
  }
 },
 "nbformat": 4,
 "nbformat_minor": 5
}

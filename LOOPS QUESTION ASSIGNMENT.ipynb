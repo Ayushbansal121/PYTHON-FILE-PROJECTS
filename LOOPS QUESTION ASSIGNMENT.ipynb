{
 "cells": [
  {
   "cell_type": "code",
   "execution_count": 10,
   "id": "118d5eec",
   "metadata": {},
   "outputs": [
    {
     "name": "stdout",
     "output_type": "stream",
     "text": [
      "9 :no list is lucky\n"
     ]
    }
   ],
   "source": [
    "c=0\n",
    "list=[1,2,3,4,5,6,7,8,9,]\n",
    "for i in list:\n",
    "    i=int(i)\n",
    "    if i%7==0:\n",
    "        c=c+1\n",
    "if c>0:        \n",
    "    print(i,':no list is lucky')\n",
    "else:\n",
    "    print(i,':no list is not lucky')"
   ]
  },
  {
   "cell_type": "code",
   "execution_count": 12,
   "id": "3de9c3a7",
   "metadata": {},
   "outputs": [
    {
     "name": "stdout",
     "output_type": "stream",
     "text": [
      "enter no:5\n",
      "15 :is the sum of enter no\n"
     ]
    }
   ],
   "source": [
    "\n",
    "n=int(input('enter no:'))\n",
    "k=0\n",
    "for i in range (1,n+1):\n",
    "    k=k+i\n",
    "    n=n+1\n",
    "print(k,':is the sum of enter no')\n",
    "    \n",
    "    "
   ]
  },
  {
   "cell_type": "code",
   "execution_count": 39,
   "id": "25f22def",
   "metadata": {},
   "outputs": [
    {
     "name": "stdout",
     "output_type": "stream",
     "text": [
      "0 :whole no\n",
      "1 :whole no\n",
      "2 :whole no\n",
      "3 :whole no\n",
      "4 :whole no\n",
      "5 :whole no\n",
      "6 :whole no\n",
      "7 :whole no\n",
      "8 :whole no\n",
      "9 :whole no\n",
      "10 :whole no\n",
      "1 :natural no\n",
      "2 :natural no\n",
      "3 :natural no\n",
      "4 :natural no\n",
      "5 :natural no\n",
      "6 :natural no\n",
      "7 :natural no\n",
      "8 :natural no\n",
      "9 :natural no\n",
      "10 :natural no\n",
      "2 even\n",
      "4 even\n",
      "6 even\n",
      "8 even\n",
      "10 even\n",
      "12 even\n",
      "14 even\n",
      "16 even\n",
      "18 even\n",
      "20 even\n",
      "1 odd\n",
      "3 odd\n",
      "5 odd\n",
      "7 odd\n",
      "9 odd\n",
      "11 odd\n",
      "13 odd\n",
      "15 odd\n",
      "17 odd\n",
      "19 odd\n",
      "21 odd\n"
     ]
    }
   ],
   "source": [
    "z=0\n",
    "while z<11:\n",
    "    print(z,':whole no')\n",
    "    z=z+1\n",
    "k=1\n",
    "while k<11:\n",
    "    print(k,':natural no')\n",
    "    k=k+1\n",
    "j=21\n",
    "y=0\n",
    "p=0\n",
    "while p<j:\n",
    "    p=p+1\n",
    "    y=y+1\n",
    "    if y%2==0:\n",
    "        print(y,'even')\n",
    "u=21\n",
    "r=0\n",
    "w=0\n",
    "while w<u:\n",
    "    r=r+1\n",
    "    w=w+1\n",
    "    if r%2!=0:\n",
    "        print(r,'odd')\n",
    "        \n",
    "    "
   ]
  },
  {
   "cell_type": "code",
   "execution_count": 47,
   "id": "928e52c8",
   "metadata": {},
   "outputs": [
    {
     "name": "stdout",
     "output_type": "stream",
     "text": [
      "square of 1 is 1\n",
      "square of 2 is 4\n",
      "square of 3 is 9\n",
      "square of 4 is 16\n",
      "square of 5 is 25\n",
      "square of 6 is 36\n",
      "square of 7 is 49\n",
      "square of 8 is 64\n",
      "square of 9 is 81\n",
      "square of 10 is 100\n"
     ]
    }
   ],
   "source": [
    "n=1\n",
    "while n<11:\n",
    "    print('square of',n,'is',n**2)\n",
    "    n=n+1"
   ]
  },
  {
   "cell_type": "code",
   "execution_count": 49,
   "id": "6c29802a",
   "metadata": {},
   "outputs": [
    {
     "name": "stdout",
     "output_type": "stream",
     "text": [
      "10\n",
      "20\n",
      "30\n",
      "40\n",
      "50\n",
      "60\n",
      "70\n",
      "80\n",
      "90\n",
      "100\n",
      "110\n",
      "120\n",
      "130\n",
      "140\n",
      "150\n",
      "160\n",
      "170\n",
      "180\n",
      "190\n",
      "200\n",
      "210\n",
      "220\n",
      "230\n",
      "240\n",
      "250\n",
      "260\n",
      "270\n",
      "280\n",
      "290\n",
      "300\n"
     ]
    }
   ],
   "source": [
    "for i in range (10,310,10):\n",
    "    print(i)"
   ]
  },
  {
   "cell_type": "code",
   "execution_count": 51,
   "id": "cd2a834f",
   "metadata": {},
   "outputs": [
    {
     "name": "stdout",
     "output_type": "stream",
     "text": [
      "105\n",
      "98\n",
      "91\n",
      "84\n",
      "77\n",
      "70\n",
      "63\n",
      "56\n",
      "49\n",
      "42\n",
      "35\n",
      "28\n",
      "21\n",
      "14\n",
      "7\n"
     ]
    }
   ],
   "source": [
    "for i in range (105,0,-7):\n",
    "    print(i)"
   ]
  },
  {
   "cell_type": "code",
   "execution_count": 64,
   "id": "05e8bbe8",
   "metadata": {},
   "outputs": [
    {
     "name": "stdout",
     "output_type": "stream",
     "text": [
      "enter no of term:3\n",
      "enter no:1\n",
      "enter no:4\n",
      "enter no:6\n",
      "11 Total\n"
     ]
    }
   ],
   "source": [
    "k=int(input('enter no of term:'))\n",
    "n=0\n",
    "sum=0\n",
    "while n<k:\n",
    "    i=int(input('enter no:'))\n",
    "    sum=sum+i\n",
    "    n=n+1\n",
    "print(sum,'Total')\n",
    "    \n",
    "    \n"
   ]
  },
  {
   "cell_type": "code",
   "execution_count": 16,
   "id": "b9cddc32",
   "metadata": {},
   "outputs": [
    {
     "name": "stdout",
     "output_type": "stream",
     "text": [
      "enter no:-3\n",
      "enter no:4\n",
      "enter no:5\n",
      "enter no:0\n",
      "negative sum: -3\n",
      "positive sum: 9\n"
     ]
    }
   ],
   "source": [
    "sum=0\n",
    "sub=0\n",
    "i=1\n",
    "while i!=0:\n",
    "    i=int(input('enter no:'))\n",
    "    if i<0:\n",
    "        sum=sum+i\n",
    "    else:\n",
    "        sub=sub+i\n",
    "print('negative sum:',sum)\n",
    "print('positive sum:',sub) \n",
    "\n",
    "    "
   ]
  },
  {
   "cell_type": "code",
   "execution_count": 77,
   "id": "852498cc",
   "metadata": {},
   "outputs": [
    {
     "name": "stdout",
     "output_type": "stream",
     "text": [
      "104\n",
      "130\n",
      "143\n",
      "169\n",
      "182\n",
      "208\n",
      "221\n",
      "247\n",
      "260\n",
      "286\n",
      "299\n",
      "325\n",
      "338\n",
      "364\n",
      "377\n",
      "403\n",
      "416\n",
      "442\n",
      "455\n",
      "481\n",
      "494\n"
     ]
    }
   ],
   "source": [
    "for i in range(100,500):\n",
    "    if i%13==0 and i%3!=0:\n",
    "        print(i)"
   ]
  },
  {
   "cell_type": "code",
   "execution_count": null,
   "id": "4d85a473",
   "metadata": {},
   "outputs": [],
   "source": [
    "\n",
    "    "
   ]
  },
  {
   "cell_type": "code",
   "execution_count": 84,
   "id": "4d64b178",
   "metadata": {},
   "outputs": [
    {
     "name": "stdout",
     "output_type": "stream",
     "text": [
      "enter no of term10\n",
      "1\n",
      "4\n",
      "9\n",
      "16\n",
      "25\n",
      "36\n",
      "49\n",
      "64\n",
      "81\n"
     ]
    }
   ],
   "source": [
    "n=1\n",
    "x=int(input('enter no of term'))\n",
    "while n<x:\n",
    "    print(n**2)\n",
    "    n=n+1"
   ]
  },
  {
   "cell_type": "code",
   "execution_count": null,
   "id": "709ae3bf",
   "metadata": {},
   "outputs": [],
   "source": [
    "\n",
    "              "
   ]
  },
  {
   "cell_type": "code",
   "execution_count": 8,
   "id": "8d0c2e49",
   "metadata": {},
   "outputs": [
    {
     "name": "stdout",
     "output_type": "stream",
     "text": [
      "2002,2009,2016,2023,2037,2044,2051,2058,2072,2079,2086,2093,2107,2114,2121,2128,2142,2149,2156,2163,2177,2184,2191,2198,2212,2219,2226,2233,2247,2254,2261,2268,2282,2289,2296,2303,2317,2324,2331,2338,2352,2359,2366,2373,2387,2394,2401,2408,2422,2429,2436,2443,2457,2464,2471,2478,2492,2499,2506,2513,2527,2534,2541,2548,2562,2569,2576,2583,2597,2604,2611,2618,2632,2639,2646,2653,2667,2674,2681,2688,2702,2709,2716,2723,2737,2744,2751,2758,2772,2779,2786,2793,2807,2814,2821,2828,2842,2849,2856,2863,2877,2884,2891,2898,2912,2919,2926,2933,2947,2954,2961,2968,2982,2989,2996,3003,3017,3024,3031,3038,3052,3059,3066,3073,3087,3094,3101,3108,3122,3129,3136,3143,3157,3164,3171,3178,3192,3199,"
     ]
    }
   ],
   "source": [
    "for i in range (2000,3201):\n",
    "    if i%7==0 and i%5!=0:\n",
    "            print(i,end=',')\n",
    "            "
   ]
  },
  {
   "cell_type": "code",
   "execution_count": 1,
   "id": "a061953f",
   "metadata": {},
   "outputs": [
    {
     "name": "stdout",
     "output_type": "stream",
     "text": [
      "2000,2002,2004,2006,2008,2020,2022,2024,2026,2028,2040,2042,2044,2046,2048,2060,2062,2064,2066,2068,2080,2082,2084,2086,2088,2200,2202,2204,2206,2208,2220,2222,2224,2226,2228,2240,2242,2244,2246,2248,2260,2262,2264,2266,2268,2280,2282,2284,2286,2288,2400,2402,2404,2406,2408,2420,2422,2424,2426,2428,2440,2442,2444,2446,2448,2460,2462,2464,2466,2468,2480,2482,2484,2486,2488,2600,2602,2604,2606,2608,2620,2622,2624,2626,2628,2640,2642,2644,2646,2648,2660,2662,2664,2666,2668,2680,2682,2684,2686,2688,2800,2802,2804,2806,2808,2820,2822,2824,2826,2828,2840,2842,2844,2846,2848,2860,2862,2864,2866,2868,2880,2882,2884,2886,2888\n"
     ]
    }
   ],
   "source": [
    "values = []\n",
    "for i in range(1000, 3001):\n",
    "    s = str(i)\n",
    "    if (int(s[0])%2==0) and (int(s[1])%2==0) and (int(s[2])%2==0) and (int(s[3])%2==0):\n",
    "        values.append(s)\n",
    "print(\",\".join(values))\n"
   ]
  },
  {
   "cell_type": "code",
   "execution_count": 23,
   "id": "9c9bf47f",
   "metadata": {},
   "outputs": [
    {
     "name": "stdout",
     "output_type": "stream",
     "text": [
      "username:ayushbansal\n",
      "password:12345\n",
      "welcome to the website\n"
     ]
    }
   ],
   "source": [
    "attempts=0\n",
    "x=1\n",
    "while x>0:\n",
    "    username=input('username:')\n",
    "    password=input('password:')\n",
    "    if username=='ayushbansal'and password=='12345':\n",
    "        print('welcome to the website')\n",
    "        break\n",
    "    else:\n",
    "        attempts+=1\n",
    "        print('incorrect!')\n",
    "        if attempts==5:\n",
    "            print('too many failed attempts try next time ')\n",
    "            break"
   ]
  },
  {
   "cell_type": "code",
   "execution_count": 1,
   "id": "344e7a66",
   "metadata": {},
   "outputs": [
    {
     "ename": "IndentationError",
     "evalue": "expected an indented block (1512157652.py, line 12)",
     "output_type": "error",
     "traceback": [
      "\u001b[1;36m  Input \u001b[1;32mIn [1]\u001b[1;36m\u001b[0m\n\u001b[1;33m    print(\"Which Toppings Would You Prefer: \")\u001b[0m\n\u001b[1;37m    ^\u001b[0m\n\u001b[1;31mIndentationError\u001b[0m\u001b[1;31m:\u001b[0m expected an indented block\n"
     ]
    }
   ],
   "source": []
  },
  {
   "cell_type": "code",
   "execution_count": 18,
   "id": "06544c43",
   "metadata": {},
   "outputs": [
    {
     "name": "stdout",
     "output_type": "stream",
     "text": [
      "enter no:221\n",
      "221 no is not armstrong \n"
     ]
    }
   ],
   "source": [
    "n=int(input('enter no:'))\n",
    "sum=0\n",
    "temp=sum\n",
    "while number>0:\n",
    "    y=number%10\n",
    "    sum=sum+y**3\n",
    "    number//=10\n",
    "if n==sum:\n",
    "    print(n,'no is armstrong ')\n",
    "else:\n",
    "    print(n,'no is not armstrong ')"
   ]
  },
  {
   "cell_type": "code",
   "execution_count": null,
   "id": "0312c15c",
   "metadata": {},
   "outputs": [],
   "source": [
    "a=0\n",
    "p=float('inf')\n",
    "for i in range(12):\n",
    "    num=int(input(\"Enter Numbers: \"))\n",
    "    if num>a:\n",
    "        a=num\n",
    "    if num<p:\n",
    "        p=num\n",
    "print(\"LARGEST NUMBER:  \",a)\n",
    "print(\"SMALLEST NUMBER: \",p)\n"
   ]
  },
  {
   "cell_type": "markdown",
   "id": "6a4c6e8a",
   "metadata": {},
   "source": []
  },
  {
   "cell_type": "code",
   "execution_count": null,
   "id": "0784c3d7",
   "metadata": {},
   "outputs": [
    {
     "name": "stdout",
     "output_type": "stream",
     "text": [
      "welcome to the chilly chikky Restaurant \n",
      " \n",
      " Menu \n",
      " \n",
      "1: PIZZA and the price is 200 \n",
      "\n",
      "2: HOT DOG and the price is 60\n",
      "\n",
      "3: BURGER and the price is 45\n",
      "\n"
     ]
    }
   ],
   "source": [
    "print(\"welcome to the chilly chikky Restaurant \\n \")\n",
    "print(\" Menu \\n \")\n",
    "print(\"1: PIZZA and the price is 200 \\n\")\n",
    "print(\"2: HOT DOG and the price is 60\\n\")\n",
    "print(\"3: BURGER and the price is 45\\n\")\n",
    "price=0\n",
    "choice= int(input(\"Kindly enter your choice \"))\n",
    "if (choice==1):\n",
    "    print(\"some toppings you may add as: capsicum mushrooms paneer\")\n",
    "    toppings=input(\"kindly enter which topings you would like to add \\n\")\n",
    "    if(toppings==\"paneer\"):\n",
    "        price=200+70\n",
    "        print(\"paneer pizza price would be \", price)\n",
    "    if(toppings==\"capsicum\"):\n",
    "        price=200+45\n",
    "        print(\"capsicum pizza price would be \",price)\n",
    "    if(toppings==\"mushrooms\"):\n",
    "        price=200+60\n",
    "        print(\"mushroom pizza price would be \", price)\n",
    "elif(choice==2):\n",
    "    print(\"some fillings you may add as: single cheeze paneer double layer cheese\")\n",
    "    fillings=input(\"kindly enter which fillings you would like to add \\n\")\n",
    "    if(fillings== \"single_cheeze_paneer\" ):\n",
    "        price=60+35\n",
    "        print(\" cheezy hot dog price would be \", price)\n",
    "    elif(fillings==\"double_layer_cheeze\"):\n",
    "        price=60+50\n",
    "        print(\" cheezyy hot dog price would be \", price)\n",
    "elif(choice==3):\n",
    "    print(\"some fillings you may add as: single cheeze paneer double layer cheese\")\n",
    "    fillings=input(\"kindly enter which fillings you would like to add \\n\")\n",
    "    if(fillings== \"single_cheeze_paneer\" ):\n",
    "            price=45+35\n",
    "            print(\" cheezy burger price would be \", price)\n",
    "    elif(fillings==\"double_layer_cheeze\"):\n",
    "            price=45+50\n",
    "            print(\" cheezyy burger price would be \", price)\n",
    "else:\n",
    "    print(\"enter valid choice\")\n",
    "soft=input(\"you wish to add softdrinks yes or not \")\n",
    "final_p=price+85\n",
    "print(\"cost will be \", final_p)"
   ]
  },
  {
   "cell_type": "code",
   "execution_count": 11,
   "id": "aa632df5",
   "metadata": {},
   "outputs": [
    {
     "name": "stdout",
     "output_type": "stream",
     "text": [
      "1100,1010,"
     ]
    }
   ],
   "source": [
    "list = [1100,1101,1010,1001]\n",
    "for i in list:\n",
    "     if i % 5 == 0:\n",
    "        print(i,end=',')"
   ]
  },
  {
   "cell_type": "code",
   "execution_count": null,
   "id": "dc0d99fa",
   "metadata": {},
   "outputs": [],
   "source": []
  }
 ],
 "metadata": {
  "kernelspec": {
   "display_name": "Python 3 (ipykernel)",
   "language": "python",
   "name": "python3"
  },
  "language_info": {
   "codemirror_mode": {
    "name": "ipython",
    "version": 3
   },
   "file_extension": ".py",
   "mimetype": "text/x-python",
   "name": "python",
   "nbconvert_exporter": "python",
   "pygments_lexer": "ipython3",
   "version": "3.9.12"
  }
 },
 "nbformat": 4,
 "nbformat_minor": 5
}

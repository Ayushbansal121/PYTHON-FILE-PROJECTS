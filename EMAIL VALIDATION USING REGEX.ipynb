{
 "cells": [
  {
   "cell_type": "code",
   "execution_count": 9,
   "id": "5677501a",
   "metadata": {},
   "outputs": [
    {
     "name": "stdout",
     "output_type": "stream",
     "text": [
      "enter your email-------------------:ws.cube@gmail.in\n",
      " Right Email \n"
     ]
    }
   ],
   "source": [
    "import re\n",
    "email_condition=\"^[a-z]+[\\._]?[a-z 0-9]+[@]\\w+[.]\\w{2,3}$\"\n",
    "user_email=input(\"enter your email-------------------:\")\n",
    "if re.search(email_condition,user_email):\n",
    "    print(\" Right Email \")\n",
    "else:\n",
    "    print(\" Wrong Email \")"
   ]
  },
  {
   "cell_type": "code",
   "execution_count": 11,
   "id": "d02b142f",
   "metadata": {},
   "outputs": [
    {
     "name": "stdout",
     "output_type": "stream",
     "text": [
      "enter your email-----------------:ay.ush@gmail.com\n",
      "right email\n"
     ]
    }
   ],
   "source": [
    "import re\n",
    "email_condition=\"^[a-z]+[\\._]?[a-z 0-9]+[@]\\w+[.]\\w{2,3}$\"\n",
    "user_email=input(\"enter your email-----------------:\")\n",
    "if re.search(email_condition,user_email):\n",
    "    print(\"right email\")\n",
    "else:\n",
    "    print('wrong email')"
   ]
  },
  {
   "cell_type": "code",
   "execution_count": null,
   "id": "235a2793",
   "metadata": {},
   "outputs": [],
   "source": []
  }
 ],
 "metadata": {
  "kernelspec": {
   "display_name": "Python 3 (ipykernel)",
   "language": "python",
   "name": "python3"
  },
  "language_info": {
   "codemirror_mode": {
    "name": "ipython",
    "version": 3
   },
   "file_extension": ".py",
   "mimetype": "text/x-python",
   "name": "python",
   "nbconvert_exporter": "python",
   "pygments_lexer": "ipython3",
   "version": "3.9.12"
  }
 },
 "nbformat": 4,
 "nbformat_minor": 5
}

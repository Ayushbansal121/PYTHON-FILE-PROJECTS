{
 "cells": [
  {
   "cell_type": "code",
   "execution_count": 2,
   "id": "36a639eb",
   "metadata": {},
   "outputs": [
    {
     "name": "stdout",
     "output_type": "stream",
     "text": [
      "enter your stringAyush Bansal\n",
      "ayush bansal\n",
      "AYUSH BANSAL\n"
     ]
    }
   ],
   "source": [
    "n=input('enter your string')\n",
    "print(n.lower())\n",
    "print(n.upper())\n"
   ]
  },
  {
   "cell_type": "code",
   "execution_count": 1,
   "id": "45ddd7ce",
   "metadata": {},
   "outputs": [
    {
     "name": "stdout",
     "output_type": "stream",
     "text": [
      "enter string\n",
      "  @media print {\n",
      "    .ms-editor-squiggles-container {\n",
      "      display:none !important;\n",
      "    }\n",
      "  }\n",
      "  .ms-editor-squiggles-container {\n",
      "    all: initial;\n",
      "  }Ayush bansal\n",
      "total count 12\n"
     ]
    }
   ],
   "source": [
    "str=input('enter string')\n",
    "x=0\n",
    "for i in str:\n",
    "    x=x+1\n",
    "print('total count',x)\n",
    "    \n",
    "    "
   ]
  },
  {
   "cell_type": "code",
   "execution_count": 37,
   "id": "5a1569e4",
   "metadata": {},
   "outputs": [
    {
     "name": "stdout",
     "output_type": "stream",
     "text": [
      "enter stringjkjjd\n",
      "106 107 106 106 100 "
     ]
    }
   ],
   "source": [
    "str=input('enter string')\n",
    "for i in str:\n",
    "    print(ord(i),end=' ')"
   ]
  },
  {
   "cell_type": "code",
   "execution_count": 3,
   "id": "598feab3",
   "metadata": {},
   "outputs": [
    {
     "name": "stdout",
     "output_type": "stream",
     "text": [
      "enter string\n",
      "  @media print {\n",
      "    .ms-editor-squiggles-container {\n",
      "      display:none !important;\n",
      "    }\n",
      "  }\n",
      "  .ms-editor-squiggles-container {\n",
      "    all: initial;\n",
      "  }ayuhsl bansal\n",
      "ayuhsl#bansal\n"
     ]
    }
   ],
   "source": [
    "str=input('enter string')\n",
    "s1=str.replace(' ','#')\n",
    "print(s1)"
   ]
  },
  {
   "cell_type": "code",
   "execution_count": 108,
   "id": "72cb0b23",
   "metadata": {},
   "outputs": [
    {
     "name": "stdout",
     "output_type": "stream",
     "text": [
      "enter stringajhs9i020\n",
      "a\n",
      "j\n",
      "h\n",
      "s\n",
      "i\n"
     ]
    }
   ],
   "source": [
    "x=input('enter string')\n",
    "for i in x:\n",
    "    if i.isdigit():\n",
    "        del(i)\n",
    "    else:\n",
    "        print(i)"
   ]
  },
  {
   "cell_type": "code",
   "execution_count": 81,
   "id": "93192dcb",
   "metadata": {},
   "outputs": [
    {
     "name": "stdout",
     "output_type": "stream",
     "text": [
      "enter stringkjKJjooaoifao\n",
      "o vowels 4\n",
      "o vowels 4\n",
      "a vowels 2\n",
      "o vowels 4\n",
      "i vowels 1\n",
      "a vowels 2\n",
      "o vowels 4\n"
     ]
    }
   ],
   "source": [
    "s=input('enter string')\n",
    "for  i in s:\n",
    "    if  (i == 'a' or i == 'e' or i == 'i' or i == 'o' or i == 'u'\n",
    "            or i == 'A' or i == 'E' or i == 'I' or i == 'O' or i == 'U'):\n",
    "         print(i,'vowels',s.count(i))\n",
    "            \n",
    "            \n",
    "            \n",
    "            "
   ]
  },
  {
   "cell_type": "code",
   "execution_count": null,
   "id": "ad89b58b",
   "metadata": {},
   "outputs": [],
   "source": [
    "\n",
    "            \n",
    "            "
   ]
  },
  {
   "cell_type": "code",
   "execution_count": 1,
   "id": "45135f26",
   "metadata": {},
   "outputs": [
    {
     "name": "stdout",
     "output_type": "stream",
     "text": [
      "enter string:ayuhs\n",
      "yhs"
     ]
    }
   ],
   "source": [
    "s=input('enter string:')\n",
    "for i in s:\n",
    "    if  (i == 'a' or i == 'e' or i == 'i' or i == 'o' or i == 'u'\n",
    "            or i == 'A' or i == 'E' or i == 'I' or i == 'O' or i == 'U'):\n",
    "                s.strip(i)\n",
    "    else:\n",
    "        print(i,end='')\n",
    "        \n",
    "    "
   ]
  },
  {
   "cell_type": "code",
   "execution_count": null,
   "id": "bdfe39a1",
   "metadata": {},
   "outputs": [],
   "source": []
  },
  {
   "cell_type": "code",
   "execution_count": 28,
   "id": "96aa51b6",
   "metadata": {},
   "outputs": [
    {
     "name": "stdout",
     "output_type": "stream",
     "text": [
      "xyc abz\n"
     ]
    }
   ],
   "source": [
    "x='abc','xyz'\n",
    "y=x[1][0:2]+x[0][2]+' '+x[0][0:2]+x[1][2]\n",
    "print(y)"
   ]
  },
  {
   "cell_type": "code",
   "execution_count": 35,
   "id": "377c8a28",
   "metadata": {},
   "outputs": [
    {
     "name": "stdout",
     "output_type": "stream",
     "text": [
      "enter stringdfyj\n",
      "string contain alphabet letter\n",
      "string contain alphabet letter\n",
      "string contain alphabet letter\n",
      "string contain alphabet letter\n"
     ]
    }
   ],
   "source": [
    "x=input('enter string')\n",
    "for i in x:\n",
    "    if i.isalpha():\n",
    "        print('string contain alphabet letter')\n",
    "    else:\n",
    "        print('string contain numeric letter')"
   ]
  },
  {
   "cell_type": "code",
   "execution_count": 50,
   "id": "42bdebc8",
   "metadata": {},
   "outputs": [
    {
     "name": "stdout",
     "output_type": "stream",
     "text": [
      "Current character 0 position at w\n",
      "Current character 1 position at 3\n",
      "Current character 2 position at r\n",
      "Current character 3 position at e\n",
      "Current character 4 position at s\n",
      "Current character 5 position at o\n",
      "Current character 6 position at u\n",
      "Current character 7 position at r\n",
      "Current character 8 position at c\n",
      "Current character 9 position at e\n"
     ]
    }
   ],
   "source": [
    "z= \"w3resource\"\n",
    "for i,x in enumerate(z):\n",
    "    print(\"Current character\",i, \"position at\" ,x )"
   ]
  },
  {
   "cell_type": "code",
   "execution_count": 28,
   "id": "8a9f7eb8",
   "metadata": {},
   "outputs": [
    {
     "name": "stdout",
     "output_type": "stream",
     "text": [
      "enter no:ayush\n",
      "aysh\n"
     ]
    }
   ],
   "source": [
    "x=input('enter no:')\n",
    "if x.isalpha():\n",
    "    print(x[0:2]+x[-2:])\n",
    "else:\n",
    "    if len(x<2):\n",
    "        print(x)"
   ]
  },
  {
   "cell_type": "code",
   "execution_count": 87,
   "id": "5424b702",
   "metadata": {},
   "outputs": [
    {
     "name": "stdout",
     "output_type": "stream",
     "text": [
      "enter string:Ayush\n",
      "aYUSH"
     ]
    }
   ],
   "source": [
    "x=input('enter string:')\n",
    "for i in x:\n",
    "    if i.isupper():\n",
    "        print(i.lower(),end='')\n",
    "    else:\n",
    "        print(i.upper(),end='')"
   ]
  },
  {
   "cell_type": "code",
   "execution_count": 135,
   "id": "97e61969",
   "metadata": {},
   "outputs": [
    {
     "name": "stdout",
     "output_type": "stream",
     "text": [
      "Please Enter your Own String : ayush\n",
      "Original String :   ayush\n",
      "Final String :      auh\n"
     ]
    }
   ],
   "source": [
    "str1 = input(\"Please Enter your Own String : \")\n",
    "\n",
    "str2 = ''\n",
    "\n",
    "for i in range(len(str1)):\n",
    "    if(i % 2 == 0):\n",
    "        str2 = str2 + str1[i]\n",
    "        \n",
    "print(\"Original String :  \", str1)\n",
    "print(\"Final String :     \", str2)"
   ]
  },
  {
   "cell_type": "code",
   "execution_count": 110,
   "id": "8becc07b",
   "metadata": {},
   "outputs": [
    {
     "data": {
      "text/plain": [
       "['__add__',\n",
       " '__class__',\n",
       " '__contains__',\n",
       " '__delattr__',\n",
       " '__dir__',\n",
       " '__doc__',\n",
       " '__eq__',\n",
       " '__format__',\n",
       " '__ge__',\n",
       " '__getattribute__',\n",
       " '__getitem__',\n",
       " '__getnewargs__',\n",
       " '__gt__',\n",
       " '__hash__',\n",
       " '__init__',\n",
       " '__init_subclass__',\n",
       " '__iter__',\n",
       " '__le__',\n",
       " '__len__',\n",
       " '__lt__',\n",
       " '__mod__',\n",
       " '__mul__',\n",
       " '__ne__',\n",
       " '__new__',\n",
       " '__reduce__',\n",
       " '__reduce_ex__',\n",
       " '__repr__',\n",
       " '__rmod__',\n",
       " '__rmul__',\n",
       " '__setattr__',\n",
       " '__sizeof__',\n",
       " '__str__',\n",
       " '__subclasshook__',\n",
       " 'capitalize',\n",
       " 'casefold',\n",
       " 'center',\n",
       " 'count',\n",
       " 'encode',\n",
       " 'endswith',\n",
       " 'expandtabs',\n",
       " 'find',\n",
       " 'format',\n",
       " 'format_map',\n",
       " 'index',\n",
       " 'isalnum',\n",
       " 'isalpha',\n",
       " 'isascii',\n",
       " 'isdecimal',\n",
       " 'isdigit',\n",
       " 'isidentifier',\n",
       " 'islower',\n",
       " 'isnumeric',\n",
       " 'isprintable',\n",
       " 'isspace',\n",
       " 'istitle',\n",
       " 'isupper',\n",
       " 'join',\n",
       " 'ljust',\n",
       " 'lower',\n",
       " 'lstrip',\n",
       " 'maketrans',\n",
       " 'partition',\n",
       " 'removeprefix',\n",
       " 'removesuffix',\n",
       " 'replace',\n",
       " 'rfind',\n",
       " 'rindex',\n",
       " 'rjust',\n",
       " 'rpartition',\n",
       " 'rsplit',\n",
       " 'rstrip',\n",
       " 'split',\n",
       " 'splitlines',\n",
       " 'startswith',\n",
       " 'strip',\n",
       " 'swapcase',\n",
       " 'title',\n",
       " 'translate',\n",
       " 'upper',\n",
       " 'zfill']"
      ]
     },
     "execution_count": 110,
     "metadata": {},
     "output_type": "execute_result"
    }
   ],
   "source": [
    "dir(str)"
   ]
  },
  {
   "cell_type": "code",
   "execution_count": 2,
   "id": "1924a02b",
   "metadata": {},
   "outputs": [
    {
     "name": "stdout",
     "output_type": "stream",
     "text": [
      "enter stringayush.com\n",
      "9\n"
     ]
    }
   ],
   "source": [
    "x=input('enter string')\n",
    "z=len(x)\n",
    "print(z)\n",
    "    "
   ]
  },
  {
   "cell_type": "code",
   "execution_count": 5,
   "id": "38e40ce5",
   "metadata": {},
   "outputs": [
    {
     "name": "stdout",
     "output_type": "stream",
     "text": [
      "enter the stringayuhhs.com\n",
      "10\n"
     ]
    }
   ],
   "source": [
    "x=input('enter the string')\n",
    "z=0\n",
    "for i in x:\n",
    "    z=z+1\n",
    "print(z)"
   ]
  },
  {
   "cell_type": "code",
   "execution_count": 11,
   "id": "a6704e3c",
   "metadata": {},
   "outputs": [
    {
     "name": "stdout",
     "output_type": "stream",
     "text": [
      "enter stringayush\n",
      "a 1\n",
      "y 1\n",
      "u 1\n",
      "s 1\n",
      "h 1\n"
     ]
    }
   ],
   "source": [
    "x=input('enter string')\n",
    "for i in (x):\n",
    "    print(i,x.count(i))\n",
    "    \n",
    "    "
   ]
  },
  {
   "cell_type": "code",
   "execution_count": 35,
   "id": "2244df5b",
   "metadata": {},
   "outputs": [
    {
     "name": "stdout",
     "output_type": "stream",
     "text": [
      "enter stringayush\n",
      "aysh\n"
     ]
    }
   ],
   "source": [
    "x=input('enter string')\n",
    "if len(x)<2:\n",
    "    print('empty string')\n",
    "else:\n",
    "    z=x[0]+x[1]+x[-2]+x[-1]\n",
    "    print(z)"
   ]
  },
  {
   "cell_type": "code",
   "execution_count": 42,
   "id": "dd478823",
   "metadata": {},
   "outputs": [
    {
     "name": "stdout",
     "output_type": "stream",
     "text": [
      "enter string:restart\n",
      "$\n"
     ]
    }
   ],
   "source": [
    "x=input('enter string:')\n",
    "\n",
    "    \n",
    "k=x.replace(x,'$')\n",
    "\n",
    "\n",
    "\n",
    "print(k)"
   ]
  },
  {
   "cell_type": "code",
   "execution_count": 47,
   "id": "3b0fa1ea",
   "metadata": {},
   "outputs": [
    {
     "name": "stdout",
     "output_type": "stream",
     "text": [
      "enter stringayusha\n",
      "ayush$\n"
     ]
    }
   ],
   "source": [
    "str1=input('enter string')\n",
    "char = str1[0]\n",
    "str1 = str1.replace(char, '$')\n",
    "str1 = char + str1[1:]\n",
    "print(str1)\n"
   ]
  },
  {
   "cell_type": "code",
   "execution_count": 138,
   "id": "3df79f50",
   "metadata": {},
   "outputs": [
    {
     "ename": "KeyboardInterrupt",
     "evalue": "Interrupted by user",
     "output_type": "error",
     "traceback": [
      "\u001b[1;31m---------------------------------------------------------------------------\u001b[0m",
      "\u001b[1;31mKeyboardInterrupt\u001b[0m                         Traceback (most recent call last)",
      "Input \u001b[1;32mIn [138]\u001b[0m, in \u001b[0;36m<cell line: 1>\u001b[1;34m()\u001b[0m\n\u001b[1;32m----> 1\u001b[0m x\u001b[38;5;241m=\u001b[39m\u001b[38;5;28;43minput\u001b[39;49m\u001b[43m(\u001b[49m\u001b[38;5;124;43m'\u001b[39;49m\u001b[38;5;124;43menter string\u001b[39;49m\u001b[38;5;124;43m'\u001b[39;49m\u001b[43m)\u001b[49m\n\u001b[0;32m      2\u001b[0m z\u001b[38;5;241m=\u001b[39mx[\u001b[38;5;241m2\u001b[39m]\n\u001b[0;32m      3\u001b[0m x\u001b[38;5;241m=\u001b[39mx\u001b[38;5;241m.\u001b[39mreplace(z,\u001b[38;5;124m'\u001b[39m\u001b[38;5;124m*\u001b[39m\u001b[38;5;124m'\u001b[39m)\n",
      "File \u001b[1;32mC:\\ProgramData\\Anaconda3\\lib\\site-packages\\ipykernel\\kernelbase.py:1075\u001b[0m, in \u001b[0;36mKernel.raw_input\u001b[1;34m(self, prompt)\u001b[0m\n\u001b[0;32m   1071\u001b[0m \u001b[38;5;28;01mif\u001b[39;00m \u001b[38;5;129;01mnot\u001b[39;00m \u001b[38;5;28mself\u001b[39m\u001b[38;5;241m.\u001b[39m_allow_stdin:\n\u001b[0;32m   1072\u001b[0m     \u001b[38;5;28;01mraise\u001b[39;00m StdinNotImplementedError(\n\u001b[0;32m   1073\u001b[0m         \u001b[38;5;124m\"\u001b[39m\u001b[38;5;124mraw_input was called, but this frontend does not support input requests.\u001b[39m\u001b[38;5;124m\"\u001b[39m\n\u001b[0;32m   1074\u001b[0m     )\n\u001b[1;32m-> 1075\u001b[0m \u001b[38;5;28;01mreturn\u001b[39;00m \u001b[38;5;28;43mself\u001b[39;49m\u001b[38;5;241;43m.\u001b[39;49m\u001b[43m_input_request\u001b[49m\u001b[43m(\u001b[49m\n\u001b[0;32m   1076\u001b[0m \u001b[43m    \u001b[49m\u001b[38;5;28;43mstr\u001b[39;49m\u001b[43m(\u001b[49m\u001b[43mprompt\u001b[49m\u001b[43m)\u001b[49m\u001b[43m,\u001b[49m\n\u001b[0;32m   1077\u001b[0m \u001b[43m    \u001b[49m\u001b[38;5;28;43mself\u001b[39;49m\u001b[38;5;241;43m.\u001b[39;49m\u001b[43m_parent_ident\u001b[49m\u001b[43m[\u001b[49m\u001b[38;5;124;43m\"\u001b[39;49m\u001b[38;5;124;43mshell\u001b[39;49m\u001b[38;5;124;43m\"\u001b[39;49m\u001b[43m]\u001b[49m\u001b[43m,\u001b[49m\n\u001b[0;32m   1078\u001b[0m \u001b[43m    \u001b[49m\u001b[38;5;28;43mself\u001b[39;49m\u001b[38;5;241;43m.\u001b[39;49m\u001b[43mget_parent\u001b[49m\u001b[43m(\u001b[49m\u001b[38;5;124;43m\"\u001b[39;49m\u001b[38;5;124;43mshell\u001b[39;49m\u001b[38;5;124;43m\"\u001b[39;49m\u001b[43m)\u001b[49m\u001b[43m,\u001b[49m\n\u001b[0;32m   1079\u001b[0m \u001b[43m    \u001b[49m\u001b[43mpassword\u001b[49m\u001b[38;5;241;43m=\u001b[39;49m\u001b[38;5;28;43;01mFalse\u001b[39;49;00m\u001b[43m,\u001b[49m\n\u001b[0;32m   1080\u001b[0m \u001b[43m\u001b[49m\u001b[43m)\u001b[49m\n",
      "File \u001b[1;32mC:\\ProgramData\\Anaconda3\\lib\\site-packages\\ipykernel\\kernelbase.py:1120\u001b[0m, in \u001b[0;36mKernel._input_request\u001b[1;34m(self, prompt, ident, parent, password)\u001b[0m\n\u001b[0;32m   1117\u001b[0m             \u001b[38;5;28;01mbreak\u001b[39;00m\n\u001b[0;32m   1118\u001b[0m \u001b[38;5;28;01mexcept\u001b[39;00m \u001b[38;5;167;01mKeyboardInterrupt\u001b[39;00m:\n\u001b[0;32m   1119\u001b[0m     \u001b[38;5;66;03m# re-raise KeyboardInterrupt, to truncate traceback\u001b[39;00m\n\u001b[1;32m-> 1120\u001b[0m     \u001b[38;5;28;01mraise\u001b[39;00m \u001b[38;5;167;01mKeyboardInterrupt\u001b[39;00m(\u001b[38;5;124m\"\u001b[39m\u001b[38;5;124mInterrupted by user\u001b[39m\u001b[38;5;124m\"\u001b[39m) \u001b[38;5;28;01mfrom\u001b[39;00m \u001b[38;5;28mNone\u001b[39m\n\u001b[0;32m   1121\u001b[0m \u001b[38;5;28;01mexcept\u001b[39;00m \u001b[38;5;167;01mException\u001b[39;00m:\n\u001b[0;32m   1122\u001b[0m     \u001b[38;5;28mself\u001b[39m\u001b[38;5;241m.\u001b[39mlog\u001b[38;5;241m.\u001b[39mwarning(\u001b[38;5;124m\"\u001b[39m\u001b[38;5;124mInvalid Message:\u001b[39m\u001b[38;5;124m\"\u001b[39m, exc_info\u001b[38;5;241m=\u001b[39m\u001b[38;5;28;01mTrue\u001b[39;00m)\n",
      "\u001b[1;31mKeyboardInterrupt\u001b[0m: Interrupted by user"
     ]
    }
   ],
   "source": [
    "x=input('enter string')\n",
    "z=x[2]\n",
    "x=x.replace(z,'*')\n",
    "x=z+x[1:]\n",
    "print(x)"
   ]
  },
  {
   "cell_type": "code",
   "execution_count": 57,
   "id": "fc14b1ea",
   "metadata": {},
   "outputs": [
    {
     "name": "stdout",
     "output_type": "stream",
     "text": [
      "xyz abc\n"
     ]
    }
   ],
   "source": [
    "x='abc', 'xyz'\n",
    "z=x[1]+' '+x[0]\n",
    "print(z)"
   ]
  },
  {
   "cell_type": "code",
   "execution_count": 73,
   "id": "c984b5f9",
   "metadata": {},
   "outputs": [
    {
     "name": "stdout",
     "output_type": "stream",
     "text": [
      "enter the stringayushing\n",
      "ayushingly\n"
     ]
    }
   ],
   "source": [
    "x=input('enter the string')\n",
    "if len(x)>=3:\n",
    "    if x[-3:]=='ing':\n",
    "        x=x+'ly'\n",
    "        print(x)\n",
    "    else:\n",
    "        x=x+'ing'\n",
    "        print(x)\n",
    "\n",
    "    "
   ]
  },
  {
   "cell_type": "code",
   "execution_count": 108,
   "id": "b8a0632a",
   "metadata": {},
   "outputs": [
    {
     "name": "stdout",
     "output_type": "stream",
     "text": [
      "3\n",
      "9\n",
      "7\n"
     ]
    }
   ],
   "source": [
    "l=[\"PHP\", \"Exercises\", \"Backend\"]\n",
    "for i in l:\n",
    "    print(len(i))\n",
    "    \n",
    "    "
   ]
  },
  {
   "cell_type": "code",
   "execution_count": 124,
   "id": "04ddfbae",
   "metadata": {},
   "outputs": [
    {
     "name": "stdout",
     "output_type": "stream",
     "text": [
      "enter the string:my name is ayush\n",
      "ayush is longest word\n",
      "words count 5\n"
     ]
    }
   ],
   "source": [
    "x = input('enter the string:').split()\n",
    "z= ''\n",
    "for i in x:\n",
    "    if len(i) > len(z):\n",
    "        z = i\n",
    "print(z,'is longest word')\n",
    "print(\"words count\",len(z))\n"
   ]
  },
  {
   "cell_type": "code",
   "execution_count": 137,
   "id": "f1ff5056",
   "metadata": {},
   "outputs": [
    {
     "name": "stdout",
     "output_type": "stream",
     "text": [
      "enter n:ayush\n",
      "hyusa\n"
     ]
    }
   ],
   "source": [
    "x=input('enter n:')\n",
    "z=x[-1]+x[1:-1]+x[0]\n",
    "print(z)"
   ]
  },
  {
   "cell_type": "code",
   "execution_count": 152,
   "id": "c5c5096d",
   "metadata": {},
   "outputs": [
    {
     "name": "stdout",
     "output_type": "stream",
     "text": [
      "enter string:ayush\n",
      "auh :   odd index\n"
     ]
    }
   ],
   "source": [
    "x=input('enter string:')\n",
    "result = \"\" \n",
    "for i in range(len(x)):\n",
    "    if i % 2 == 0:\n",
    "        result = result + x[i]\n",
    "print(result,':   odd index')\n",
    "\n",
    "        "
   ]
  },
  {
   "cell_type": "code",
   "execution_count": 159,
   "id": "459f0e78",
   "metadata": {},
   "outputs": [
    {
     "name": "stdout",
     "output_type": "stream",
     "text": [
      "enter the string\n",
      "  @media print {\n",
      "    .ms-editor-squiggles-container {\n",
      "      display:none !important;\n",
      "    }\n",
      "  }\n",
      "  .ms-editor-squiggles-container {\n",
      "    all: initial;\n",
      "  }Ayush is my friend ayush\n",
      "Ayush 1\n",
      "is 1\n",
      "my 1\n",
      "friend 1\n",
      "ayush 1\n"
     ]
    }
   ],
   "source": [
    "x=input('enter the string').split()\n",
    "for i in x:\n",
    "    print(i,x.count(i))\n"
   ]
  },
  {
   "cell_type": "code",
   "execution_count": 164,
   "id": "19bbf96c",
   "metadata": {},
   "outputs": [
    {
     "name": "stdout",
     "output_type": "stream",
     "text": [
      "enter string:Ayush bansal IS AYUSH ayushs\n",
      "AYUSH\n",
      "BANSAL\n",
      "is\n",
      "ayush\n",
      "AYUSHS\n"
     ]
    }
   ],
   "source": [
    "x=input('enter string:').split()\n",
    "z=''\n",
    "for i in x:\n",
    "    if i.isupper():\n",
    "        print(i.lower())\n",
    "    else:\n",
    "        print(i.upper())"
   ]
  },
  {
   "cell_type": "code",
   "execution_count": 165,
   "id": "4db5de88",
   "metadata": {},
   "outputs": [
    {
     "name": "stdout",
     "output_type": "stream",
     "text": [
      "enter string:\n",
      "  @media print {\n",
      "    .ms-editor-squiggles-container {\n",
      "      display:none !important;\n",
      "    }\n",
      "  }\n",
      "  .ms-editor-squiggles-container {\n",
      "    all: initial;\n",
      "  }Ayush is my friend\n",
      "['Ayush', 'friend', 'is', 'my']\n"
     ]
    }
   ],
   "source": [
    "x=input('enter string:').split()\n",
    "z=sorted(x)\n",
    "print(z)"
   ]
  },
  {
   "cell_type": "code",
   "execution_count": 171,
   "id": "4c6cd684",
   "metadata": {},
   "outputs": [
    {
     "name": "stdout",
     "output_type": "stream",
     "text": [
      "enter stringayush\n",
      "hsuya"
     ]
    }
   ],
   "source": [
    "x = input('enter string')\n",
    "for i in range ((len(x)-1),-1,-1):\n",
    "    print (x[i], end=\"\")\n"
   ]
  },
  {
   "cell_type": "code",
   "execution_count": 173,
   "id": "983e243b",
   "metadata": {},
   "outputs": [
    {
     "name": "stdout",
     "output_type": "stream",
     "text": [
      "Enter the string: ayush\n",
      "hsuya\n"
     ]
    }
   ],
   "source": [
    "string = input('Enter the string: ')\n",
    "i = string\n",
    "reverse = ''\n",
    "while(len(i) > 0):\n",
    "    if(len(i) > 0):\n",
    "        a = i[-1]\n",
    "        i = i[:-1]\n",
    "        reverse += a\n",
    "print(reverse)    \n",
    "    "
   ]
  },
  {
   "cell_type": "code",
   "execution_count": null,
   "id": "f59889e2",
   "metadata": {},
   "outputs": [],
   "source": []
  }
 ],
 "metadata": {
  "kernelspec": {
   "display_name": "Python 3 (ipykernel)",
   "language": "python",
   "name": "python3"
  },
  "language_info": {
   "codemirror_mode": {
    "name": "ipython",
    "version": 3
   },
   "file_extension": ".py",
   "mimetype": "text/x-python",
   "name": "python",
   "nbconvert_exporter": "python",
   "pygments_lexer": "ipython3",
   "version": "3.9.12"
  }
 },
 "nbformat": 4,
 "nbformat_minor": 5
}

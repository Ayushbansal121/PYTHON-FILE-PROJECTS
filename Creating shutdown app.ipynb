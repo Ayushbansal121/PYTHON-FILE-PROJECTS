{
 "cells": [
  {
   "cell_type": "code",
   "execution_count": 14,
   "id": "8ae207af",
   "metadata": {},
   "outputs": [],
   "source": [
    "#pip install tk"
   ]
  },
  {
   "cell_type": "code",
   "execution_count": 24,
   "id": "35db933b",
   "metadata": {},
   "outputs": [],
   "source": [
    "from tkinter import *"
   ]
  },
  {
   "cell_type": "code",
   "execution_count": 25,
   "id": "bdcc9b97",
   "metadata": {},
   "outputs": [],
   "source": [
    "\n",
    "import os"
   ]
  },
  {
   "cell_type": "code",
   "execution_count": 26,
   "id": "3a06bd41",
   "metadata": {},
   "outputs": [],
   "source": [
    "def Restart():\n",
    "    os.system(\"shutdown/r/t 1\")\n",
    "def Restart_time():\n",
    "    os.system(\"shutdown/r/t 20\")\n",
    "def Log_out():\n",
    "    os.system(\"shutdown -l\")\n",
    "def Shut_Down():\n",
    "    os.system(\"shutdown/r/t 1\")   \n",
    "st=Tk()\n",
    "st.title('ShutDown App')\n",
    "st.geometry(newGeometry=\"500x500\")\n",
    "st.config(bg=\"Black\")\n",
    "r_button=Button(st,text=\"Restart\",font=(\"Time New Roman\",20,\"bold\"),relief=RAISED,cursor='plus',\n",
    "               command=Restart)\n",
    "r_button.place(x=150,y=60,height=50,width=200)\n",
    "\n",
    "rt_button=Button(st,text=\"Restart_time\",font=(\"Time New Roman\",20,\"bold\"),relief=RAISED,cursor='plus',\n",
    "                command=Restart_time)\n",
    "rt_button.place(x=150,y=170,height=50,width=200)\n",
    "\n",
    "lg_button=Button(st,text=\"Log_out\",font=(\"Time New Roman\",20,\"bold\"),relief=RAISED,cursor='plus',\n",
    "                command=Log_out)\n",
    "lg_button.place(x=150,y=270,height=50,width=200)\n",
    "\n",
    "st_button=Button(st,text=\"Shut_Down\",font=(\"Time New Roman\",20,\"bold\"),relief=RAISED,cursor='plus',\n",
    "                command=Shut_Down)\n",
    "st_button.place(x=150,y=370,height=50,width=200)\n",
    "st.mainloop()"
   ]
  },
  {
   "cell_type": "code",
   "execution_count": 30,
   "id": "2cf1f686",
   "metadata": {},
   "outputs": [],
   "source": [
    "from tkinter import *\n",
    "import os\n",
    "def Restart():\n",
    "    os.system(\"shutdown/r/t 1\")\n",
    "def Restart_time():\n",
    "    os.system(\"shutdown/r/t 20\")\n",
    "def Log_out():\n",
    "    os.system(\"shutdown -l\")\n",
    "def Shut_Down():\n",
    "    os.system(\"shutdown/r/t 1\")\n",
    "st=Tk()\n",
    "st.title(\"ShutDown App\")\n",
    "st.geometry(newGeometry=\"500x500\")\n",
    "st.config(bg=\"Black\")\n",
    "r__button=Button(st,text=\"Restart\",font=('Time New Roman',20,\"bold\"),relief=RAISED,cursor=\"plus\",\n",
    "                 command=Restart)\n",
    "r__button.place(x=150,y=60,height=50,width=200)\n",
    "t__button=Button(st,text=\"Restart_time\",font=(\"Time New Roman\",20,\"bold\"),relief=RAISED,cursor='plus',\n",
    "                command=Restart_time)\n",
    "rt__button=Button(st,text=\"Restart_time\",font=(\"Time New Roman\",20,\"bold\"),relief=RAISED,cursor='plus',\n",
    "                command=Restart_time)\n",
    "rt__button.place(x=150,y=170,height=50,width=200)\n",
    "\n",
    "lg__button=Button(st,text=\"Log_out\",font=(\"Time New Roman\",20,\"bold\"),relief=RAISED,cursor='plus',\n",
    "                command=Log_out)\n",
    "lg__button.place(x=150,y=270,height=50,width=200)\n",
    "\n",
    "st__button=Button(st,text=\"Shut_Down\",font=(\"Time New Roman\",20,\"bold\"),relief=RAISED,cursor='plus',\n",
    "                command=Shut_Down)\n",
    "st__button.place(x=150,y=370,height=50,width=200)\n",
    "\n",
    "st.mainloop()"
   ]
  },
  {
   "cell_type": "code",
   "execution_count": null,
   "id": "f7caa0ad",
   "metadata": {},
   "outputs": [],
   "source": []
  },
  {
   "cell_type": "code",
   "execution_count": null,
   "id": "42fdf05b",
   "metadata": {},
   "outputs": [],
   "source": []
  }
 ],
 "metadata": {
  "kernelspec": {
   "display_name": "Python 3 (ipykernel)",
   "language": "python",
   "name": "python3"
  },
  "language_info": {
   "codemirror_mode": {
    "name": "ipython",
    "version": 3
   },
   "file_extension": ".py",
   "mimetype": "text/x-python",
   "name": "python",
   "nbconvert_exporter": "python",
   "pygments_lexer": "ipython3",
   "version": "3.9.12"
  }
 },
 "nbformat": 4,
 "nbformat_minor": 5
}

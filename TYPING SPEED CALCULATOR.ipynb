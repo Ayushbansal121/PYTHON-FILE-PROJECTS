{
 "cells": [
  {
   "cell_type": "code",
   "execution_count": 18,
   "id": "61a1c5c8",
   "metadata": {},
   "outputs": [
    {
     "name": "stdout",
     "output_type": "stream",
     "text": [
      " *****TYPING SPEED***** \n",
      "My name is Ayush Bansal\n",
      "\n",
      "\n",
      "enter : The words\n",
      "  @media print {\n",
      "    .ms-editor-squiggles-container {\n",
      "      display:none !important;\n",
      "    }\n",
      "  }\n",
      "  .ms-editor-squiggles-container {\n",
      "    all: initial;\n",
      "  }My name is Ayush Bansal\n",
      " Speed :7.12 w/s \n",
      " Error :0\n"
     ]
    }
   ],
   "source": [
    "from time import *\n",
    "import random as r\n",
    "test=['''Technology continues to transform our daily lives, offering unprecedented convenience and connectivity. \n",
    "        With the rise of smartphones and the Internet, \n",
    "        information is at our fingertips, and communication knows no bounds.''',\"My name is Ayush Bansal\",\"Think about it\"]\n",
    "def mistake(partest,usertest):\n",
    "    error=0\n",
    "    for i in range(len(partest)):\n",
    "        try:\n",
    "            if partest[i]!=usertest[i]:\n",
    "                error=error+1\n",
    "        except:\n",
    "            error=error+1\n",
    "    return error\n",
    "def speed_time(time_s,time_e,userinput):\n",
    "    time_delay=time_e-time_s\n",
    "    time_r=round(time_delay,2)\n",
    "    speed=len(userinput)-time_r\n",
    "    return round(speed,2)\n",
    "    \n",
    "test1=r.choice(test)\n",
    "print(' *****TYPING SPEED***** ')\n",
    "print(test1)\n",
    "print()\n",
    "print()\n",
    "time1=time()\n",
    "testinput=input('enter : The words')\n",
    "time2=time()\n",
    "print(f\" Speed :{speed_time(time1,time2,testinput)} w/s \")\n",
    "print(f\" Error :{mistake(test1,testinput)}\")"
   ]
  },
  {
   "cell_type": "code",
   "execution_count": null,
   "id": "ac8cf00c",
   "metadata": {},
   "outputs": [],
   "source": []
  },
  {
   "cell_type": "code",
   "execution_count": null,
   "id": "964ce990",
   "metadata": {},
   "outputs": [],
   "source": []
  }
 ],
 "metadata": {
  "kernelspec": {
   "display_name": "Python 3 (ipykernel)",
   "language": "python",
   "name": "python3"
  },
  "language_info": {
   "codemirror_mode": {
    "name": "ipython",
    "version": 3
   },
   "file_extension": ".py",
   "mimetype": "text/x-python",
   "name": "python",
   "nbconvert_exporter": "python",
   "pygments_lexer": "ipython3",
   "version": "3.9.12"
  }
 },
 "nbformat": 4,
 "nbformat_minor": 5
}

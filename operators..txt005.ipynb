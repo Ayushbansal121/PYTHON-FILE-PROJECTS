{
 "cells": [
  {
   "cell_type": "code",
   "execution_count": 17,
   "id": "a9fd0e5d",
   "metadata": {},
   "outputs": [
    {
     "name": "stdout",
     "output_type": "stream",
     "text": [
      "enter your nameayush\n",
      "welcome ayush\n"
     ]
    }
   ],
   "source": [
    "#Write a program that asks the user for his name and then welcomes him.\n",
    "x=input('enter your name')\n",
    "print('welcome',x)"
   ]
  },
  {
   "cell_type": "code",
   "execution_count": 10,
   "id": "2eccc299",
   "metadata": {},
   "outputs": [
    {
     "name": "stdout",
     "output_type": "stream",
     "text": [
      "enter no:5,6\n",
      "Total 11\n"
     ]
    }
   ],
   "source": [
    "#Write a program that prompts the user to enter two integers and display the total on the screen.#\n",
    "x,y=input('enter no:').split(',')\n",
    "x=int(x)\n",
    "y=int(y)\n",
    "y=x+y\n",
    "print('Total',y)"
   ]
  },
  {
   "cell_type": "code",
   "execution_count": 12,
   "id": "e3ebf39d",
   "metadata": {},
   "outputs": [
    {
     "name": "stdout",
     "output_type": "stream",
     "text": [
      "enter temprature:36.8\n",
      "Temparture is fahrenheit 98.24\n"
     ]
    }
   ],
   "source": [
    "#Write a program that prompts the user to input a Celsius temperature and outputs the equivalent temperature in Fahren#heit. The formula to convert the temperature is: F = 9/5 C + 32 where F is the Fahrenheit temperature and C is the Celsius temperature.\n",
    "celcius=float(input('enter temprature:'))\n",
    "fahrenheit = 9/5*celcius + 32\n",
    "print('Temparture is fahrenheit',fahrenheit)"
   ]
  },
  {
   "cell_type": "code",
   "execution_count": 15,
   "id": "3a6f9ae2",
   "metadata": {},
   "outputs": [
    {
     "name": "stdout",
     "output_type": "stream",
     "text": [
      "enter seconds:3600\n",
      "hours: 1\n",
      "minutes: 0\n",
      "seconds: 0\n"
     ]
    }
   ],
   "source": [
    "# Write a program that accepts seconds from keyboard as integer. Your program should converts seconds in hours, minutes and seconds.\n",
    "x=int(input('enter seconds:'))\n",
    "hours=x//3600\n",
    "minutes=(x%3600)//60\n",
    "seconds=x%60\n",
    "print('hours:',hours)\n",
    "print('minutes:',minutes)\n",
    "print('seconds:',seconds)"
   ]
  },
  {
   "cell_type": "code",
   "execution_count": 18,
   "id": "9b9eac2e",
   "metadata": {},
   "outputs": [
    {
     "name": "stdout",
     "output_type": "stream",
     "text": [
      "enter no:388,45,56\n",
      "simple_interest 9777.6\n"
     ]
    }
   ],
   "source": [
    "# Write a program which accept principle, rate and time from user and print the simple interest. The formula to calculate simple interest \n",
    "p,r,t=input('enter no:').split(',')\n",
    "p=int(p)\n",
    "r=int(r)\n",
    "t=int(t)\n",
    "simple_interest = p*r*t / 100\n",
    "print('simple_interest',simple_interest)"
   ]
  },
  {
   "cell_type": "code",
   "execution_count": 28,
   "id": "4285c190",
   "metadata": {},
   "outputs": [
    {
     "name": "stdout",
     "output_type": "stream",
     "text": [
      "enter x variable:34\n",
      "enter y variable:67\n",
      "y is 34\n",
      "x is 67\n"
     ]
    }
   ],
   "source": [
    "x=int(input('enter x variable:'))\n",
    "y=int(input('enter y variable:'))\n",
    "x,y==y,x\n",
    "print('y is',x)\n",
    "print('x is',y)\n",
    "\n"
   ]
  },
  {
   "cell_type": "code",
   "execution_count": 29,
   "id": "5fa9fa6a",
   "metadata": {},
   "outputs": [
    {
     "name": "stdout",
     "output_type": "stream",
     "text": [
      "enter x variable:4\n",
      "enter y variable:5\n",
      "y is 5\n",
      "x is 4\n"
     ]
    }
   ],
   "source": [
    "x=int(input('enter x variable:'))\n",
    "y=int(input('enter y variable:'))\n",
    "z=x\n",
    "x=y\n",
    "y=z\n",
    "print('y is',x)\n",
    "print('x is',y)\n"
   ]
  },
  {
   "cell_type": "code",
   "execution_count": 34,
   "id": "86d4d909",
   "metadata": {},
   "outputs": [
    {
     "name": "stdout",
     "output_type": "stream",
     "text": [
      "enter radius:3.4\n",
      "area: 36.2984\n",
      "circumference: 21.352\n"
     ]
    }
   ],
   "source": [
    "#Write a program that prompts the user to input the radius of a circle and outputs the area and circumference of the circle. The formula is\n",
    "r=float(input('enter radius:'))\n",
    "area =3.14*r**2\n",
    "circumference = 2*3.14*r\n",
    "print('area:',area)\n",
    "print('circumference:',circumference)"
   ]
  },
  {
   "cell_type": "code",
   "execution_count": 39,
   "id": "b2e1497b",
   "metadata": {},
   "outputs": [
    {
     "name": "stdout",
     "output_type": "stream",
     "text": [
      "enter Length:34\n",
      "enter Width:56\n",
      "Area: 1904.0\n",
      "Circumference: 180.0\n"
     ]
    }
   ],
   "source": [
    "#Write a program that prompts the user to input the length and the width of a rectangle and outputs the area and circumference of the rectangle.\n",
    "L=float(input('enter Length:'))\n",
    "W=float(input('enter Width:'))\n",
    "Area = L*W\n",
    "Circumference = 2*(L+W) \n",
    "print('Area:',Area)\n",
    "print('Circumference:',Circumference)"
   ]
  },
  {
   "cell_type": "code",
   "execution_count": 41,
   "id": "82e2b532",
   "metadata": {},
   "outputs": [
    {
     "name": "stdout",
     "output_type": "stream",
     "text": [
      "Enter length of side 1: 10\n",
      "Enter length of side 2: 11\n",
      "Enter length of side 3: 13\n",
      "area: 53.44155686354955\n"
     ]
    }
   ],
   "source": [
    "#Suppose a, b, and c denote the lengths of the sides of a triangle. Then the area of the triangle can be calculated using the formula:\n",
    "import math\n",
    "side1= float(input(\"Enter length of side 1: \"))\n",
    "side2= float(input(\"Enter length of side 2: \"))\n",
    "side3= float(input(\"Enter length of side 3: \"))\n",
    "s=(side1+side2+side3)/2\n",
    "area=math.sqrt((s*(s - side1)*(s - side2)*(s - side3)))\n",
    "print('area:',area)"
   ]
  },
  {
   "cell_type": "code",
   "execution_count": 1,
   "id": "3a016715",
   "metadata": {},
   "outputs": [
    {
     "name": "stdout",
     "output_type": "stream",
     "text": [
      "/n\n"
     ]
    }
   ],
   "source": [
    "print('/n')"
   ]
  },
  {
   "cell_type": "code",
   "execution_count": 2,
   "id": "10deac4f",
   "metadata": {},
   "outputs": [
    {
     "name": "stdout",
     "output_type": "stream",
     "text": [
      "\n",
      "\n"
     ]
    }
   ],
   "source": [
    "print('\\n') # empty"
   ]
  },
  {
   "cell_type": "code",
   "execution_count": 4,
   "id": "8b776214",
   "metadata": {},
   "outputs": [
    {
     "name": "stdout",
     "output_type": "stream",
     "text": [
      "enter radius3.4\n",
      "36.2984 area of circle\n"
     ]
    }
   ],
   "source": [
    "#Write a Python program which accepts the radius of a circle from the user and compute the area. of circl\n",
    "r=float(input('enter radius:'))\n",
    "area_of_circle=3.14*r**2\n",
    "print(area_of_circle,'area of circle')"
   ]
  },
  {
   "cell_type": "code",
   "execution_count": 5,
   "id": "1cdb1dbd",
   "metadata": {},
   "outputs": [
    {
     "name": "stdout",
     "output_type": "stream",
     "text": [
      "904.3199999999999 volume_of_sphere\n"
     ]
    }
   ],
   "source": [
    "#Write a Python program to get the volume of a sphere with radius 6.\n",
    "volume_of_sphere=4/3*3.14*6**3\n",
    "print(volume_of_sphere,'volume_of_sphere')"
   ]
  },
  {
   "cell_type": "code",
   "execution_count": 8,
   "id": "a62d622b",
   "metadata": {},
   "outputs": [
    {
     "name": "stdout",
     "output_type": "stream",
     "text": [
      "enter the no:3,4,5\n",
      "36 sum\n"
     ]
    }
   ],
   "source": [
    "#Write a Python program to calculate the sum of three equal numbers, and the result is the three times of their sum.\n",
    "x,y,z=input('enter the no:').split(',')\n",
    "x=int(x)\n",
    "y=int(y)\n",
    "z=int(z)\n",
    "sum=(x+y+z*3\n",
    "print(sum,'sum')"
   ]
  },
  {
   "cell_type": "code",
   "execution_count": 11,
   "id": "618f1095",
   "metadata": {},
   "outputs": [
    {
     "name": "stdout",
     "output_type": "stream",
     "text": [
      "enter no:2\n",
      "8\n"
     ]
    }
   ],
   "source": [
    "#Write a Python program to calculate the cube of any number which was taken by input\n",
    "x=int(input('enter no:'))\n",
    "z=x**3\n",
    "print(z)"
   ]
  },
  {
   "cell_type": "code",
   "execution_count": 12,
   "id": "bcd35a4f",
   "metadata": {},
   "outputs": [
    {
     "name": "stdout",
     "output_type": "stream",
     "text": [
      "1\n",
      "77\n"
     ]
    }
   ],
   "source": [
    "#Write a Python program to swap two variables\n",
    "#Test Data : a = 77, x= 1\n",
    "#Expected Output : a= 1, x=77\n",
    "a=77\n",
    "x=1\n",
    "z=a\n",
    "a=x\n",
    "x=z\n",
    "print(a)\n",
    "print(x)"
   ]
  },
  {
   "cell_type": "code",
   "execution_count": 14,
   "id": "b790e3dd",
   "metadata": {},
   "outputs": [
    {
     "name": "stdout",
     "output_type": "stream",
     "text": [
      "enter no:3\n",
      "enter no:4\n",
      "5.0 hypotenuse\n"
     ]
    }
   ],
   "source": [
    "#Write a Python program to calculate the hypotenuse of a right angled triangle.\n",
    "from math import sqrt\n",
    "a=float(input('enter no:'))\n",
    "b=float(input('enter no:'))\n",
    "c=sqrt(a**2+b**2)\n",
    "print(c,'hypotenuse')\n"
   ]
  },
  {
   "cell_type": "code",
   "execution_count": 16,
   "id": "e270b83d",
   "metadata": {},
   "outputs": [
    {
     "data": {
      "text/plain": [
       "246"
      ]
     },
     "execution_count": 16,
     "metadata": {},
     "output_type": "execute_result"
    }
   ],
   "source": [
    "#Write a Python program to convert (parse) a string to Float or Integer.\n",
    "#Test Data : \"246.2458\"\n",
    "#Expected Output : 246\n",
    "x= \"246.2458\"\n",
    "y=float(x)\n",
    "z=int(y)\n",
    "z"
   ]
  },
  {
   "cell_type": "code",
   "execution_count": null,
   "id": "4bafcf4a",
   "metadata": {},
   "outputs": [],
   "source": []
  }
 ],
 "metadata": {
  "kernelspec": {
   "display_name": "Python 3 (ipykernel)",
   "language": "python",
   "name": "python3"
  },
  "language_info": {
   "codemirror_mode": {
    "name": "ipython",
    "version": 3
   },
   "file_extension": ".py",
   "mimetype": "text/x-python",
   "name": "python",
   "nbconvert_exporter": "python",
   "pygments_lexer": "ipython3",
   "version": "3.9.12"
  }
 },
 "nbformat": 4,
 "nbformat_minor": 5
}
